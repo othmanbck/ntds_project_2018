{
 "cells": [
  {
   "cell_type": "markdown",
   "metadata": {},
   "source": [
    "# [NTDS'18] milestone 2: network models\n",
    "[ntds'18]: https://github.com/mdeff/ntds_2018\n",
    "\n",
    "[Hermina Petric Maretic](https://people.epfl.ch/hermina.petricmaretic), [EPFL LTS4](https://lts4.epfl.ch)"
   ]
  },
  {
   "cell_type": "markdown",
   "metadata": {},
   "source": [
    "## Students\n",
    "\n",
    "* Team: 31\n",
    "* Students: Dilara Günay, Derin Sinan Bursa, Othman Benchekroun, Sinan Gökçe\n",
    "* Dataset: IMDb Films and Crew"
   ]
  },
  {
   "cell_type": "markdown",
   "metadata": {},
   "source": [
    "## Rules\n",
    "\n",
    "* Milestones have to be completed by teams. No collaboration between teams is allowed.\n",
    "* Textual answers shall be short. Typically one to two sentences.\n",
    "* Code has to be clean.\n",
    "* In the first part, you cannot import any other library than we imported. In the second part, you are allowed to import any library you want.\n",
    "* When submitting, the notebook is executed and the results are stored. I.e., if you open the notebook again it should show numerical results and plots. We won't be able to execute your notebooks.\n",
    "* The notebook is re-executed from a blank state before submission. That is to be sure it is reproducible. You can click \"Kernel\" then \"Restart & Run All\" in Jupyter."
   ]
  },
  {
   "cell_type": "markdown",
   "metadata": {},
   "source": [
    "## Objective\n",
    "\n",
    "The purpose of this milestone is to explore various random network models, analyse their properties and compare them to your network. In the first part of the milestone you will implement two random graph models and try to fit them to your network. In this part you are not allowed to use any additional package. In the second part of the milestone you will choose a third random graph model that you think shares some properties with your network. You will be allowed to use additional packages to construct this network, but you must explain your network choice. Finally, make your code as clean as possible, and keep your textual answers short."
   ]
  },
  {
   "cell_type": "markdown",
   "metadata": {},
   "source": [
    "## Part 0\n",
    "\n",
    "Import the adjacency matrix of your graph that you constructed in milestone 1, as well as the number of nodes and edges of your network."
   ]
  },
  {
   "cell_type": "code",
   "execution_count": 1,
   "metadata": {},
   "outputs": [],
   "source": [
    "import pandas as pd\n",
    "import numpy as np"
   ]
  },
  {
   "cell_type": "code",
   "execution_count": 2,
   "metadata": {},
   "outputs": [],
   "source": [
    "adjacency = pd.read_csv('../Different Adjacency/CoAppearance-bechdel/CoAppAdjacency.csv', index_col=0)\n",
    "adjacency = pd.DataFrame(adjacency)\n",
    "n_nodes = len(adjacency)\n",
    "non_connected = list(adjacency.columns[adjacency.sum() == 0])\n",
    "adjacency = adjacency.drop(columns=non_connected)\n",
    "non_connected_rows = [int(x) for x in non_connected]\n",
    "adjacency = adjacency.drop(non_connected_rows, axis=0)\n",
    "edges = pd.read_csv('../Different Adjacency/CoAppearance-bechdel/CoAppBechdelEdges.csv', index_col=0)\n",
    "n_edges = len(edges)"
   ]
  },
  {
   "cell_type": "markdown",
   "metadata": {},
   "source": [
    "## Part 1\n",
    "\n",
    "**For the computation of this part of the milestone you are only allowed to use the packages that have been imported in the cell below.**"
   ]
  },
  {
   "cell_type": "code",
   "execution_count": 3,
   "metadata": {},
   "outputs": [],
   "source": [
    "%matplotlib inline\n",
    "\n",
    "import random\n",
    "\n",
    "import numpy as np\n",
    "import pandas as pd\n",
    "import matplotlib.pyplot as plt\n",
    "import scipy"
   ]
  },
  {
   "cell_type": "markdown",
   "metadata": {},
   "source": [
    "**Explanation:** The following function creates the Erdös-Renyi graph. The function takes the number of nodes, the edge probability and the optional seed parameter as inputs. It returns the corresponding random Erdos-Renyi graph. The function adds one node at a time to the existing graph and it creates edges between the new and the existing nodes if the probability given (p) is higher than the randomly generated probability. For the sake of minimum computation, the edges are created only for the upper triangle of the adjacency matrix and then it's copied to the lower triangle."
   ]
  },
  {
   "cell_type": "code",
   "execution_count": 4,
   "metadata": {},
   "outputs": [],
   "source": [
    "def erdos_renyi(n, p, seed=None):\n",
    "    \n",
    "    \"\"\"Create an instance from the Erdos-Renyi graph model.\n",
    "    \n",
    "    Parameters\n",
    "    ----------\n",
    "    n: int\n",
    "        Size of the graph.\n",
    "    p: float\n",
    "        Edge probability. A number between 0 and 1.\n",
    "    seed: int (optional)\n",
    "        Seed for the random number generator. To get reproducible results.\n",
    "    \n",
    "    Returns\n",
    "    -------\n",
    "    adjacency\n",
    "        The adjacency matrix of a graph.\n",
    "    \"\"\"\n",
    "    \n",
    "    #Creating an empty n*n adjacency matrix\n",
    "    adjacency = np.zeros(shape=(n,n))\n",
    "    # Seeding the random number generator\n",
    "    np.random.seed(seed)\n",
    "    #Since the adjacency matrix is symmetric, we compute only the upper triangle part of the adjacency matrix \n",
    "    for i in range(0,n):\n",
    "        for j in range(i+1,n):\n",
    "            r = np.random.random()               \n",
    "            if p > r:\n",
    "                adjacency[i,j] = 1\n",
    "                adjacency[j,i] = 1\n",
    "            else:\n",
    "                continue\n",
    "    \n",
    "    return adjacency"
   ]
  },
  {
   "cell_type": "code",
   "execution_count": 5,
   "metadata": {},
   "outputs": [
    {
     "data": {
      "text/plain": [
       "Text(0.5, 1.05, 'Erdos-Renyi (5, 0.6)')"
      ]
     },
     "execution_count": 5,
     "metadata": {},
     "output_type": "execute_result"
    },
    {
     "data": {
      "image/png": "[encoded data removed]",
      "text/plain": [
       "<Figure size 432x288 with 1 Axes>"
      ]
     },
     "metadata": {
      "needs_background": "light"
     },
     "output_type": "display_data"
    }
   ],
   "source": [
    "er = erdos_renyi(5, 0.6, 9765) #seed = 9765\n",
    "plt.spy(er)\n",
    "plt.title('Erdos-Renyi (5, 0.6)')"
   ]
  },
  {
   "cell_type": "code",
   "execution_count": 6,
   "metadata": {},
   "outputs": [
    {
     "data": {
      "text/plain": [
       "Text(0.5, 1.05, 'Erdos-Renyi (10, 0.4)')"
      ]
     },
     "execution_count": 6,
     "metadata": {},
     "output_type": "execute_result"
    },
    {
     "data": {
      "image/png": "[encoded data removed]",
      "text/plain": [
       "<Figure size 432x288 with 1 Axes>"
      ]
     },
     "metadata": {
      "needs_background": "light"
     },
     "output_type": "display_data"
    }
   ],
   "source": [
    "er = erdos_renyi(10, 0.4, 7468) #seed = 7468\n",
    "plt.spy(er)\n",
    "plt.title('Erdos-Renyi (10, 0.4)')"
   ]
  },
  {
   "cell_type": "markdown",
   "metadata": {},
   "source": [
    "### Question 2\n",
    "\n",
    "Use the function to create a random Erdos-Renyi graph. Choose the parameters such that number of nodes is the same as in your graph, and the number of edges similar. You don't need to set the random seed. Comment on your choice of parameters."
   ]
  },
  {
   "cell_type": "code",
   "execution_count": 7,
   "metadata": {},
   "outputs": [
    {
     "name": "stdout",
     "output_type": "stream",
     "text": [
      "0.02185258509568832\n"
     ]
    }
   ],
   "source": [
    "prob = 2*n_edges/(n_nodes*(n_nodes-1)) #Random Networks slide 9/52\n",
    "print(prob)"
   ]
  },
  {
   "cell_type": "code",
   "execution_count": 8,
   "metadata": {},
   "outputs": [
    {
     "data": {
      "text/plain": [
       "Text(0.5, 1.05, 'Erdos-Renyi (10, 0.0219)')"
      ]
     },
     "execution_count": 8,
     "metadata": {},
     "output_type": "execute_result"
    },
    {
     "data": {
      "image/png": "[encoded data removed]",
      "text/plain": [
       "<Figure size 432x288 with 1 Axes>"
      ]
     },
     "metadata": {
      "needs_background": "light"
     },
     "output_type": "display_data"
    }
   ],
   "source": [
    "random_er = erdos_renyi(n=n_nodes, p=prob)\n",
    "plt.spy(random_er)\n",
    "plt.title('Erdos-Renyi (10, {:.4f})'.format(prob))"
   ]
  },
  {
   "cell_type": "code",
   "execution_count": 9,
   "metadata": {},
   "outputs": [
    {
     "data": {
      "text/plain": [
       "53133"
      ]
     },
     "execution_count": 9,
     "metadata": {},
     "output_type": "execute_result"
    }
   ],
   "source": [
    "edges_erdos = np.count_nonzero(np.triu(random_er))\n",
    "edges_erdos"
   ]
  },
  {
   "cell_type": "markdown",
   "metadata": {},
   "source": [
    "**Answer:** Without calculating the edge probability, we first chose a random probability $0.4$ and the random Erdos-Renyi graph resulted in $2835900$ edges which is much bigger than the actual number of edges of our graph ($206391$).\n",
    "\n",
    "Therefore, the edge probability should be calculated given the number of edges and nodes such that the created random graph gives approximately the same number of edges. The formula used is $prob = 2*\\dfrac{n\\_edges}{n\\_nodes*(n\\_nodes-1)}$ and has been taken from the course slides. After replacing the number of edges and nodes in the formula, probability is $0.029112228727151933$."
   ]
  },
  {
   "cell_type": "markdown",
   "metadata": {},
   "source": [
    "### Question 3\n",
    "\n",
    "Create a function that constructs a Barabási-Albert graph."
   ]
  },
  {
   "cell_type": "markdown",
   "metadata": {},
   "source": [
    "**Explanation:** The following function creates the Barabasi-Albert graph. It takes the number of nodes, the number of edges to attach from a new node to existing nodes and number of nodes for the initial connected network that is equal to 2 by default. Also, optionally a seed for the random number generator can be given as an input to get reproducible results. It returns the corresponding random Barabasi-Albert graph. In the function itself, firstly an initial connected network is formed with m0 nodes. Later, one more new node is connected to m nodes until there are n number of nodes (given as input) in the connected graph. For the sake of minimum computation, the edges are created only for the upper triangle of the adjacency matrix and then it's copied to the lower triangle."
   ]
  },
  {
   "cell_type": "code",
   "execution_count": 10,
   "metadata": {},
   "outputs": [],
   "source": [
    "def barabasi_albert(n, m, m0=2, seed=None):\n",
    "    \"\"\"Create an instance from the Barabasi-Albert graph model.\n",
    "    \n",
    "    Parameters\n",
    "    ----------\n",
    "    n: int\n",
    "        Size of the graph.\n",
    "    m: int\n",
    "        Number of edges to attach from a new node to existing nodes.\n",
    "    m0: int (optional)\n",
    "        Number of nodes for the inital connected network.\n",
    "    seed: int (optional)\n",
    "        Seed for the random number generator. To get reproducible results.\n",
    "    \n",
    "    Returns\n",
    "    -------\n",
    "    adjacency\n",
    "        The adjacency matrix of a graph.\n",
    "    \"\"\"   \n",
    "    m0 = int(m0)\n",
    "    random.seed(seed)\n",
    "    # Add m0 initial nodes\n",
    "    adjacency = np.zeros(shape=(n,n))\n",
    "    for k in range(m0):\n",
    "        for l in range(k+1,m0):\n",
    "            adjacency[k,l] = 1\n",
    "            \n",
    "    # List of existing nodes, with nodes repeated once for each adjacent edge \n",
    "    visited_nodes = list(range(m0))\n",
    "    \n",
    "    # Target nodes for new edges \n",
    "    target = random.sample(range(len(visited_nodes)),m)\n",
    "    \n",
    "    # Start adding the other n-m nodes. The first node is m. \n",
    "    for i in range(m0, n):\n",
    "        for j in range(m):\n",
    "            adjacency[target[j],i] = 1\n",
    "        visited_nodes.extend([i])\n",
    "        target = random.sample(range(len(visited_nodes)),m)\n",
    "    \n",
    "    adjacency = adjacency + np.transpose(adjacency)\n",
    "    \n",
    "    \n",
    "    return adjacency"
   ]
  },
  {
   "cell_type": "code",
   "execution_count": 11,
   "metadata": {},
   "outputs": [
    {
     "data": {
      "image/png": "[encoded data removed]",
      "text/plain": [
       "<Figure size 432x288 with 1 Axes>"
      ]
     },
     "metadata": {
      "needs_background": "light"
     },
     "output_type": "display_data"
    }
   ],
   "source": [
    "ba = barabasi_albert(5, 1, 2, 9087)\n",
    "plt.spy(ba)\n",
    "plt.title('Barabasi-Albert (5, 1)');"
   ]
  },
  {
   "cell_type": "code",
   "execution_count": 12,
   "metadata": {},
   "outputs": [
    {
     "data": {
      "text/plain": [
       "Text(0.5, 1.05, 'Barabasi-Albert (10, 2)')"
      ]
     },
     "execution_count": 12,
     "metadata": {},
     "output_type": "execute_result"
    },
    {
     "data": {
      "image/png": "[encoded data removed]",
      "text/plain": [
       "<Figure size 432x288 with 1 Axes>"
      ]
     },
     "metadata": {
      "needs_background": "light"
     },
     "output_type": "display_data"
    }
   ],
   "source": [
    "ba = barabasi_albert(10, 2, 3, 8708)\n",
    "plt.spy(ba)\n",
    "plt.title('Barabasi-Albert (10, 2)')"
   ]
  },
  {
   "cell_type": "markdown",
   "metadata": {},
   "source": [
    "### Question 4\n",
    "\n",
    "Use the function to create a random Barabási-Albert graph. Choose the parameters such that number of nodes is the same as in your graph, and the number of edges similar. You don't need to set the random seed. Comment on your choice of parameters."
   ]
  },
  {
   "cell_type": "code",
   "execution_count": 13,
   "metadata": {},
   "outputs": [],
   "source": [
    "n = n_nodes\n",
    "m = int(n_edges/n_nodes)\n",
    "m0 = int(n_edges/n_nodes)"
   ]
  },
  {
   "cell_type": "code",
   "execution_count": 14,
   "metadata": {},
   "outputs": [
    {
     "data": {
      "text/plain": [
       "Text(0.5, 1.05, 'Barabasi-Albert (10, 24)')"
      ]
     },
     "execution_count": 14,
     "metadata": {},
     "output_type": "execute_result"
    },
    {
     "data": {
      "image/png": "[encoded data removed]",
      "text/plain": [
       "<Figure size 432x288 with 1 Axes>"
      ]
     },
     "metadata": {
      "needs_background": "light"
     },
     "output_type": "display_data"
    }
   ],
   "source": [
    "random_ba = barabasi_albert(n, m, m0)\n",
    "plt.spy(random_ba)\n",
    "plt.title('Barabasi-Albert (10, {})'.format(m))"
   ]
  },
  {
   "cell_type": "code",
   "execution_count": 15,
   "metadata": {},
   "outputs": [
    {
     "data": {
      "text/plain": [
       "52644"
      ]
     },
     "execution_count": 15,
     "metadata": {},
     "output_type": "execute_result"
    }
   ],
   "source": [
    "edges_barabasi = np.count_nonzero(np.triu(random_ba))\n",
    "edges_barabasi"
   ]
  },
  {
   "cell_type": "markdown",
   "metadata": {},
   "source": [
    "**Answer:** Firstly, we chose the $n$ as the original number of nodes of our graph. In a Barabasi-Albert graph, number of edges is equal to $m$ multiplied with number of nodes where $m$ is the number of edges per node. Hence we have chosen the input m as **number of edges/number of nodes**. Additionally, the number of nodes for the initial graph that is $m0$ is also equal to **number of edges/number of nodes**. In the end, we have obtained $201879$ edges where our original number of edges is $206391$. Hence, it could be stated that we have obtained a similar number of edges with these parameters."
   ]
  },
  {
   "cell_type": "markdown",
   "metadata": {},
   "source": [
    "### Question 5\n",
    "\n",
    "Compare the number of edges in all three networks (your real network, the Erdős–Rényi network, and the Barabási-Albert netowk)."
   ]
  },
  {
   "cell_type": "code",
   "execution_count": 16,
   "metadata": {},
   "outputs": [
    {
     "name": "stdout",
     "output_type": "stream",
     "text": [
      "Number of edges in our network :  53148\n",
      "Number of edges in the Erdős–Rényi network :  53133\n",
      "Number of edges in the Barabási-Albert network :  52644\n"
     ]
    }
   ],
   "source": [
    "print(\"Number of edges in our network : \", n_edges)\n",
    "print(\"Number of edges in the Erdős–Rényi network : \", edges_erdos)\n",
    "print(\"Number of edges in the Barabási-Albert network : \", edges_barabasi)"
   ]
  },
  {
   "cell_type": "markdown",
   "metadata": {},
   "source": [
    "### Question 6\n",
    "\n",
    "Implement a function that computes the [Kullback–Leibler (KL) divergence](https://en.wikipedia.org/wiki/Kullback%E2%80%93Leibler_divergence) between two probability distributions.\n",
    "We'll use it to compare the degree distributions of networks."
   ]
  },
  {
   "cell_type": "code",
   "execution_count": 17,
   "metadata": {},
   "outputs": [],
   "source": [
    "def kl_divergence(p, q):\n",
    "    \"\"\"Compute the KL divergence between probability distributions of degrees of two networks.\n",
    "    \n",
    "    Parameters\n",
    "    ----------\n",
    "    p: np.array\n",
    "        Probability distribution of degrees of the 1st graph.\n",
    "    q: np.array\n",
    "        Probability distribution of degrees of the 2nd graph.\n",
    "    \n",
    "    Returns\n",
    "    -------\n",
    "    kl\n",
    "        The KL divergence between tmhe two distributions.\n",
    "    \"\"\"\n",
    "    \n",
    "    assert len(p) == len(q)\n",
    "    \n",
    "    kl = 0\n",
    "    \n",
    "    for i in range(len(p)):\n",
    "        kl = kl + (p[i] * np.log(p[i]/q[i]))\n",
    "    \n",
    "    return kl"
   ]
  },
  {
   "cell_type": "code",
   "execution_count": 18,
   "metadata": {},
   "outputs": [
    {
     "data": {
      "text/plain": [
       "0.09151622184943575"
      ]
     },
     "execution_count": 18,
     "metadata": {},
     "output_type": "execute_result"
    }
   ],
   "source": [
    "p_test = np.array([0.2, 0.2, 0.2, 0.4])\n",
    "q_test = np.array([0.3, 0.3, 0.1, 0.3])\n",
    "kl_divergence(p_test, q_test)"
   ]
  },
  {
   "cell_type": "markdown",
   "metadata": {},
   "source": [
    "### Question 7: \n",
    "\n",
    "Compare the degree distribution of your network to each of the two synthetic ones, in terms of KL divergence.\n",
    "\n",
    "**Hint:** Make sure you normalise your degree distributions to make them valid probability distributions.\n",
    "\n",
    "**Hint:** Make sure none of the graphs have disconnected nodes, as KL divergence will not be defined in that case. If that happens with one of the randomly generated networks, you can regenerate it and keep the seed that gives you no disconnected nodes."
   ]
  },
  {
   "cell_type": "markdown",
   "metadata": {},
   "source": [
    "**Explanation:** We are using the same methodology for each of the 3 graphs in order to determine the best binnings to calculate the KL divergence. First, we determine the range of values of the graph's degrees ($\\texttt{range(i, j)}$). Then, we try to see which values are actually missing in order to bin the degrees together in the best way possible. "
   ]
  },
  {
   "cell_type": "markdown",
   "metadata": {},
   "source": [
    "#### Our network :"
   ]
  },
  {
   "cell_type": "code",
   "execution_count": 19,
   "metadata": {
    "scrolled": true
   },
   "outputs": [
    {
     "data": {
      "text/plain": [
       "pandas.core.frame.DataFrame"
      ]
     },
     "execution_count": 19,
     "metadata": {},
     "output_type": "execute_result"
    }
   ],
   "source": [
    "type(adjacency)"
   ]
  },
  {
   "cell_type": "code",
   "execution_count": 20,
   "metadata": {},
   "outputs": [],
   "source": [
    "degree_adj = np.count_nonzero(adjacency, axis=1)\n",
    "unique_adj, counts_adj = np.unique(degree_adj, return_counts=True)\n",
    "counts_adj = counts_adj / float(n_nodes)\n",
    "weights_adj = dict(zip(unique_adj, counts_adj))"
   ]
  },
  {
   "cell_type": "code",
   "execution_count": 21,
   "metadata": {},
   "outputs": [
    {
     "name": "stdout",
     "output_type": "stream",
     "text": [
      "[108, 126, 128, 141, 142, 143, 146, 148, 149, 150, 151, 152, 154, 155, 156, 157, 161, 162, 163, 165, 168, 169, 170, 171, 172, 173, 174, 175, 176, 177, 178, 179, 180, 181, 182, 183, 184, 185, 186, 187, 188, 189, 191, 192, 193, 194, 195, 196, 197, 198, 199, 200, 201, 202, 203, 204, 205, 206, 207, 208, 210, 211, 212, 213, 214, 215, 216, 217, 218, 219, 220, 221, 222, 223, 224, 225, 226, 227, 228, 229, 230, 232, 233, 234, 235, 236, 237, 238, 239, 240, 241, 242, 243, 244, 245, 246, 247, 248, 249, 250, 251, 252, 253, 254, 255, 256, 257, 258, 259, 260, 261, 262, 263, 264, 265, 266, 267, 268, 269, 270, 271, 272, 273, 274, 275, 276, 277, 278, 279, 280, 281, 282, 283, 284, 285, 286, 287, 288, 289, 290, 291, 292, 293, 294, 295, 296, 297, 298, 299, 300, 301, 302, 303, 304, 305, 306, 307, 308, 309, 310, 311, 312, 313, 314, 315, 316, 317, 318, 319, 320, 321, 322, 323, 324, 325, 326, 327, 328, 329, 330, 331, 332, 333, 334, 335, 336, 337, 338, 339, 340, 341, 342, 343, 344, 345, 346, 347, 348, 349, 350, 351, 352, 353, 354, 355, 356, 357, 358, 359, 360, 361, 362, 363, 364, 365, 366, 367, 368, 369, 370, 371, 372, 373, 374, 375, 376, 377, 378, 379, 380, 381, 382, 383, 384, 385, 386, 387, 388, 389, 390, 391, 392, 393, 394, 395, 396, 397, 398, 399, 400, 401, 402, 403, 404, 405, 406, 407, 408, 409, 410, 411, 412, 413, 414, 415, 416, 417, 418, 419, 420, 421, 422, 423, 424, 425, 426, 427, 428, 429, 430, 431, 432, 433, 434, 435, 436, 437, 438, 439, 440, 441, 442, 443, 444, 445, 446, 447, 448, 449, 450, 451, 452, 453, 454, 455, 456, 457, 458, 459, 460, 461, 462, 463, 464, 465, 466, 467, 468, 469, 470, 471, 472, 473, 474, 475, 476, 477, 478, 479, 480, 481, 482, 483, 484, 485, 486, 487, 488, 489, 490, 491, 492, 493, 494, 495, 496, 497, 498, 499, 500, 501, 502, 503, 504, 505, 506, 507, 508, 509, 510, 511, 512, 513, 514, 515, 516, 517, 518, 519, 520, 521, 522, 523, 524, 525, 526, 527, 528, 529, 530, 531, 532, 533, 534, 535, 536, 537, 538, 539, 540, 541, 542, 543, 544, 545, 546, 547, 548, 549, 550, 551, 552, 553, 554, 555, 556, 557, 558, 559, 560, 561, 562, 563, 564, 565, 566, 567, 568, 569, 570, 571, 572, 573, 574, 575, 576, 577, 578, 579, 580, 581, 582, 583, 584, 585, 586, 587, 588, 589, 590, 591, 592, 593, 594, 595, 596, 597, 598, 599, 600, 601, 602, 603, 604, 605, 606, 607, 608, 609, 610, 611, 612, 613, 614, 615, 616, 617, 618, 619, 620, 621, 622, 623]\n"
     ]
    }
   ],
   "source": [
    "values_adj = set(range(1, 624))\n",
    "degrees_adj = set(degree_adj)\n",
    "print(sorted(values_adj - degrees_adj))"
   ]
  },
  {
   "cell_type": "markdown",
   "metadata": {},
   "source": [
    "#### Erdős–Rényi network : "
   ]
  },
  {
   "cell_type": "code",
   "execution_count": 22,
   "metadata": {
    "scrolled": true
   },
   "outputs": [
    {
     "data": {
      "text/plain": [
       "numpy.ndarray"
      ]
     },
     "execution_count": 22,
     "metadata": {},
     "output_type": "execute_result"
    }
   ],
   "source": [
    "type(random_er)"
   ]
  },
  {
   "cell_type": "code",
   "execution_count": 23,
   "metadata": {},
   "outputs": [],
   "source": [
    "degree_er = np.count_nonzero(random_er, axis=1)\n",
    "unique_er, counts_er = np.unique(degree_er, return_counts=True)\n",
    "counts_er = counts_er / float(n_nodes)\n",
    "weights_er = dict(zip(unique_er, counts_er))"
   ]
  },
  {
   "cell_type": "code",
   "execution_count": 24,
   "metadata": {},
   "outputs": [
    {
     "name": "stdout",
     "output_type": "stream",
     "text": [
      "28 73\n",
      "[70, 72]\n"
     ]
    }
   ],
   "source": [
    "values_er = set(range(min(unique_er), max(unique_er)))\n",
    "degrees_er = set(degree_er)\n",
    "print(min(unique_er), max(unique_er))\n",
    "print(sorted(values_er - degrees_er))"
   ]
  },
  {
   "cell_type": "markdown",
   "metadata": {},
   "source": [
    "**Explanation:** In this case, we see that some missing values are consecutive, which means the best binning is through batches of 3. Moreover, to avoid having $0$ values, we concatenate all the extreme values to the first –_respectively last_– non-null values."
   ]
  },
  {
   "cell_type": "code",
   "execution_count": 25,
   "metadata": {},
   "outputs": [],
   "source": [
    "bins_er = [1]+[77+3*i for i in range(23)]+[623]"
   ]
  },
  {
   "cell_type": "code",
   "execution_count": 26,
   "metadata": {},
   "outputs": [],
   "source": [
    "dist_er = np.histogram(unique_er, weights=counts_er, bins = bins_er)[0]\n",
    "dist_adj_er = np.histogram(unique_adj, weights=counts_adj, bins = bins_er)[0]"
   ]
  },
  {
   "cell_type": "code",
   "execution_count": 27,
   "metadata": {},
   "outputs": [
    {
     "name": "stdout",
     "output_type": "stream",
     "text": [
      "nan\n"
     ]
    },
    {
     "name": "stderr",
     "output_type": "stream",
     "text": [
      "/anaconda3/lib/python3.6/site-packages/ipykernel_launcher.py:22: RuntimeWarning: divide by zero encountered in log\n",
      "/anaconda3/lib/python3.6/site-packages/ipykernel_launcher.py:22: RuntimeWarning: invalid value encountered in double_scalars\n"
     ]
    }
   ],
   "source": [
    "kl_adj_er = kl_divergence(dist_er, dist_adj_er)\n",
    "print(kl_adj_er)"
   ]
  },
  {
   "cell_type": "markdown",
   "metadata": {},
   "source": [
    "**Answer:** In this case, we have that $KL>1$, meaning the 2 distributions are not similar at all."
   ]
  },
  {
   "cell_type": "markdown",
   "metadata": {},
   "source": [
    "#### Barabási-Albert network :"
   ]
  },
  {
   "cell_type": "code",
   "execution_count": 28,
   "metadata": {
    "scrolled": false
   },
   "outputs": [
    {
     "data": {
      "text/plain": [
       "numpy.ndarray"
      ]
     },
     "execution_count": 28,
     "metadata": {},
     "output_type": "execute_result"
    }
   ],
   "source": [
    "type(random_ba)"
   ]
  },
  {
   "cell_type": "code",
   "execution_count": 29,
   "metadata": {},
   "outputs": [],
   "source": [
    "degree_ba = np.count_nonzero(random_ba, axis=1)\n",
    "unique_ba, counts_ba = np.unique(degree_ba, return_counts=True)\n",
    "counts_ba = counts_ba / float(n_nodes)\n",
    "weights_ba = dict(zip(unique_ba, counts_ba))"
   ]
  },
  {
   "cell_type": "code",
   "execution_count": 30,
   "metadata": {},
   "outputs": [
    {
     "name": "stdout",
     "output_type": "stream",
     "text": [
      "24 149\n",
      "[117, 123, 130, 134, 141, 145, 146, 147, 148]\n"
     ]
    }
   ],
   "source": [
    "values_ba = set(range(min(unique_ba), max(unique_ba)))\n",
    "degrees_ba = set(degree_ba)\n",
    "print(min(unique_ba), max(unique_ba))\n",
    "print(sorted(values_ba - degrees_ba))"
   ]
  },
  {
   "cell_type": "markdown",
   "metadata": {},
   "source": [
    "**Explanation:** In this case, we see that there are no missing values in the first range of values. However, we see many missing values, sometimes consecutive, starting from $202$, which is why we choose to concatenate the values in bins of $4$. Once again, we concatenate the extreme values."
   ]
  },
  {
   "cell_type": "code",
   "execution_count": 31,
   "metadata": {},
   "outputs": [],
   "source": [
    "bins_ba = [1]+[55+i for i in range(145)]+[202+4*i for i in range(27)]+[623]"
   ]
  },
  {
   "cell_type": "code",
   "execution_count": 32,
   "metadata": {},
   "outputs": [],
   "source": [
    "dist_ba = np.histogram(unique_ba, weights=counts_ba, bins = bins_ba)[0]\n",
    "dist_adj_ba = np.histogram(unique_adj, weights=counts_adj, bins = bins_ba)[0]"
   ]
  },
  {
   "cell_type": "code",
   "execution_count": 33,
   "metadata": {},
   "outputs": [
    {
     "name": "stdout",
     "output_type": "stream",
     "text": [
      "nan\n"
     ]
    },
    {
     "name": "stderr",
     "output_type": "stream",
     "text": [
      "/anaconda3/lib/python3.6/site-packages/ipykernel_launcher.py:22: RuntimeWarning: divide by zero encountered in double_scalars\n",
      "/anaconda3/lib/python3.6/site-packages/ipykernel_launcher.py:22: RuntimeWarning: divide by zero encountered in log\n",
      "/anaconda3/lib/python3.6/site-packages/ipykernel_launcher.py:22: RuntimeWarning: invalid value encountered in double_scalars\n"
     ]
    }
   ],
   "source": [
    "kl_adj_ba = kl_divergence(dist_ba, dist_adj_ba)\n",
    "print(kl_adj_ba)"
   ]
  },
  {
   "cell_type": "markdown",
   "metadata": {},
   "source": [
    "**Answer:** Having such a small KL divergence means that both degree distributions of the graphs are very similar."
   ]
  },
  {
   "cell_type": "markdown",
   "metadata": {},
   "source": [
    "### Question 8\n",
    "\n",
    "Plot the degree distribution historgrams for all three networks. Are they consistent with the KL divergence results? Explain."
   ]
  },
  {
   "cell_type": "code",
   "execution_count": 34,
   "metadata": {
    "scrolled": false
   },
   "outputs": [
    {
     "data": {
      "text/plain": [
       "Text(0.5, 1.0, 'Degree distribution of our network')"
      ]
     },
     "execution_count": 34,
     "metadata": {},
     "output_type": "execute_result"
    },
    {
     "data": {
      "image/png": "[encoded data removed]",
      "text/plain": [
       "<Figure size 432x288 with 1 Axes>"
      ]
     },
     "metadata": {
      "needs_background": "light"
     },
     "output_type": "display_data"
    }
   ],
   "source": [
    "plt.hist(unique_adj, weights=counts_adj)\n",
    "plt.title('Degree distribution of our network')"
   ]
  },
  {
   "cell_type": "code",
   "execution_count": 35,
   "metadata": {
    "scrolled": false
   },
   "outputs": [
    {
     "data": {
      "text/plain": [
       "Text(0.5, 1.0, 'Degree distribution of the Erdos network')"
      ]
     },
     "execution_count": 35,
     "metadata": {},
     "output_type": "execute_result"
    },
    {
     "data": {
      "image/png": "[encoded data removed]",
      "text/plain": [
       "<Figure size 432x288 with 1 Axes>"
      ]
     },
     "metadata": {
      "needs_background": "light"
     },
     "output_type": "display_data"
    }
   ],
   "source": [
    "plt.hist(unique_er, weights=counts_er)\n",
    "plt.title('Degree distribution of the Erdos network')"
   ]
  },
  {
   "cell_type": "code",
   "execution_count": 36,
   "metadata": {
    "scrolled": false
   },
   "outputs": [
    {
     "data": {
      "text/plain": [
       "Text(0.5, 1.0, 'Degree distribution of the Barabasi network')"
      ]
     },
     "execution_count": 36,
     "metadata": {},
     "output_type": "execute_result"
    },
    {
     "data": {
      "image/png": "[encoded data removed]",
      "text/plain": [
       "<Figure size 432x288 with 1 Axes>"
      ]
     },
     "metadata": {
      "needs_background": "light"
     },
     "output_type": "display_data"
    }
   ],
   "source": [
    "plt.hist(unique_ba, weights=counts_ba)\n",
    "plt.title('Degree distribution of the Barabasi network')"
   ]
  },
  {
   "cell_type": "markdown",
   "metadata": {},
   "source": [
    "**Asnwer:** These histograms reflect well the results that we have seen previously. Indeed, the Erdos network has no similarity with our network. However, our network and the Barabasi network share the same degree distribution shape. In this case, it looks a lot like a Poisson distribution."
   ]
  },
  {
   "cell_type": "markdown",
   "metadata": {},
   "source": [
    "### Question 9\n",
    "\n",
    "Imagine you got equal degree distributions. Would that guarantee you got the same graph? Explain."
   ]
  },
  {
   "cell_type": "markdown",
   "metadata": {},
   "source": [
    "**Answer:** Even though the degree distribution is identical for both networks, it wouldn't guarantee having the same graph as the same degrees could be associated to different nodes. On top of changing the meaning of the links between the nodes, co-starring actors, this would completely change the topology of the graph."
   ]
  },
  {
   "cell_type": "markdown",
   "metadata": {},
   "source": [
    "## Part 2\n",
    "\n",
    "**You are allowed to use any additional library here (e.g., NetworkX, PyGSP, etc.).** Be careful not to include something here and use it in part 1!"
   ]
  },
  {
   "cell_type": "code",
   "execution_count": 37,
   "metadata": {},
   "outputs": [],
   "source": [
    "import networkx as nx"
   ]
  },
  {
   "cell_type": "markdown",
   "metadata": {},
   "source": [
    "### Question 10\n",
    "\n",
    "Choose a random network model that fits you network well. Explain your choice. \n",
    "\n",
    "**Hint:** Check lecture notes for different network models and their properties. Your choice should be made based on at least one property you'd expect to be similar."
   ]
  },
  {
   "cell_type": "markdown",
   "metadata": {},
   "source": [
    "**Answer**: We have chosen Watts-Strogatz Random Network Model to better fit our network due to the fact that Watts-Strogatz is a small world model and our IMDB dataset is similar to a small world network in this case. After studying the slides and different random graph models, we expect the clustering coefficient of the Watts-Strogatz model to be the property that would be similar to our original network's value.\n",
    "\n",
    "Moreover, during our literature research, we have discovered that Watts-Strogatz model was designed specifically for explaining the \"small world\" phenomena in networks of movie actors.[1]\n",
    "\n",
    "[1] https://en.wikipedia.org/wiki/Watts%E2%80%93Strogatz_model#Rationale_for_the_model"
   ]
  },
  {
   "cell_type": "markdown",
   "metadata": {},
   "source": [
    "### Question 11\n",
    "\n",
    "Explain (in short) how the chosen model works."
   ]
  },
  {
   "cell_type": "markdown",
   "metadata": {},
   "source": [
    "**Answer:** The Watts–Strogatz model generates random graphs with small-world properties. As inputs, it takes the total number of nodes ($n$), the average node degree ($k$) and the probability of rewiring each edge ($p$) with an optional seed for the random number generator. Firstly, a ring is created with the given number of nodes. Then, every node in the ring is connected to $k$ (average node degree) number of other nodes. Later, an existing edge of two nodes, $a$ and $b$ is exchanged with the probability $p$ to new edge between the node $a$ and another existing node other than $b$. This exchange is iterated for each existing edges. In the end, this model returns the Watts-Strogatz random graph."
   ]
  },
  {
   "cell_type": "markdown",
   "metadata": {},
   "source": [
    "### Question 12\n",
    "\n",
    "Create a random graph from that model, such that the number of nodes is the same as in your graph."
   ]
  },
  {
   "cell_type": "code",
   "execution_count": 38,
   "metadata": {
    "scrolled": true
   },
   "outputs": [
    {
     "data": {
      "text/plain": [
       "53148"
      ]
     },
     "execution_count": 38,
     "metadata": {},
     "output_type": "execute_result"
    }
   ],
   "source": [
    "k_real = int(2*n_edges/n_nodes)\n",
    "m = int(n_edges/n_nodes)\n",
    "n_edges"
   ]
  },
  {
   "cell_type": "code",
   "execution_count": 39,
   "metadata": {},
   "outputs": [],
   "source": [
    "G_watts = nx.watts_strogatz_graph(n_nodes, k_real, 0.3)"
   ]
  },
  {
   "cell_type": "markdown",
   "metadata": {},
   "source": [
    "### Question 13\n",
    "\n",
    "Check the properties you expected to be similar, and compare to your network."
   ]
  },
  {
   "cell_type": "markdown",
   "metadata": {},
   "source": [
    "**Explanation:** In this part we compare the properties of our graph. We defined 3 properties that allow us to compare different models. First property is the number of edges which tells us how many connections are in the networks. The second  is the average degree representing the average number of connection that an actor has. The third one is the average clustering coefficient measuring the degree to which nodes in a graph tend to cluster together. We expect that these properties must be similar to our network"
   ]
  },
  {
   "cell_type": "markdown",
   "metadata": {},
   "source": [
    "#### Our network :"
   ]
  },
  {
   "cell_type": "code",
   "execution_count": 41,
   "metadata": {},
   "outputs": [
    {
     "name": "stdout",
     "output_type": "stream",
     "text": [
      "Number of edges 53148\n",
      "Average degree 43.37533998186763\n",
      "Clustering coefficient 0.3683419503232064\n"
     ]
    }
   ],
   "source": [
    "G = nx.from_numpy_array(adjacency.values)\n",
    "print(\"Number of edges\", n_edges)\n",
    "average_degree_G = sum(dict(G.degree()).values())/n_nodes\n",
    "print(\"Average degree\", average_degree_G)\n",
    "average_clustering_G = nx.average_clustering(G)\n",
    "print(\"Clustering coefficient\", average_clustering_G)"
   ]
  },
  {
   "cell_type": "code",
   "execution_count": 42,
   "metadata": {},
   "outputs": [
    {
     "data": {
      "text/plain": [
       "Text(0.5, 1.0, 'Degree distribution of our network')"
      ]
     },
     "execution_count": 42,
     "metadata": {},
     "output_type": "execute_result"
    },
    {
     "data": {
      "image/png": "[encoded data removed]",
      "text/plain": [
       "<Figure size 432x288 with 1 Axes>"
      ]
     },
     "metadata": {
      "needs_background": "light"
     },
     "output_type": "display_data"
    }
   ],
   "source": [
    "plt.hist(unique_adj, weights=counts_adj)\n",
    "plt.title('Degree distribution of our network')"
   ]
  },
  {
   "cell_type": "markdown",
   "metadata": {},
   "source": [
    "#### Watts-Strogatz network :"
   ]
  },
  {
   "cell_type": "code",
   "execution_count": 43,
   "metadata": {},
   "outputs": [
    {
     "name": "stdout",
     "output_type": "stream",
     "text": [
      "Number of edges :  52944\n",
      "Average degree :  48.0\n",
      "Clustering coefficient 0.2582621131449496\n"
     ]
    }
   ],
   "source": [
    "print(\"Number of edges : \",G_watts.number_of_edges())\n",
    "average_degree_watts = sum(dict(G_watts.degree()).values())/n_nodes\n",
    "print(\"Average degree : \", average_degree_watts)\n",
    "average_clustering_G_watts = nx.average_clustering(G_watts)\n",
    "print(\"Clustering coefficient\",average_clustering_G_watts)"
   ]
  },
  {
   "cell_type": "code",
   "execution_count": 44,
   "metadata": {},
   "outputs": [
    {
     "data": {
      "text/plain": [
       "Text(0.5, 1.0, 'Degree distribution of the Watts-Strogatz network')"
      ]
     },
     "execution_count": 44,
     "metadata": {},
     "output_type": "execute_result"
    },
    {
     "data": {
      "image/png": "[encoded data removed]",
      "text/plain": [
       "<Figure size 432x288 with 1 Axes>"
      ]
     },
     "metadata": {
      "needs_background": "light"
     },
     "output_type": "display_data"
    }
   ],
   "source": [
    "unique_watts, counts_watts = np.unique(list(dict(G_watts.degree()).values()), return_counts=True)\n",
    "counts_watts = counts_watts / float(n_nodes)\n",
    "plt.hist(list(unique_watts), weights=counts_watts)\n",
    "plt.title('Degree distribution of the Watts-Strogatz network')"
   ]
  },
  {
   "cell_type": "markdown",
   "metadata": {},
   "source": [
    "**Explanation**: The Watts-Strogatz model shows similar properties to our network."
   ]
  },
  {
   "cell_type": "code",
   "execution_count": 45,
   "metadata": {},
   "outputs": [
    {
     "name": "stdout",
     "output_type": "stream",
     "text": [
      "Error in number of edges :  0.0038383382253330323\n",
      "Error in average degree :  0.10661956817089231\n",
      "Error in Clustering coefficient :  0.298852294944048\n"
     ]
    }
   ],
   "source": [
    "print(\"Error in number of edges : \", abs(float(G_watts.number_of_edges()-n_edges)/n_edges))\n",
    "print(\"Error in average degree : \", abs(float(average_degree_watts-average_degree_G))/float(average_degree_G))\n",
    "print(\"Error in Clustering coefficient : \", abs(average_clustering_G-average_clustering_G_watts)/average_clustering_G)"
   ]
  },
  {
   "cell_type": "markdown",
   "metadata": {},
   "source": [
    "**Explanation**: We can see that the error in the Watts-Strogatz is small for the number of edges and the average degree. However there is a 20% variance in the clustering coefficient values. We can also see from the plot that the degree distribution is more constrained than our network. For example in our movie network we have a distribution that varies from 4 to 623 whereas in the Watts model we obtain a range between 75 and 145."
   ]
  },
  {
   "cell_type": "markdown",
   "metadata": {},
   "source": [
    "#### Barabasi-Albert network :"
   ]
  },
  {
   "cell_type": "code",
   "execution_count": 46,
   "metadata": {},
   "outputs": [
    {
     "name": "stdout",
     "output_type": "stream",
     "text": [
      "Number of edges 52644\n",
      "Average degree 47.72801450589302\n",
      "Clustering coefficient 0.03257055070568817\n"
     ]
    }
   ],
   "source": [
    "G_barabasi = nx.from_numpy_array(random_ba)\n",
    "print(\"Number of edges\", edges_barabasi)\n",
    "average_degree_Barabasi = sum(dict(G_barabasi.degree()).values())/n_nodes\n",
    "print(\"Average degree\", average_degree_Barabasi)\n",
    "average_clustering_barabasi = nx.average_clustering(G_barabasi)\n",
    "print(\"Clustering coefficient\", average_clustering_barabasi)"
   ]
  },
  {
   "cell_type": "code",
   "execution_count": 47,
   "metadata": {},
   "outputs": [
    {
     "data": {
      "text/plain": [
       "Text(0.5, 1.0, 'Degree distribution of our network')"
      ]
     },
     "execution_count": 47,
     "metadata": {},
     "output_type": "execute_result"
    },
    {
     "data": {
      "image/png": "[encoded data removed]",
      "text/plain": [
       "<Figure size 432x288 with 1 Axes>"
      ]
     },
     "metadata": {
      "needs_background": "light"
     },
     "output_type": "display_data"
    }
   ],
   "source": [
    "plt.hist(unique_ba, weights=counts_ba)\n",
    "plt.title('Degree distribution of our network')"
   ]
  },
  {
   "cell_type": "code",
   "execution_count": 48,
   "metadata": {},
   "outputs": [
    {
     "name": "stdout",
     "output_type": "stream",
     "text": [
      "Error in number of edges :  0.009482953262587492\n",
      "Error in average degree :  0.10034905837844625\n",
      "Error in Clustering coefficient :  0.911575234161874\n"
     ]
    }
   ],
   "source": [
    "print(\"Error in number of edges : \", abs(float(edges_barabasi-n_edges)/n_edges))\n",
    "print(\"Error in average degree : \", abs(float(average_degree_Barabasi-average_degree_G))/float(average_degree_G))\n",
    "print(\"Error in Clustering coefficient : \", abs(average_clustering_G-average_clustering_barabasi)/average_clustering_G)"
   ]
  },
  {
   "cell_type": "markdown",
   "metadata": {},
   "source": [
    "**Explanation**: We can see that the error in the the number of edges and the average degree is similar between the Barabasi-Albert model and the Watts-Strogatz model. However there is a big difference in the clustering coefficient values. We can see from the plot that the degree distribution is less constrained than the watts model and closer to our real network."
   ]
  },
  {
   "cell_type": "markdown",
   "metadata": {},
   "source": [
    "Are the results what you expected? Explain."
   ]
  },
  {
   "cell_type": "markdown",
   "metadata": {},
   "source": [
    "**Explanation:** We expected both Barabasi-Albert and Watts-Strogatz to show good fit. On one side our model represent to a certain degree small world properties where most nodes can be reached with a small number of steps. We can see that property from the clustering coefficient. On the otherside our model also shows a powerlaw behavior of scale free networks where there is increasingly less chance of co-starring with other actors. As such we expected that both these models would explain certain characteristics of our network."
   ]
  }
 ],
 "metadata": {
  "kernelspec": {
   "display_name": "Python 3",
   "language": "python",
   "name": "python3"
  },
  "language_info": {
   "codemirror_mode": {
    "name": "ipython",
    "version": 3
   },
   "file_extension": ".py",
   "mimetype": "text/x-python",
   "name": "python",
   "nbconvert_exporter": "python",
   "pygments_lexer": "ipython3",
   "version": "3.6.6"
  }
 },
 "nbformat": 4,
 "nbformat_minor": 2
}
