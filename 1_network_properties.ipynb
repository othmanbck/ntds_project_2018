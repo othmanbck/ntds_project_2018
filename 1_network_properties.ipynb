{
 "cells": [
  {
   "cell_type": "markdown",
   "metadata": {},
   "source": [
    "# NTDS'18 milestone 1: network collection and properties\n",
    "[Effrosyni Simou](https://lts4.epfl.ch/simou), [EPFL LTS4](https://lts4.epfl.ch)"
   ]
  },
  {
   "cell_type": "markdown",
   "metadata": {},
   "source": [
    "## Students\n",
    "\n",
    "* Team: 31\n",
    "* Students: Dilara Günay, Derin Sinan Bursa, Othman Benchekroun, Sinan Gökçe\n",
    "* Dataset: IMDb Films and Crew"
   ]
  },
  {
   "cell_type": "markdown",
   "metadata": {},
   "source": [
    "## Rules\n",
    "\n",
    "* Milestones have to be completed by teams. No collaboration between teams is allowed.\n",
    "* Textual answers shall be short. Typically one to three sentences.\n",
    "* Code has to be clean.\n",
    "* You cannot import any other library than we imported.\n",
    "* When submitting, the notebook is executed and the results are stored. I.e., if you open the notebook again it should show numerical results and plots. We won't be able to execute your notebooks.\n",
    "* The notebook is re-executed from a blank state before submission. That is to be sure it is reproducible. You can click \"Kernel\" then \"Restart & Run All\" in Jupyter."
   ]
  },
  {
   "cell_type": "markdown",
   "metadata": {},
   "source": [
    "## Objective "
   ]
  },
  {
   "cell_type": "markdown",
   "metadata": {},
   "source": [
    "The purpose of this milestone is to start getting acquainted to the network that you will use for this class. In the first part of the milestone you will import your data using [Pandas](http://pandas.pydata.org) and you will create the adjacency matrix using [Numpy](http://www.numpy.org). This part is project specific. In the second part you will have to compute some basic properties of your network. **For the computation of the properties you are only allowed to use the packages that have been imported in the cell below.** You are not allowed to use any graph-specific toolboxes for this milestone (such as networkx and PyGSP). Furthermore, the aim is not to blindly compute the network properties, but to also start to think about what kind of network you will be working with this semester. "
   ]
  },
  {
   "cell_type": "code",
   "execution_count": 14,
   "metadata": {},
   "outputs": [],
   "source": [
    "import math\n",
    "import itertools\n",
    "import numpy as np\n",
    "import pandas as pd\n",
    "import matplotlib.pyplot as plt"
   ]
  },
  {
   "cell_type": "markdown",
   "metadata": {},
   "source": [
    "## Part 1 - Import your data and manipulate them. "
   ]
  },
  {
   "cell_type": "markdown",
   "metadata": {},
   "source": [
    "###  A. Load your data in a Panda dataframe."
   ]
  },
  {
   "cell_type": "markdown",
   "metadata": {},
   "source": [
    "First, you should define and understand what are your nodes, what features you have and what are your labels. Please provide below a Panda dataframe where each row corresponds to a node with its features and labels. For example, in the the case of the Free Music Archive (FMA) Project, each row of the dataframe would be of the following form:\n",
    "\n",
    "\n",
    "| Track   |  Feature 1  | Feature 2 | . . . | Feature 518|  Label 1 |  Label 2 |. . .|Label 16|\n",
    "|:-------:|:-----------:|:---------:|:-----:|:----------:|:--------:|:--------:|:---:|:------:|\n",
    "|         |             |           |       |            |          |          |     |        |\n",
    "\n",
    "It is possible that in some of the projects either the features or the labels are not available. This is OK, in that case just make sure that you create a dataframe where each of the rows corresponds to a node and its associated features or labels."
   ]
  },
  {
   "cell_type": "code",
   "execution_count": 15,
   "metadata": {},
   "outputs": [],
   "source": [
    "movies = pd.read_csv('data/tmdb_5000_credits.csv')\n",
    "movies = movies[movies.cast != '[]']"
   ]
  },
  {
   "cell_type": "markdown",
   "metadata": {},
   "source": [
    "**Explanation**: In the function below, we only keep the relevant information (<i>movie_id</i> and <i>cast</i> providing us with information on each person). Moreover, we add an important new column: the list of all people playing in a movie, which will be necessary for future steps."
   ]
  },
  {
   "cell_type": "code",
   "execution_count": 16,
   "metadata": {},
   "outputs": [],
   "source": [
    "def flatten():\n",
    "    movies.drop(['title', 'crew'], axis=1, inplace=True)\n",
    "    movies['cast_id'] = movies['cast'].apply(lambda row: list(set(pd.read_json(row)['id'])))"
   ]
  },
  {
   "cell_type": "code",
   "execution_count": 17,
   "metadata": {},
   "outputs": [
    {
     "data": {
      "text/html": [
       "<div>\n",
       "<style scoped>\n",
       "    .dataframe tbody tr th:only-of-type {\n",
       "        vertical-align: middle;\n",
       "    }\n",
       "\n",
       "    .dataframe tbody tr th {\n",
       "        vertical-align: top;\n",
       "    }\n",
       "\n",
       "    .dataframe thead th {\n",
       "        text-align: right;\n",
       "    }\n",
       "</style>\n",
       "<table border=\"1\" class=\"dataframe\">\n",
       "  <thead>\n",
       "    <tr style=\"text-align: right;\">\n",
       "      <th></th>\n",
       "      <th>movie_id</th>\n",
       "      <th>cast</th>\n",
       "      <th>cast_id</th>\n",
       "    </tr>\n",
       "  </thead>\n",
       "  <tbody>\n",
       "    <tr>\n",
       "      <th>0</th>\n",
       "      <td>19995</td>\n",
       "      <td>[{\"cast_id\": 242, \"character\": \"Jake Sully\", \"...</td>\n",
       "      <td>[397312, 1180936, 1145098, 1186027, 103259, 30...</td>\n",
       "    </tr>\n",
       "    <tr>\n",
       "      <th>1</th>\n",
       "      <td>285</td>\n",
       "      <td>[{\"cast_id\": 4, \"character\": \"Captain Jack Spa...</td>\n",
       "      <td>[2440, 2441, 2449, 2450, 2452, 1430, 939, 2603...</td>\n",
       "    </tr>\n",
       "    <tr>\n",
       "      <th>2</th>\n",
       "      <td>206647</td>\n",
       "      <td>[{\"cast_id\": 1, \"character\": \"James Bond\", \"cr...</td>\n",
       "      <td>[1168129, 1599239, 1599241, 48393, 1599245, 15...</td>\n",
       "    </tr>\n",
       "    <tr>\n",
       "      <th>3</th>\n",
       "      <td>49026</td>\n",
       "      <td>[{\"cast_id\": 2, \"character\": \"Bruce Wayne / Ba...</td>\n",
       "      <td>[21505, 53252, 1172491, 77335, 535, 1574936, 5...</td>\n",
       "    </tr>\n",
       "    <tr>\n",
       "      <th>4</th>\n",
       "      <td>49529</td>\n",
       "      <td>[{\"cast_id\": 5, \"character\": \"John Carter\", \"c...</td>\n",
       "      <td>[1721985, 62082, 17287, 1721992, 17419, 6416, ...</td>\n",
       "    </tr>\n",
       "  </tbody>\n",
       "</table>\n",
       "</div>"
      ],
      "text/plain": [
       "   movie_id                                               cast  \\\n",
       "0     19995  [{\"cast_id\": 242, \"character\": \"Jake Sully\", \"...   \n",
       "1       285  [{\"cast_id\": 4, \"character\": \"Captain Jack Spa...   \n",
       "2    206647  [{\"cast_id\": 1, \"character\": \"James Bond\", \"cr...   \n",
       "3     49026  [{\"cast_id\": 2, \"character\": \"Bruce Wayne / Ba...   \n",
       "4     49529  [{\"cast_id\": 5, \"character\": \"John Carter\", \"c...   \n",
       "\n",
       "                                             cast_id  \n",
       "0  [397312, 1180936, 1145098, 1186027, 103259, 30...  \n",
       "1  [2440, 2441, 2449, 2450, 2452, 1430, 939, 2603...  \n",
       "2  [1168129, 1599239, 1599241, 48393, 1599245, 15...  \n",
       "3  [21505, 53252, 1172491, 77335, 535, 1574936, 5...  \n",
       "4  [1721985, 62082, 17287, 1721992, 17419, 6416, ...  "
      ]
     },
     "execution_count": 17,
     "metadata": {},
     "output_type": "execute_result"
    }
   ],
   "source": [
    "flatten()\n",
    "movies.head()"
   ]
  },
  {
   "cell_type": "markdown",
   "metadata": {},
   "source": [
    "**Explanation:** Given the size of our dataset, we decided to keep only the cast members that played in at least 5 movies. Thus, we create a list containing the ids of these actors in order to filter the rest out from <i>cast_id</i>. After this, we generate the list of edges corresponding to our problem: all the actors which played in the same movie.  "
   ]
  },
  {
   "cell_type": "code",
   "execution_count": 18,
   "metadata": {},
   "outputs": [
    {
     "data": {
      "text/plain": [
       "[2231, 380, 62, 1892, 192, 884, 3896, 887, 85, 2963]"
      ]
     },
     "execution_count": 18,
     "metadata": {},
     "output_type": "execute_result"
    }
   ],
   "source": [
    "discount = movies['cast_id'].apply(pd.Series).stack().value_counts()\n",
    "discount = list(discount[discount > 4].index.astype(int))\n",
    "discount[:10]"
   ]
  },
  {
   "cell_type": "code",
   "execution_count": 19,
   "metadata": {
    "scrolled": true
   },
   "outputs": [],
   "source": [
    "movies['cast_id'] = movies['cast_id'].apply(lambda x: [y for y in x if y in discount])\n",
    "movies['edges'] = movies['cast_id'].apply(lambda x: list(itertools.combinations(x, 2)))\n",
    "edges = list(movies['edges'].apply(pd.Series).stack())\n",
    "edges[0:5]\n",
    "\n",
    "edges_df = pd.DataFrame(edges)\n",
    "edges_df.to_csv(\"data/edges.csv\")"
   ]
  },
  {
   "cell_type": "markdown",
   "metadata": {},
   "source": [
    "**Explanation:** We noticed that some movies didn't have any ids in the <i>cast_id</i> anymore, meaning that all the actors that played in them played in less than $5$ movies. Thus, we simply decided to drop."
   ]
  },
  {
   "cell_type": "code",
   "execution_count": 7,
   "metadata": {},
   "outputs": [
    {
     "name": "stdout",
     "output_type": "stream",
     "text": [
      "627\n"
     ]
    }
   ],
   "source": [
    "discarded_movies = set()\n",
    "\n",
    "for idx, movie in movies.iterrows():\n",
    "    if len(movie['edges']) == 0:\n",
    "        discarded_movies.add(movie['movie_id'])\n",
    "\n",
    "print(len(discarded_movies))        "
   ]
  },
  {
   "cell_type": "code",
   "execution_count": 8,
   "metadata": {},
   "outputs": [
    {
     "data": {
      "text/html": [
       "<div>\n",
       "<style scoped>\n",
       "    .dataframe tbody tr th:only-of-type {\n",
       "        vertical-align: middle;\n",
       "    }\n",
       "\n",
       "    .dataframe tbody tr th {\n",
       "        vertical-align: top;\n",
       "    }\n",
       "\n",
       "    .dataframe thead th {\n",
       "        text-align: right;\n",
       "    }\n",
       "</style>\n",
       "<table border=\"1\" class=\"dataframe\">\n",
       "  <thead>\n",
       "    <tr style=\"text-align: right;\">\n",
       "      <th></th>\n",
       "      <th>movie_id</th>\n",
       "      <th>cast</th>\n",
       "      <th>cast_id</th>\n",
       "      <th>edges</th>\n",
       "    </tr>\n",
       "  </thead>\n",
       "  <tbody>\n",
       "    <tr>\n",
       "      <th>0</th>\n",
       "      <td>19995</td>\n",
       "      <td>[{\"cast_id\": 242, \"character\": \"Jake Sully\", \"...</td>\n",
       "      <td>[30485, 236696, 98215, 42286, 68278, 65731, 42...</td>\n",
       "      <td>[(30485, 236696), (30485, 98215), (30485, 4228...</td>\n",
       "    </tr>\n",
       "    <tr>\n",
       "      <th>1</th>\n",
       "      <td>285</td>\n",
       "      <td>[{\"cast_id\": 4, \"character\": \"Captain Jack Spa...</td>\n",
       "      <td>[2440, 2441, 2449, 2452, 939, 1709, 1711, 1714...</td>\n",
       "      <td>[(2440, 2441), (2440, 2449), (2440, 2452), (24...</td>\n",
       "    </tr>\n",
       "    <tr>\n",
       "      <th>2</th>\n",
       "      <td>206647</td>\n",
       "      <td>[{\"cast_id\": 1, \"character\": \"James Bond\", \"cr...</td>\n",
       "      <td>[139549, 17064, 543530, 27319, 121529, 5309, 2...</td>\n",
       "      <td>[(139549, 17064), (139549, 543530), (139549, 2...</td>\n",
       "    </tr>\n",
       "    <tr>\n",
       "      <th>3</th>\n",
       "      <td>49026</td>\n",
       "      <td>[{\"cast_id\": 2, \"character\": \"Bruce Wayne / Ba...</td>\n",
       "      <td>[21505, 53252, 77335, 535, 1574936, 539, 15805...</td>\n",
       "      <td>[(21505, 53252), (21505, 77335), (21505, 535),...</td>\n",
       "    </tr>\n",
       "    <tr>\n",
       "      <th>4</th>\n",
       "      <td>49529</td>\n",
       "      <td>[{\"cast_id\": 5, \"character\": \"John Carter\", \"c...</td>\n",
       "      <td>[17287, 17419, 2206, 2983, 5293, 21044, 57675,...</td>\n",
       "      <td>[(17287, 17419), (17287, 2206), (17287, 2983),...</td>\n",
       "    </tr>\n",
       "  </tbody>\n",
       "</table>\n",
       "</div>"
      ],
      "text/plain": [
       "   movie_id                                               cast  \\\n",
       "0     19995  [{\"cast_id\": 242, \"character\": \"Jake Sully\", \"...   \n",
       "1       285  [{\"cast_id\": 4, \"character\": \"Captain Jack Spa...   \n",
       "2    206647  [{\"cast_id\": 1, \"character\": \"James Bond\", \"cr...   \n",
       "3     49026  [{\"cast_id\": 2, \"character\": \"Bruce Wayne / Ba...   \n",
       "4     49529  [{\"cast_id\": 5, \"character\": \"John Carter\", \"c...   \n",
       "\n",
       "                                             cast_id  \\\n",
       "0  [30485, 236696, 98215, 42286, 68278, 65731, 42...   \n",
       "1  [2440, 2441, 2449, 2452, 939, 1709, 1711, 1714...   \n",
       "2  [139549, 17064, 543530, 27319, 121529, 5309, 2...   \n",
       "3  [21505, 53252, 77335, 535, 1574936, 539, 15805...   \n",
       "4  [17287, 17419, 2206, 2983, 5293, 21044, 57675,...   \n",
       "\n",
       "                                               edges  \n",
       "0  [(30485, 236696), (30485, 98215), (30485, 4228...  \n",
       "1  [(2440, 2441), (2440, 2449), (2440, 2452), (24...  \n",
       "2  [(139549, 17064), (139549, 543530), (139549, 2...  \n",
       "3  [(21505, 53252), (21505, 77335), (21505, 535),...  \n",
       "4  [(17287, 17419), (17287, 2206), (17287, 2983),...  "
      ]
     },
     "execution_count": 8,
     "metadata": {},
     "output_type": "execute_result"
    }
   ],
   "source": [
    "movies = movies[~movies['movie_id'].isin(discarded_movies)]\n",
    "movies.head()"
   ]
  },
  {
   "cell_type": "markdown",
   "metadata": {},
   "source": [
    "**Explanation:** After creating the edge list, we create the features that will be useful later on. We decided to keep the <i>gender</i> and the <i>movies</i> an actor played in as the main features. However, we may enrich this list in the future."
   ]
  },
  {
   "cell_type": "code",
   "execution_count": 9,
   "metadata": {},
   "outputs": [],
   "source": [
    "frames = pd.DataFrame()\n",
    "new_df = pd.DataFrame()\n",
    "\n",
    "for idx, film in movies.iterrows():\n",
    "    cast_df = pd.DataFrame(eval(movies['cast'][idx]))\n",
    "    cast_df['movies'] = idx\n",
    "    cast_df = cast_df.drop(['character','order','cast_id', 'credit_id'],axis = 1)  \n",
    "    \n",
    "    frames = [new_df, cast_df]\n",
    "    new_df = pd.concat(frames, join = 'outer', ignore_index=True)"
   ]
  },
  {
   "cell_type": "code",
   "execution_count": 10,
   "metadata": {
    "scrolled": true
   },
   "outputs": [
    {
     "data": {
      "text/html": [
       "<div>\n",
       "<style scoped>\n",
       "    .dataframe tbody tr th:only-of-type {\n",
       "        vertical-align: middle;\n",
       "    }\n",
       "\n",
       "    .dataframe tbody tr th {\n",
       "        vertical-align: top;\n",
       "    }\n",
       "\n",
       "    .dataframe thead th {\n",
       "        text-align: right;\n",
       "    }\n",
       "</style>\n",
       "<table border=\"1\" class=\"dataframe\">\n",
       "  <thead>\n",
       "    <tr style=\"text-align: right;\">\n",
       "      <th></th>\n",
       "      <th>gender</th>\n",
       "      <th>id</th>\n",
       "      <th>name</th>\n",
       "      <th>movies</th>\n",
       "    </tr>\n",
       "  </thead>\n",
       "  <tbody>\n",
       "    <tr>\n",
       "      <th>10</th>\n",
       "      <td>0</td>\n",
       "      <td>334</td>\n",
       "      <td>Omar Benson Miller</td>\n",
       "      <td>[103, 1094, 1141, 1190, 1233, 1325, 2043, 3112]</td>\n",
       "    </tr>\n",
       "    <tr>\n",
       "      <th>14</th>\n",
       "      <td>0</td>\n",
       "      <td>424</td>\n",
       "      <td>Dallas Roberts</td>\n",
       "      <td>[1019, 1684, 1844, 2574, 3434, 3571, 3847]</td>\n",
       "    </tr>\n",
       "    <tr>\n",
       "      <th>21</th>\n",
       "      <td>0</td>\n",
       "      <td>652</td>\n",
       "      <td>Paul Freeman</td>\n",
       "      <td>[1460, 1524, 2085, 2360, 2437, 2471, 2645]</td>\n",
       "    </tr>\n",
       "    <tr>\n",
       "      <th>26</th>\n",
       "      <td>0</td>\n",
       "      <td>693</td>\n",
       "      <td>Roshan Seth</td>\n",
       "      <td>[83, 523, 1404, 1697, 2024, 4588]</td>\n",
       "    </tr>\n",
       "    <tr>\n",
       "      <th>35</th>\n",
       "      <td>0</td>\n",
       "      <td>939</td>\n",
       "      <td>David Schofield</td>\n",
       "      <td>[1, 12, 274, 360, 1063, 1239]</td>\n",
       "    </tr>\n",
       "  </tbody>\n",
       "</table>\n",
       "</div>"
      ],
      "text/plain": [
       "    gender   id                name  \\\n",
       "10       0  334  Omar Benson Miller   \n",
       "14       0  424      Dallas Roberts   \n",
       "21       0  652        Paul Freeman   \n",
       "26       0  693         Roshan Seth   \n",
       "35       0  939     David Schofield   \n",
       "\n",
       "                                             movies  \n",
       "10  [103, 1094, 1141, 1190, 1233, 1325, 2043, 3112]  \n",
       "14       [1019, 1684, 1844, 2574, 3434, 3571, 3847]  \n",
       "21       [1460, 1524, 2085, 2360, 2437, 2471, 2645]  \n",
       "26                [83, 523, 1404, 1697, 2024, 4588]  \n",
       "35                    [1, 12, 274, 360, 1063, 1239]  "
      ]
     },
     "execution_count": 10,
     "metadata": {},
     "output_type": "execute_result"
    }
   ],
   "source": [
    "nodes_df = new_df['movies'].groupby([new_df.gender, new_df.id, new_df.name]).apply(list).reset_index()\n",
    "nodes_df = nodes_df[nodes_df.id.isin(discount)]\n",
    "nodes_df.head()"
   ]
  },
  {
   "cell_type": "code",
   "execution_count": 11,
   "metadata": {},
   "outputs": [
    {
     "data": {
      "text/html": [
       "<div>\n",
       "<style scoped>\n",
       "    .dataframe tbody tr th:only-of-type {\n",
       "        vertical-align: middle;\n",
       "    }\n",
       "\n",
       "    .dataframe tbody tr th {\n",
       "        vertical-align: top;\n",
       "    }\n",
       "\n",
       "    .dataframe thead th {\n",
       "        text-align: right;\n",
       "    }\n",
       "</style>\n",
       "<table border=\"1\" class=\"dataframe\">\n",
       "  <thead>\n",
       "    <tr style=\"text-align: right;\">\n",
       "      <th></th>\n",
       "      <th>gender</th>\n",
       "      <th>movies</th>\n",
       "    </tr>\n",
       "    <tr>\n",
       "      <th>id</th>\n",
       "      <th></th>\n",
       "      <th></th>\n",
       "    </tr>\n",
       "  </thead>\n",
       "  <tbody>\n",
       "    <tr>\n",
       "      <th>334</th>\n",
       "      <td>0</td>\n",
       "      <td>[103, 1094, 1141, 1190, 1233, 1325, 2043, 3112]</td>\n",
       "    </tr>\n",
       "    <tr>\n",
       "      <th>424</th>\n",
       "      <td>0</td>\n",
       "      <td>[1019, 1684, 1844, 2574, 3434, 3571, 3847]</td>\n",
       "    </tr>\n",
       "    <tr>\n",
       "      <th>652</th>\n",
       "      <td>0</td>\n",
       "      <td>[1460, 1524, 2085, 2360, 2437, 2471, 2645]</td>\n",
       "    </tr>\n",
       "    <tr>\n",
       "      <th>693</th>\n",
       "      <td>0</td>\n",
       "      <td>[83, 523, 1404, 1697, 2024, 4588]</td>\n",
       "    </tr>\n",
       "    <tr>\n",
       "      <th>939</th>\n",
       "      <td>0</td>\n",
       "      <td>[1, 12, 274, 360, 1063, 1239]</td>\n",
       "    </tr>\n",
       "  </tbody>\n",
       "</table>\n",
       "</div>"
      ],
      "text/plain": [
       "     gender                                           movies\n",
       "id                                                          \n",
       "334       0  [103, 1094, 1141, 1190, 1233, 1325, 2043, 3112]\n",
       "424       0       [1019, 1684, 1844, 2574, 3434, 3571, 3847]\n",
       "652       0       [1460, 1524, 2085, 2360, 2437, 2471, 2645]\n",
       "693       0                [83, 523, 1404, 1697, 2024, 4588]\n",
       "939       0                    [1, 12, 274, 360, 1063, 1239]"
      ]
     },
     "execution_count": 11,
     "metadata": {},
     "output_type": "execute_result"
    }
   ],
   "source": [
    "features = nodes_df.set_index('id').drop('name', axis=1)\n",
    "features.head()"
   ]
  },
  {
   "cell_type": "markdown",
   "metadata": {},
   "source": [
    "### B. Create the adjacency matrix of your network."
   ]
  },
  {
   "cell_type": "markdown",
   "metadata": {},
   "source": [
    "Remember that there are edges connecting the attributed nodes that you organized in the dataframe above. The connectivity of the network is captured by the adjacency matrix $W$. If $N$ is the number of nodes, the adjacency matrix is an $N \\times N$ matrix where the value of $W(i,j)$ is the weight of the edge connecting node $i$ to node $j$.  \n",
    "\n",
    "There are two possible scenarios for your adjacency matrix construction, as you already learned in the tutorial by Benjamin:\n",
    "\n",
    "1) The edges are given to you explicitly. In this case you should simply load the file containing the edge information and parse it in order to create your adjacency matrix. See how to do that in the  [graph from edge list]() demo.\n",
    "\n",
    "2) The edges are not given to you. In that case you will have to create a feature graph. In order to do that you will have to chose a distance that will quantify how similar two nodes are based on the values in their corresponding feature vectors. In the [graph from features]() demo Benjamin showed you how to build feature graphs when using Euclidean distances between feature vectors. Be curious and explore other distances as well! For instance, in the case of high-dimensional feature vectors, you might want to consider using the cosine distance. Once you compute the distances between your nodes you will have a fully connected network. Do not forget to sparsify by keeping the most important edges in your network.\n",
    "\n",
    "Follow the appropriate steps for the construction of the adjacency matrix of your network and provide it in the Numpy array ``adjacency`` below: "
   ]
  },
  {
   "cell_type": "markdown",
   "metadata": {},
   "source": [
    "**Explanation:** As we need a way to keep track of the ids of the cast members, we first create a DataFrame in order to construct our adjacency matrix. The <i>discount</i> list (exhaustive list of the nodes) will be used as a mapping between the nodes and the adjacency matrix; meaning their index in the matrix is simply their index in the <i>discount</i> list.\n",
    "\n",
    "After this, we simply convert the adjacency matrix to a Numpy array and normalize it."
   ]
  },
  {
   "cell_type": "code",
   "execution_count": 12,
   "metadata": {},
   "outputs": [
    {
     "data": {
      "text/html": [
       "<div>\n",
       "<style scoped>\n",
       "    .dataframe tbody tr th:only-of-type {\n",
       "        vertical-align: middle;\n",
       "    }\n",
       "\n",
       "    .dataframe tbody tr th {\n",
       "        vertical-align: top;\n",
       "    }\n",
       "\n",
       "    .dataframe thead th {\n",
       "        text-align: right;\n",
       "    }\n",
       "</style>\n",
       "<table border=\"1\" class=\"dataframe\">\n",
       "  <thead>\n",
       "    <tr style=\"text-align: right;\">\n",
       "      <th></th>\n",
       "      <th>2231</th>\n",
       "      <th>380</th>\n",
       "      <th>62</th>\n",
       "      <th>1892</th>\n",
       "      <th>192</th>\n",
       "      <th>884</th>\n",
       "      <th>3896</th>\n",
       "      <th>887</th>\n",
       "      <th>85</th>\n",
       "      <th>2963</th>\n",
       "      <th>...</th>\n",
       "      <th>15565</th>\n",
       "      <th>118593</th>\n",
       "      <th>41746</th>\n",
       "      <th>59019</th>\n",
       "      <th>208519</th>\n",
       "      <th>66288</th>\n",
       "      <th>3033</th>\n",
       "      <th>17187</th>\n",
       "      <th>51998</th>\n",
       "      <th>21318</th>\n",
       "    </tr>\n",
       "  </thead>\n",
       "  <tbody>\n",
       "    <tr>\n",
       "      <th>2231</th>\n",
       "      <td>0.0</td>\n",
       "      <td>2.0</td>\n",
       "      <td>4.0</td>\n",
       "      <td>0.0</td>\n",
       "      <td>0.0</td>\n",
       "      <td>2.0</td>\n",
       "      <td>1.0</td>\n",
       "      <td>0.0</td>\n",
       "      <td>0.0</td>\n",
       "      <td>2.0</td>\n",
       "      <td>...</td>\n",
       "      <td>0.0</td>\n",
       "      <td>0.0</td>\n",
       "      <td>0.0</td>\n",
       "      <td>1.0</td>\n",
       "      <td>0.0</td>\n",
       "      <td>0.0</td>\n",
       "      <td>0.0</td>\n",
       "      <td>0.0</td>\n",
       "      <td>0.0</td>\n",
       "      <td>0.0</td>\n",
       "    </tr>\n",
       "    <tr>\n",
       "      <th>380</th>\n",
       "      <td>2.0</td>\n",
       "      <td>0.0</td>\n",
       "      <td>1.0</td>\n",
       "      <td>0.0</td>\n",
       "      <td>1.0</td>\n",
       "      <td>0.0</td>\n",
       "      <td>0.0</td>\n",
       "      <td>3.0</td>\n",
       "      <td>0.0</td>\n",
       "      <td>0.0</td>\n",
       "      <td>...</td>\n",
       "      <td>0.0</td>\n",
       "      <td>0.0</td>\n",
       "      <td>1.0</td>\n",
       "      <td>0.0</td>\n",
       "      <td>0.0</td>\n",
       "      <td>0.0</td>\n",
       "      <td>0.0</td>\n",
       "      <td>0.0</td>\n",
       "      <td>0.0</td>\n",
       "      <td>0.0</td>\n",
       "    </tr>\n",
       "    <tr>\n",
       "      <th>62</th>\n",
       "      <td>4.0</td>\n",
       "      <td>1.0</td>\n",
       "      <td>0.0</td>\n",
       "      <td>1.0</td>\n",
       "      <td>2.0</td>\n",
       "      <td>2.0</td>\n",
       "      <td>0.0</td>\n",
       "      <td>2.0</td>\n",
       "      <td>0.0</td>\n",
       "      <td>1.0</td>\n",
       "      <td>...</td>\n",
       "      <td>0.0</td>\n",
       "      <td>0.0</td>\n",
       "      <td>1.0</td>\n",
       "      <td>0.0</td>\n",
       "      <td>0.0</td>\n",
       "      <td>0.0</td>\n",
       "      <td>0.0</td>\n",
       "      <td>0.0</td>\n",
       "      <td>0.0</td>\n",
       "      <td>0.0</td>\n",
       "    </tr>\n",
       "    <tr>\n",
       "      <th>1892</th>\n",
       "      <td>0.0</td>\n",
       "      <td>0.0</td>\n",
       "      <td>1.0</td>\n",
       "      <td>0.0</td>\n",
       "      <td>1.0</td>\n",
       "      <td>0.0</td>\n",
       "      <td>1.0</td>\n",
       "      <td>0.0</td>\n",
       "      <td>0.0</td>\n",
       "      <td>0.0</td>\n",
       "      <td>...</td>\n",
       "      <td>0.0</td>\n",
       "      <td>0.0</td>\n",
       "      <td>0.0</td>\n",
       "      <td>0.0</td>\n",
       "      <td>0.0</td>\n",
       "      <td>0.0</td>\n",
       "      <td>0.0</td>\n",
       "      <td>0.0</td>\n",
       "      <td>0.0</td>\n",
       "      <td>0.0</td>\n",
       "    </tr>\n",
       "    <tr>\n",
       "      <th>192</th>\n",
       "      <td>0.0</td>\n",
       "      <td>1.0</td>\n",
       "      <td>2.0</td>\n",
       "      <td>1.0</td>\n",
       "      <td>0.0</td>\n",
       "      <td>0.0</td>\n",
       "      <td>4.0</td>\n",
       "      <td>1.0</td>\n",
       "      <td>1.0</td>\n",
       "      <td>0.0</td>\n",
       "      <td>...</td>\n",
       "      <td>0.0</td>\n",
       "      <td>0.0</td>\n",
       "      <td>0.0</td>\n",
       "      <td>0.0</td>\n",
       "      <td>0.0</td>\n",
       "      <td>0.0</td>\n",
       "      <td>0.0</td>\n",
       "      <td>0.0</td>\n",
       "      <td>0.0</td>\n",
       "      <td>0.0</td>\n",
       "    </tr>\n",
       "  </tbody>\n",
       "</table>\n",
       "<p>5 rows × 3766 columns</p>\n",
       "</div>"
      ],
      "text/plain": [
       "      2231    380     62      1892    192     884     3896    887     85      \\\n",
       "2231     0.0     2.0     4.0     0.0     0.0     2.0     1.0     0.0     0.0   \n",
       "380      2.0     0.0     1.0     0.0     1.0     0.0     0.0     3.0     0.0   \n",
       "62       4.0     1.0     0.0     1.0     2.0     2.0     0.0     2.0     0.0   \n",
       "1892     0.0     0.0     1.0     0.0     1.0     0.0     1.0     0.0     0.0   \n",
       "192      0.0     1.0     2.0     1.0     0.0     0.0     4.0     1.0     1.0   \n",
       "\n",
       "      2963     ...    15565   118593  41746   59019   208519  66288   3033    \\\n",
       "2231     2.0   ...       0.0     0.0     0.0     1.0     0.0     0.0     0.0   \n",
       "380      0.0   ...       0.0     0.0     1.0     0.0     0.0     0.0     0.0   \n",
       "62       1.0   ...       0.0     0.0     1.0     0.0     0.0     0.0     0.0   \n",
       "1892     0.0   ...       0.0     0.0     0.0     0.0     0.0     0.0     0.0   \n",
       "192      0.0   ...       0.0     0.0     0.0     0.0     0.0     0.0     0.0   \n",
       "\n",
       "      17187   51998   21318   \n",
       "2231     0.0     0.0     0.0  \n",
       "380      0.0     0.0     0.0  \n",
       "62       0.0     0.0     0.0  \n",
       "1892     0.0     0.0     0.0  \n",
       "192      0.0     0.0     0.0  \n",
       "\n",
       "[5 rows x 3766 columns]"
      ]
     },
     "execution_count": 12,
     "metadata": {},
     "output_type": "execute_result"
    }
   ],
   "source": [
    "adj = pd.DataFrame(np.zeros(shape=(len(discount),len(discount))), columns=discount, index=discount)\n",
    "for e1, e2 in edges:\n",
    "    if e1 in discount and e2 in discount:\n",
    "        adj.at[e1, e2] += 1\n",
    "        adj.at[e2, e1] += 1\n",
    "    else:\n",
    "        edges.remove((e1,e2))\n",
    "adj.head()"
   ]
  },
  {
   "cell_type": "code",
   "execution_count": 13,
   "metadata": {},
   "outputs": [],
   "source": [
    "adjacency = adj.values\n",
    "adj_max = adjacency.max()\n",
    "adjacency = np.vectorize(lambda x: x/adj_max)(adjacency)\n",
    "\n",
    "adjacency_df = pd.DataFrame(adjacency)\n",
    "adjacency_df.to_csv(\"data/adjacency.csv\")"
   ]
  },
  {
   "cell_type": "code",
   "execution_count": 14,
   "metadata": {},
   "outputs": [
    {
     "data": {
      "text/plain": [
       "3766"
      ]
     },
     "execution_count": 14,
     "metadata": {},
     "output_type": "execute_result"
    }
   ],
   "source": [
    "n_nodes = len(discount)\n",
    "n_nodes"
   ]
  },
  {
   "cell_type": "markdown",
   "metadata": {},
   "source": [
    "## Part 2"
   ]
  },
  {
   "cell_type": "markdown",
   "metadata": {},
   "source": [
    "Execute the cell below to plot the (weighted) adjacency matrix of your network."
   ]
  },
  {
   "cell_type": "code",
   "execution_count": 15,
   "metadata": {},
   "outputs": [
    {
     "data": {
      "text/plain": [
       "Text(0.5, 1.05, 'adjacency matrix')"
      ]
     },
     "execution_count": 15,
     "metadata": {},
     "output_type": "execute_result"
    },
    {
     "data": {
      "image/png": "[encoded data removed]",
      "text/plain": [
       "<Figure size 432x288 with 1 Axes>"
      ]
     },
     "metadata": {
      "needs_background": "light"
     },
     "output_type": "display_data"
    }
   ],
   "source": [
    "plt.spy(adjacency, markersize=0.005)\n",
    "plt.title('adjacency matrix')"
   ]
  },
  {
   "cell_type": "markdown",
   "metadata": {},
   "source": [
    "**Explanation:** As we can see in this plot, the first actors are much more connected then the last actors. This results could be explained by the fact that our adjacency matrix is in a decreasing order of number of movies played. So the first rows contain the actors that played in most movies and the last rows contain the actors that played in the least amount of movies. As such, it is expected that the actors that played in the most are statistically the ones that will be the most connected to other actors."
   ]
  },
  {
   "cell_type": "markdown",
   "metadata": {},
   "source": [
    "### Question 1\n",
    "\n",
    "What is the maximum number of links $L_{max}$ in a network with $N$ nodes (where $N$ is the number of nodes in your network)? How many links $L$ are there in your collected network? Comment on the sparsity of your network."
   ]
  },
  {
   "cell_type": "code",
   "execution_count": 16,
   "metadata": {},
   "outputs": [
    {
     "name": "stdout",
     "output_type": "stream",
     "text": [
      "We have that L_max is equal to 7089495.0\n"
     ]
    }
   ],
   "source": [
    "L_max = n_nodes*(n_nodes-1)/2\n",
    "print(\"We have that L_max is equal to {}\".format(L_max))"
   ]
  },
  {
   "cell_type": "code",
   "execution_count": 17,
   "metadata": {},
   "outputs": [
    {
     "name": "stdout",
     "output_type": "stream",
     "text": [
      "The number of links in our network is 34.35 on average\n"
     ]
    }
   ],
   "source": [
    "print(\"The number of links in our network is {:.2f} on average\".format(L_max / len(edges)))"
   ]
  },
  {
   "cell_type": "code",
   "execution_count": 18,
   "metadata": {},
   "outputs": [
    {
     "name": "stdout",
     "output_type": "stream",
     "text": [
      "When trying to determine the big-O notation, we have 231110.92, which is explained below\n"
     ]
    }
   ],
   "source": [
    "print(\"When trying to determine the big-O notation, we have {:.2f}, which is explained below\".format(n_nodes * math.sqrt(n_nodes)))"
   ]
  },
  {
   "cell_type": "markdown",
   "metadata": {},
   "source": [
    "**Answer:** We have that the network is not fully connected, yet not sparse. Indeed, we have that $L=O(n*\\sqrt{n})$ ."
   ]
  },
  {
   "cell_type": "markdown",
   "metadata": {},
   "source": [
    "### Question 2\n",
    "\n",
    "Is your graph directed or undirected? If it is directed, convert it to an undirected graph by symmetrizing the adjacency matrix."
   ]
  },
  {
   "cell_type": "markdown",
   "metadata": {},
   "source": [
    "**Explanation:** To make a matrix symmetric, we sum the original matrix with its transpose and divide the result by 2."
   ]
  },
  {
   "cell_type": "code",
   "execution_count": 19,
   "metadata": {},
   "outputs": [],
   "source": [
    "adjacency = (adjacency + adjacency.T)/2"
   ]
  },
  {
   "cell_type": "markdown",
   "metadata": {},
   "source": [
    "### Question 3\n",
    "\n",
    "In the cell below save the features dataframe and the **symmetrized** adjacency matrix. You can use the Pandas ``to_csv`` to save the ``features`` and Numpy's ``save`` to save the ``adjacency``. We will reuse those in the following milestones."
   ]
  },
  {
   "cell_type": "code",
   "execution_count": 20,
   "metadata": {},
   "outputs": [],
   "source": [
    "np.save(\"data/adj.npy\", adjacency)\n",
    "features.to_csv(\"data/features.csv\")"
   ]
  },
  {
   "cell_type": "markdown",
   "metadata": {},
   "source": [
    "### Question 4\n",
    "\n",
    "Are the edges of your graph weighted?"
   ]
  },
  {
   "cell_type": "markdown",
   "metadata": {},
   "source": [
    "**Answer:** Yes, the edges of the graph are weighted and the weights correspond to the number of movies where actors played together."
   ]
  },
  {
   "cell_type": "markdown",
   "metadata": {},
   "source": [
    "### Question 5\n",
    "\n",
    "What is the degree distibution of your network? "
   ]
  },
  {
   "cell_type": "code",
   "execution_count": 21,
   "metadata": {},
   "outputs": [],
   "source": [
    "degree = np.count_nonzero(adjacency, axis=1)\n",
    "\n",
    "assert len(degree) == n_nodes"
   ]
  },
  {
   "cell_type": "markdown",
   "metadata": {},
   "source": [
    "Execute the cell below to see the histogram of the degree distribution."
   ]
  },
  {
   "cell_type": "code",
   "execution_count": 22,
   "metadata": {},
   "outputs": [
    {
     "data": {
      "image/png": "[encoded data removed]",
      "text/plain": [
       "<Figure size 432x288 with 1 Axes>"
      ]
     },
     "metadata": {
      "needs_background": "light"
     },
     "output_type": "display_data"
    }
   ],
   "source": [
    "weights = np.ones_like(degree) / float(n_nodes)\n",
    "plt.hist(degree, weights=weights);"
   ]
  },
  {
   "cell_type": "markdown",
   "metadata": {},
   "source": [
    "What is the average degree?"
   ]
  },
  {
   "cell_type": "code",
   "execution_count": 23,
   "metadata": {},
   "outputs": [
    {
     "name": "stdout",
     "output_type": "stream",
     "text": [
      "The average degree of the graph is 98.52\n"
     ]
    }
   ],
   "source": [
    "print(\"The average degree of the graph is {:.2f}\".format(np.sum(degree)/n_nodes))"
   ]
  },
  {
   "cell_type": "markdown",
   "metadata": {},
   "source": [
    "### Question 6\n",
    "\n",
    "Comment on the degree distribution of your network."
   ]
  },
  {
   "cell_type": "markdown",
   "metadata": {},
   "source": [
    "**Answer:** The average degree ($\\sim99$) of the graph seems large, but it is not unexpected if we follow the rule of thumb. Indeed, in average, there are $8$ actors in a movie, and each actor plays in $10$ movies. When looking at the degree distribution itself, we see that it looks like a skewed normal distribution, allowing us to use the properties – and interpretation – of the Normal distribution but introducing a skew parameter to account for the shape difference."
   ]
  },
  {
   "cell_type": "markdown",
   "metadata": {},
   "source": [
    "### Question 7\n",
    "\n",
    "Write a function that takes as input the adjacency matrix of a graph and determines whether the graph is connected or not."
   ]
  },
  {
   "cell_type": "markdown",
   "metadata": {},
   "source": [
    "**Explanation:** In order to determine if our network is connected or not, we start from the index zero of the adjacency matrix and store the indices of the connected nodes step by step into a set called <i>visited</i>. Then, we compare <i>n_nodes</i> with the number of elements in the <i>visited</i> set to see if the whole graph is connected or not."
   ]
  },
  {
   "cell_type": "code",
   "execution_count": 24,
   "metadata": {},
   "outputs": [],
   "source": [
    "def connected_graph(adjacency):\n",
    "    visited, queue = set(), [0] # store the indices of columns/rows\n",
    "    while queue:\n",
    "        index = queue.pop(0)\n",
    "        if index not in visited:\n",
    "            visited.add(index)\n",
    "            actor_connected_to = set(np.nonzero(adjacency[index])[0])\n",
    "            queue.extend(actor_connected_to - visited)\n",
    "            \n",
    "    if len(visited) == len(adjacency):\n",
    "        connected = True\n",
    "    else:\n",
    "        connected = False\n",
    "    \n",
    "    return connected"
   ]
  },
  {
   "cell_type": "markdown",
   "metadata": {},
   "source": [
    "Is your graph connected? Run the ``connected_graph`` function to determine your answer."
   ]
  },
  {
   "cell_type": "code",
   "execution_count": 25,
   "metadata": {},
   "outputs": [
    {
     "name": "stdout",
     "output_type": "stream",
     "text": [
      "Our graph is connected\n"
     ]
    }
   ],
   "source": [
    "if(connected_graph(adjacency)):\n",
    "    print('Our graph is connected')\n",
    "else:\n",
    "    print('Our graph is not connected')"
   ]
  },
  {
   "cell_type": "markdown",
   "metadata": {},
   "source": [
    "### Question 8\n",
    "\n",
    "Write a function that extracts the connected components of a graph."
   ]
  },
  {
   "cell_type": "markdown",
   "metadata": {},
   "source": [
    "**Explanation:** First, we find the connected nodes starting from the index zero of the adjacency matrix and store the first connected component in a list called <i>component_list</i>. Meanwhile, we store the indices of the unconnected nodes in a set called <i>not_visited</i> and loop again to add a new connected component into <i>component_list</i> starting with the indices in <i>not_visited</i> until <i>not_visited</i> is empty. Finally, we return the list of all connected components."
   ]
  },
  {
   "cell_type": "code",
   "execution_count": 26,
   "metadata": {},
   "outputs": [],
   "source": [
    "def find_components(adjacency):\n",
    "    not_visited = []\n",
    "    for i in range(len(adjacency)):\n",
    "        not_visited.append(i)\n",
    "    #Before starting the while loop, not_visited contains all the nodes (row indices in the adjacency matrix)\n",
    "    \n",
    "    component_list = list() #Used to store the components\n",
    "    while not_visited:\n",
    "        queue = [not_visited[0]]\n",
    "        visited = set()\n",
    "        while queue:\n",
    "            index = queue.pop(0)\n",
    "            if index not in visited:\n",
    "                visited.add(index)\n",
    "                actor_connected_to = set(np.nonzero(adjacency[index])[0])\n",
    "                queue.extend(actor_connected_to - set(visited))\n",
    "                \n",
    "        not_visited = list(set(not_visited) - visited)\n",
    "        component_list.append(list(visited)) \n",
    "    \n",
    "    components = []\n",
    "    for idx, value in enumerate(component_list):\n",
    "        comp_adj = np.take(adjacency, component_list[idx], axis = 0)\n",
    "        comp_adj = np.take(comp_adj, component_list[idx], axis = 1)\n",
    "        components.append(comp_adj)\n",
    "    return components\n"
   ]
  },
  {
   "cell_type": "markdown",
   "metadata": {},
   "source": [
    "How many connected components is your network composed of? What is the size of the largest connected component? Run the ``find_components`` function to determine your answer. "
   ]
  },
  {
   "cell_type": "code",
   "execution_count": 27,
   "metadata": {},
   "outputs": [
    {
     "name": "stdout",
     "output_type": "stream",
     "text": [
      "Our network is composed of 1 connected components.\n",
      "\n",
      "The size of the largest connected component is  3766\n"
     ]
    }
   ],
   "source": [
    "components_adjacency = find_components(adjacency)\n",
    "print('Our network is composed of', len(components_adjacency), 'connected components.\\n')\n",
    "print('The size of the largest connected component is ', len(components_adjacency[0]))"
   ]
  },
  {
   "cell_type": "markdown",
   "metadata": {},
   "source": [
    "### Question 9\n",
    "\n",
    "Write a function that takes as input the adjacency matrix and a node (`source`) and returns the length of the shortest path between that node and all nodes in the graph using Dijkstra's algorithm. **For the purposes of this assignment we are interested in the hop distance between nodes, not in the sum of weights. **\n",
    "\n",
    "Hint: You might want to mask the adjacency matrix in the function ``compute_shortest_path_lengths`` in order to make sure you obtain a binary adjacency matrix. "
   ]
  },
  {
   "cell_type": "markdown",
   "metadata": {},
   "source": [
    "**Explanation:** This function takes the adjacency matrix and the index of a starting node as inputs. As we try to determine the <i>hop_distance</i>, we tag the source node as 0 and all the nodes it is directly connected to are tagged as 1. Then, all the nodes connected to the one with tag 1 are tagged with 2, and so on until all the connected graph is tagged. The unconnected nodes are tagged as <i>inf</i> since there is no way to get to them starting from any point of the connected graph."
   ]
  },
  {
   "cell_type": "code",
   "execution_count": 28,
   "metadata": {},
   "outputs": [],
   "source": [
    "def compute_shortest_path_lengths(adjacency, source):\n",
    "    \n",
    "    shortest_path_lengths = np.full(len(adjacency), np.inf, dtype=float)\n",
    "    visited, queue = set(), [source]\n",
    "    hop_distance = 0\n",
    "    queue2 = list()\n",
    "    while queue:\n",
    "        index = queue.pop(0)\n",
    "        if index not in visited:\n",
    "            visited.add(index)\n",
    "            shortest_path_lengths[index] = hop_distance\n",
    "            actor_connected_to = set(np.nonzero(adjacency[index])[0])\n",
    "            queue2.extend(actor_connected_to - visited)\n",
    "        if not queue:\n",
    "            hop_distance = hop_distance + 1\n",
    "            queue.extend(queue2)\n",
    "            queue2 = list()    \n",
    "    return shortest_path_lengths"
   ]
  },
  {
   "cell_type": "markdown",
   "metadata": {},
   "source": [
    "### Question 10\n",
    "\n",
    "The diameter of the graph is the length of the longest shortest path between any pair of nodes. Use the above developed function to compute the diameter of the graph (or the diameter of the largest connected component of the graph if the graph is not connected). If your graph (or largest connected component) is very large, computing the diameter will take very long. In that case downsample your graph so that it has 1.000 nodes. There are many ways to reduce the size of a graph. For the purposes of this milestone you can chose to randomly select 1.000 nodes. "
   ]
  },
  {
   "cell_type": "markdown",
   "metadata": {},
   "source": [
    "**Explanation:** We have randomly selected $1000$ indices/nodes from the adjacency matrix and created a new adjacency matrix (graph) with these $1000$ nodes. Then, we check if this new adjacency matrix is a connected graph or not. In case it is not connected, we look for the connected components of this new graph and calculate the diameter of the largest component."
   ]
  },
  {
   "cell_type": "code",
   "execution_count": 29,
   "metadata": {},
   "outputs": [
    {
     "name": "stdout",
     "output_type": "stream",
     "text": [
      "\n",
      "When randomly downsampling our actors data, we find 2 connected components in our new graph\n",
      "Our randomly downsampled network is not connected\n",
      "The diameter of the whole randomly downsampled data is: inf\n",
      "The diameter of the largest connected component of our randomly downsampled network is:  6.0\n"
     ]
    }
   ],
   "source": [
    "sample_size = 1000\n",
    "random_source_list = np.random.randint(0,n_nodes,size=sample_size)\n",
    "\n",
    "adjacency_random = np.take(adjacency, random_source_list, axis=0)\n",
    "adjacency_random = np.take(adjacency_random, random_source_list, axis=1)\n",
    "\n",
    "print()\n",
    "\n",
    "print('When randomly downsampling our actors data, we find', len(find_components(adjacency_random)), 'connected components in our new graph')\n",
    "\n",
    "max_length_list = []\n",
    "\n",
    "for source in range(sample_size):\n",
    "    max_length_list.append(max(compute_shortest_path_lengths(adjacency_random, source)))\n",
    "max_length = max(max_length_list)   \n",
    "\n",
    "if(connected_graph(adjacency_random)):\n",
    "    print('Our randomly downsampled network is connected')\n",
    "else:\n",
    "    print('Our randomly downsampled network is not connected')\n",
    "\n",
    "print('The diameter of the whole randomly downsampled data is:', max_length)\n",
    "\n",
    "components = find_components(adjacency_random)   \n",
    "number_of_components = len(components)    \n",
    "if number_of_components > 1: #If the downsampled graph is not connected\n",
    "    component_length_list = []\n",
    "    for i in range(number_of_components):\n",
    "        component_length_list.append(len(components[i]))\n",
    "    \n",
    "    length_array = np.array(component_length_list)\n",
    "    index_largest_component = np.argmax(length_array)\n",
    "    \n",
    "    adjacency_random_connected = components[index_largest_component]\n",
    "    \n",
    "    max_length_list = []\n",
    "    for source in range(len(adjacency_random_connected)):\n",
    "        max_length_list.append(max(compute_shortest_path_lengths(adjacency_random_connected, source)))\n",
    "    max_length = max(max_length_list)   \n",
    "\n",
    "    print('The diameter of the largest connected component of our randomly downsampled network is: ', max_length)"
   ]
  },
  {
   "cell_type": "markdown",
   "metadata": {},
   "source": [
    "### Question 11\n",
    "\n",
    "Write a function that takes as input the adjacency matrix, a path length, and two nodes (`source` and `target`), and returns the number of paths of the given length between them."
   ]
  },
  {
   "cell_type": "markdown",
   "metadata": {},
   "source": [
    "**Explanation:** In this segment, we try to find the number of paths of a given length. We form a new unweighted adjacency matrix by assigning $1$ if two nodes are connected and $0$ if the nodes are not connected (which we call <i>adjacency_non_weighted</i>). Then, according to the theorem seen during the class about <b>\"GraphTheoryBasics\"</b>, we compute the number of paths between two nodes by multiplying the adjacency matrix <i>n</i> times with itself (where <i>n</i> is the desired path length). Therefore we obtain a matrix where the value at index <i>i,j</i> is the number of paths with length <i>n</i> that are connecting nodes <i>i</i> and <i>j</i>. In our case, we have tha <i>i</i> is the source while <i>j</i> the target."
   ]
  },
  {
   "cell_type": "code",
   "execution_count": 30,
   "metadata": {},
   "outputs": [],
   "source": [
    "def compute_paths(adjacency, source, target, length):\n",
    "    \n",
    "    adjacency_non_weighted = adjacency.copy()\n",
    "    adjacency_non_weighted[adjacency_non_weighted > 0] = 1\n",
    "    adjacency_non_weighted = np.asmatrix(adjacency_non_weighted)\n",
    "    \n",
    "    matrix_path_lengths = adjacency_non_weighted**length\n",
    "    n_paths = matrix_path_lengths[source, target]\n",
    "  \n",
    "    return n_paths"
   ]
  },
  {
   "cell_type": "markdown",
   "metadata": {},
   "source": [
    "Test your function on 5 pairs of nodes, with different lengths."
   ]
  },
  {
   "cell_type": "code",
   "execution_count": 31,
   "metadata": {},
   "outputs": [
    {
     "name": "stdout",
     "output_type": "stream",
     "text": [
      "0.0\n",
      "75.0\n",
      "13007.0\n",
      "54.0\n",
      "722156.0\n"
     ]
    }
   ],
   "source": [
    "print(compute_paths(adjacency, 0, 10, 1))\n",
    "print(compute_paths(adjacency, 0, 10, 2))\n",
    "print(compute_paths(adjacency, 0, 10, 3))\n",
    "print(compute_paths(adjacency, 23, 67, 2))\n",
    "print(compute_paths(adjacency, 15, 93, 4))"
   ]
  },
  {
   "cell_type": "markdown",
   "metadata": {},
   "source": [
    "### Question 12\n",
    "\n",
    "How many paths of length 3 are there in your graph? Hint: calling the `compute_paths` function on every pair of node is not an efficient way to do it."
   ]
  },
  {
   "cell_type": "markdown",
   "metadata": {},
   "source": [
    "**Explanation:** In order to find out how many paths of length $3$ there are, we start by taking the adjacency matrix (<i>adjacency_non_weighted</i> as explained above). As seen in the previous question, the paths with length $3$ can be found by multiplying the adjacency matrix $3$ times with itself. As our matrix is symmetric, it contains the same path information twice (the number of paths between <i>i</i> and <i>j</i> is the same for <i>j</i> and <i>i</i>). Thus, we remove all values below the diagonal in order to have an upper triangular matrix and take the sum of the values in the matrix – which gives us the total number of paths with length $3$.\n",
    "\n",
    "In our case we decided to keep the diagonal values. These values give us the number of path with length $3$ that connects the same actors."
   ]
  },
  {
   "cell_type": "code",
   "execution_count": 32,
   "metadata": {},
   "outputs": [
    {
     "data": {
      "text/plain": [
       "3759037470.0"
      ]
     },
     "execution_count": 32,
     "metadata": {},
     "output_type": "execute_result"
    }
   ],
   "source": [
    "adjacency_non_weighted = adjacency\n",
    "adjacency_non_weighted[adjacency_non_weighted > 0] = 1\n",
    "adjacency_non_weighted = np.asmatrix(adjacency_non_weighted)\n",
    "matrix_path_lengths = adjacency_non_weighted**3\n",
    "upper_tri = np.triu(matrix_path_lengths, 0)\n",
    "np.sum(upper_tri)"
   ]
  },
  {
   "cell_type": "markdown",
   "metadata": {},
   "source": [
    "### Question 13\n",
    "\n",
    "Write a function that takes as input the adjacency matrix of your graph (or of the largest connected component of your graph) and a node and returns the clustering coefficient of that node. "
   ]
  },
  {
   "cell_type": "markdown",
   "metadata": {},
   "source": [
    "**Explanation**: This algorithm simply roams through the list of neighbors of <i>node</i> in order to determine any links between them. The <i>visited</i> set allows us to keep track of the nodes that were already taken into account (which is why we keep the $2$ at the beginning of the final formula)."
   ]
  },
  {
   "cell_type": "code",
   "execution_count": 33,
   "metadata": {},
   "outputs": [],
   "source": [
    "def compute_clustering_coefficient(adjacency, node):\n",
    "    \"\"\"Compute the clustering coefficient of a node.\n",
    "    \n",
    "    Parameters\n",
    "    ----------\n",
    "    adjacency: numpy array\n",
    "        The (weighted) adjacency matrix of a graph.\n",
    "    node: int\n",
    "        The node whose clustering coefficient will be computed. A number between 0 and n_nodes-1.\n",
    "    \n",
    "    Returns\n",
    "    -------\n",
    "    float\n",
    "        The clustering coefficient of the node. A number between 0 and 1.\n",
    "    \"\"\"\n",
    "    \n",
    "    visited = set()\n",
    "    neighbors = set(np.nonzero(adjacency[node])[0])\n",
    "    \n",
    "    if len(neighbors) == 0 or len(neighbors) == 1:\n",
    "        return 0\n",
    "    \n",
    "    links = 0\n",
    "    \n",
    "    for u in neighbors:\n",
    "        visited.add(u)\n",
    "        nonzero = set(np.nonzero(adjacency[u])[0]) - set([node])\n",
    "        for v in (neighbors - visited):\n",
    "            if v in nonzero:\n",
    "                links += 1\n",
    "    \n",
    "    clustering_coefficient = (2*links)/(len(neighbors)*(len(neighbors)-1))\n",
    "    \n",
    "    return clustering_coefficient"
   ]
  },
  {
   "cell_type": "code",
   "execution_count": 34,
   "metadata": {},
   "outputs": [
    {
     "data": {
      "text/plain": [
       "0.2905525846702317"
      ]
     },
     "execution_count": 34,
     "metadata": {},
     "output_type": "execute_result"
    }
   ],
   "source": [
    "compute_clustering_coefficient(adjacency, 3669)"
   ]
  },
  {
   "cell_type": "markdown",
   "metadata": {},
   "source": [
    "### Question 14\n",
    "\n",
    "What is the average clustering coefficient of your graph (or of the largest connected component of your graph if your graph is disconnected)? Use the function ``compute_clustering_coefficient`` to determine your answer."
   ]
  },
  {
   "cell_type": "code",
   "execution_count": 35,
   "metadata": {},
   "outputs": [
    {
     "name": "stdout",
     "output_type": "stream",
     "text": [
      "0.22305771147081796\n"
     ]
    }
   ],
   "source": [
    "avg_coefficient = 0\n",
    "\n",
    "for node in range(n_nodes):\n",
    "    avg_coefficient += compute_clustering_coefficient(adjacency, node)\n",
    "    \n",
    "avg_coefficient = avg_coefficient/n_nodes\n",
    "print(avg_coefficient)"
   ]
  },
  {
   "cell_type": "markdown",
   "metadata": {},
   "source": [
    "**Answer:** We have that the average clustering coefficient is around $0.22$."
   ]
  }
 ],
 "metadata": {
  "kernelspec": {
   "display_name": "Python 3",
   "language": "python",
   "name": "python3"
  },
  "language_info": {
   "codemirror_mode": {
    "name": "ipython",
    "version": 3
   },
   "file_extension": ".py",
   "mimetype": "text/x-python",
   "name": "python",
   "nbconvert_exporter": "python",
   "pygments_lexer": "ipython3",
   "version": "3.6.5"
  }
 },
 "nbformat": 4,
 "nbformat_minor": 2
}
