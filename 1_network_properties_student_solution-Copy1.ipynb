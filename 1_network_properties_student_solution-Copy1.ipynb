{
 "cells": [
  {
   "cell_type": "markdown",
   "metadata": {},
   "source": [
    "# NTDS'18 milestone 1: network collection and properties\n",
    "[Effrosyni Simou](https://lts4.epfl.ch/simou), [EPFL LTS4](https://lts4.epfl.ch)"
   ]
  },
  {
   "cell_type": "markdown",
   "metadata": {},
   "source": [
    "## Students\n",
    "\n",
    "* Team: `42`\n",
    "* Students: `Alexandre Poussard, Robin Leurent, Vincent Coriou, Pierre Fouché`\n",
    "* Dataset: [`Flight routes`](https://openflights.org/data.html)"
   ]
  },
  {
   "cell_type": "markdown",
   "metadata": {},
   "source": [
    "## Rules\n",
    "\n",
    "* Milestones have to be completed by teams. No collaboration between teams is allowed.\n",
    "* Textual answers shall be short. Typically one to three sentences.\n",
    "* Code has to be clean.\n",
    "* You cannot import any other library than we imported.\n",
    "* When submitting, the notebook is executed and the results are stored. I.e., if you open the notebook again it should show numerical results and plots. We won't be able to execute your notebooks.\n",
    "* The notebook is re-executed from a blank state before submission. That is to be sure it is reproducible. You can click \"Kernel\" then \"Restart & Run All\" in Jupyter."
   ]
  },
  {
   "cell_type": "markdown",
   "metadata": {},
   "source": [
    "## Objective "
   ]
  },
  {
   "cell_type": "markdown",
   "metadata": {},
   "source": [
    "The purpose of this milestone is to start getting acquainted to the network that you will use for this class. In the first part of the milestone you will import your data using [Pandas](http://pandas.pydata.org) and you will create the adjacency matrix using [Numpy](http://www.numpy.org). This part is project specific. In the second part you will have to compute some basic properties of your network. **For the computation of the properties you are only allowed to use the packages that have been imported in the cell below.** You are not allowed to use any graph-specific toolboxes for this milestone (such as networkx and PyGSP). Furthermore, the aim is not to blindly compute the network properties, but to also start to think about what kind of network you will be working with this semester. "
   ]
  },
  {
   "cell_type": "code",
   "execution_count": 1,
   "metadata": {},
   "outputs": [],
   "source": [
    "import numpy as np\n",
    "import pandas as pd\n",
    "import matplotlib.pyplot as plt"
   ]
  },
  {
   "cell_type": "markdown",
   "metadata": {},
   "source": [
    "## Part 1 - Import your data and manipulate them. "
   ]
  },
  {
   "cell_type": "code",
   "execution_count": 2,
   "metadata": {},
   "outputs": [],
   "source": [
    "adjacency = pd.read_csv('data/adjacency.csv')\n",
    "edges =  pd.read_csv('data/edges.csv')"
   ]
  },
  {
   "cell_type": "code",
   "execution_count": 3,
   "metadata": {},
   "outputs": [],
   "source": [
    "adjacency.drop('Unnamed: 0', axis = 1, inplace = True)\n",
    "adjacency = adjacency.values\n",
    "np.set_printoptions(suppress = True)"
   ]
  },
  {
   "cell_type": "code",
   "execution_count": 4,
   "metadata": {},
   "outputs": [],
   "source": [
    "n_nodes =  len(adjacency)\n",
    "n_edges = len(edges)"
   ]
  },
  {
   "cell_type": "code",
   "execution_count": 26,
   "metadata": {},
   "outputs": [
    {
     "data": {
      "text/plain": [
       "3766"
      ]
     },
     "execution_count": 26,
     "metadata": {},
     "output_type": "execute_result"
    }
   ],
   "source": [
    "n_nodes"
   ]
  },
  {
   "cell_type": "code",
   "execution_count": 25,
   "metadata": {},
   "outputs": [
    {
     "data": {
      "text/plain": [
       "array([[0., 1., 1., ..., 0., 0., 0.],\n",
       "       [1., 0., 1., ..., 0., 0., 0.],\n",
       "       [1., 1., 0., ..., 0., 0., 0.],\n",
       "       ...,\n",
       "       [0., 0., 0., ..., 0., 0., 0.],\n",
       "       [0., 0., 0., ..., 0., 0., 0.],\n",
       "       [0., 0., 0., ..., 0., 0., 0.]])"
      ]
     },
     "execution_count": 25,
     "metadata": {},
     "output_type": "execute_result"
    }
   ],
   "source": [
    "adjacency"
   ]
  },
  {
   "cell_type": "markdown",
   "metadata": {},
   "source": [
    "## Part 2"
   ]
  },
  {
   "cell_type": "markdown",
   "metadata": {},
   "source": [
    "Execute the cell below to plot the (weighted) adjacency matrix of your network."
   ]
  },
  {
   "cell_type": "code",
   "execution_count": 5,
   "metadata": {},
   "outputs": [
    {
     "data": {
      "text/plain": [
       "Text(0.5, 1.05, 'adjacency matrix')"
      ]
     },
     "execution_count": 5,
     "metadata": {},
     "output_type": "execute_result"
    },
    {
     "data": {
      "image/png": "[encoded data removed]",
      "text/plain": [
       "<Figure size 432x288 with 1 Axes>"
      ]
     },
     "metadata": {
      "needs_background": "light"
     },
     "output_type": "display_data"
    }
   ],
   "source": [
    "plt.spy(adjacency, markersize=1)\n",
    "plt.title('adjacency matrix')"
   ]
  },
  {
   "cell_type": "markdown",
   "metadata": {},
   "source": [
    "### Question 1\n",
    "\n",
    "What is the maximum number of links $L_{max}$ in a network with $N$ nodes (where $N$ is the number of nodes in your network)? How many links $L$ are there in your collected network? Comment on the sparsity of your network."
   ]
  },
  {
   "cell_type": "code",
   "execution_count": 6,
   "metadata": {},
   "outputs": [
    {
     "name": "stdout",
     "output_type": "stream",
     "text": [
      "Maximum number of links in our network : 14178990\n",
      "Number of links in our network : 371044\n",
      "The sparsity of our network is : 2.6169%\n"
     ]
    }
   ],
   "source": [
    "# Our graph is directed therefore :\n",
    "Lmax = n_nodes * (n_nodes - 1)\n",
    "print(\"Maximum number of links in our network : {}\".format(Lmax))\n",
    "links = np.count_nonzero(adjacency)\n",
    "print(\"Number of links in our network : {}\".format(links))\n",
    "sparsity = links * 100 / Lmax\n",
    "print(\"The sparsity of our network is : {:.4f}%\".format(sparsity))"
   ]
  },
  {
   "cell_type": "markdown",
   "metadata": {},
   "source": [
    "The maximum number of links $L_{max}$ in an network with $N$ nodes is $L_{maxUndirected}=\\binom{N}{2}=\\frac{N(N-1)}{2}$ and $L_{maxDirected}=N(N-1)$.\n",
    "\n",
    "We can see that our network is very sparse which makes sense as we work on a flights routes dataset. Thus, small airports have few connections compared to the big ones."
   ]
  },
  {
   "cell_type": "markdown",
   "metadata": {},
   "source": [
    "### Question 2\n",
    "\n",
    "Is your graph directed or undirected? If it is directed, convert it to an undirected graph by symmetrizing the adjacency matrix."
   ]
  },
  {
   "cell_type": "markdown",
   "metadata": {},
   "source": [
    "Our graph is directed. (Some airports don't have the same number of incoming and outgoing flights.)"
   ]
  },
  {
   "cell_type": "code",
   "execution_count": 7,
   "metadata": {},
   "outputs": [],
   "source": [
    "# We symmetrize our network by summing our weights (the number of incoming and outgoing flights)\n",
    "# since it allows us to keep the maximum number of information.\n",
    "adjacency_sym = adjacency"
   ]
  },
  {
   "cell_type": "markdown",
   "metadata": {},
   "source": [
    "### Question 4\n",
    "\n",
    "Are the edges of your graph weighted?"
   ]
  },
  {
   "cell_type": "markdown",
   "metadata": {},
   "source": [
    "Yes, the weights of the symmetrized adjacency matrix are the total number of outgoing and incoming flights from each node."
   ]
  },
  {
   "cell_type": "markdown",
   "metadata": {},
   "source": [
    "### Question 5\n",
    "\n",
    "What is the degree distibution of your network? "
   ]
  },
  {
   "cell_type": "code",
   "execution_count": 8,
   "metadata": {},
   "outputs": [],
   "source": [
    "# The degree of a node is the sum of its corresponding row or column in the adjacency matrix.\n",
    "degree = np.count_nonzero(adjacency, axis=1)\n",
    "\n",
    "assert len(degree) == n_nodes"
   ]
  },
  {
   "cell_type": "markdown",
   "metadata": {},
   "source": [
    "Execute the cell below to see the histogram of the degree distribution."
   ]
  },
  {
   "cell_type": "code",
   "execution_count": 9,
   "metadata": {},
   "outputs": [
    {
     "data": {
      "image/png": "[encoded data removed]",
      "text/plain": [
       "<Figure size 432x288 with 1 Axes>"
      ]
     },
     "metadata": {
      "needs_background": "light"
     },
     "output_type": "display_data"
    }
   ],
   "source": [
    "weights = np.ones_like(degree) / float(n_nodes)\n",
    "plt.hist(degree, weights=weights);"
   ]
  },
  {
   "cell_type": "markdown",
   "metadata": {},
   "source": [
    "What is the average degree?"
   ]
  },
  {
   "cell_type": "code",
   "execution_count": 10,
   "metadata": {},
   "outputs": [
    {
     "name": "stdout",
     "output_type": "stream",
     "text": [
      "The average degree is 98.5247\n"
     ]
    }
   ],
   "source": [
    "avg_deg = np.mean(degree)\n",
    "print(\"The average degree is {:.4f}\".format(avg_deg))"
   ]
  },
  {
   "cell_type": "markdown",
   "metadata": {},
   "source": [
    "### Question 6\n",
    "\n",
    "Comment on the degree distribution of your network."
   ]
  },
  {
   "cell_type": "code",
   "execution_count": 11,
   "metadata": {},
   "outputs": [
    {
     "data": {
      "image/png": "[encoded data removed]",
      "text/plain": [
       "<Figure size 432x288 with 1 Axes>"
      ]
     },
     "metadata": {
      "needs_background": "light"
     },
     "output_type": "display_data"
    }
   ],
   "source": [
    "test = np.unique(degree,return_counts=True)\n",
    "ax = plt.gca()\n",
    "ax.scatter(test[0],test[1])\n",
    "ax.set_yscale(\"log\")\n",
    "ax.set_xscale(\"log\")"
   ]
  },
  {
   "cell_type": "markdown",
   "metadata": {},
   "source": [
    "Our degree distribution follows a power law distribution, hence our network seems to be scale free as we saw in the lecture."
   ]
  },
  {
   "cell_type": "markdown",
   "metadata": {},
   "source": [
    "### Question 7\n",
    "\n",
    "Write a function that takes as input the adjacency matrix of a graph and determines whether the graph is connected or not."
   ]
  },
  {
   "cell_type": "code",
   "execution_count": 12,
   "metadata": {},
   "outputs": [],
   "source": [
    "def BFS(adjacency, labels, state):\n",
    "    \"\"\"\n",
    "    return a component with an array of updated labels (the visited nodes during the BFS)\n",
    "    for a given adjacency matrix\n",
    "    \n",
    "    :param adjacency: The adjacency matrix where to find the component\n",
    "    :param labels: An array of labels (0 : the node is not yet explored, 1: it is explored)\n",
    "    :param state: The # of the component we are looking for\n",
    "    :return: updated labels array and the component found\n",
    "    \"\"\"\n",
    "    queue = []\n",
    "    # current node is the first one with a label to 0\n",
    "    current_node = np.argwhere(labels == 0).flatten()[0]\n",
    "    labels[current_node] = state\n",
    "    queue.append(current_node)\n",
    "\n",
    "    current_component = []\n",
    "    current_component.append(current_node)\n",
    "    \n",
    "    while len(queue) != 0:\n",
    "        # all the weight of the other nodes for a given one\n",
    "        all_nodes = adjacency_sym[current_node]\n",
    "        # all the nodes reachable from the current one that are not yet labeled\n",
    "        neighbours = np.argwhere((all_nodes > 0) & (labels == 0)).flatten()\n",
    "        # add those nodes to the queue and to the component\n",
    "        queue += list(neighbours)\n",
    "        current_component += list(neighbours)\n",
    "        \n",
    "        for i in neighbours:\n",
    "            # we update the labels array\n",
    "            labels[i] = state\n",
    "        if len(queue) > 1:\n",
    "            # and we update the queue and the current node\n",
    "            queue = queue[1:]\n",
    "            current_node = queue[0]\n",
    "        else :\n",
    "            queue = []\n",
    "    \n",
    "    return np.array(labels), current_component    "
   ]
  },
  {
   "cell_type": "code",
   "execution_count": 13,
   "metadata": {},
   "outputs": [],
   "source": [
    "def connected_graph(adjacency):\n",
    "    \"\"\"Determines whether a graph is connected.\n",
    "    \n",
    "    Parameters\n",
    "    ----------\n",
    "    adjacency: numpy array\n",
    "        The (weighted) adjacency matrix of a graph.\n",
    "    \n",
    "    Returns\n",
    "    -------\n",
    "    bool\n",
    "        True if the graph is connected, False otherwise.\n",
    "    \"\"\"\n",
    "    #Run the BFS, find a component and see if all the nodes are in it. If so, the graph is connected.\n",
    "    first_labels = np.zeros(n_nodes, dtype=int)\n",
    "    labels, component = BFS(adjacency, first_labels, 1)\n",
    "    return labels.sum() == n_nodes"
   ]
  },
  {
   "cell_type": "markdown",
   "metadata": {},
   "source": [
    "Is your graph connected? Run the ``connected_graph`` function to determine your answer."
   ]
  },
  {
   "cell_type": "code",
   "execution_count": 14,
   "metadata": {},
   "outputs": [
    {
     "name": "stdout",
     "output_type": "stream",
     "text": [
      "Is our graph connected ? True\n"
     ]
    }
   ],
   "source": [
    "connected = connected_graph(adjacency)\n",
    "print(\"Is our graph connected ? {}\".format(connected))"
   ]
  },
  {
   "cell_type": "markdown",
   "metadata": {},
   "source": [
    "### Question 8\n",
    "\n",
    "Write a function that extracts the connected components of a graph."
   ]
  },
  {
   "cell_type": "code",
   "execution_count": 15,
   "metadata": {},
   "outputs": [],
   "source": [
    "def find_components(adjacency):\n",
    "    \"\"\"Find the connected components of a graph.\n",
    "    \n",
    "    Parameters\n",
    "    ----------\n",
    "    adjacency: numpy array\n",
    "        The (weighted) adjacency matrix of a graph.\n",
    "    \n",
    "    Returns\n",
    "    -------\n",
    "    list of numpy arrays\n",
    "        A list of adjacency matrices, one per connected component.\n",
    "    \"\"\"\n",
    "    \n",
    "    #Find the first component\n",
    "    components = []\n",
    "    first_labels = np.zeros(n_nodes, dtype=int)\n",
    "    labels, component = BFS(adjacency, first_labels, 1)\n",
    "    components.append(component)\n",
    "    current_state = 2\n",
    "    \n",
    "    #Redo BFS while we haven't found all the components\n",
    "    while (labels > 0).sum() != n_nodes:\n",
    "        labels, component = BFS(adjacency, labels, current_state)\n",
    "        components.append(component)\n",
    "        current_state += 1\n",
    "        \n",
    "    return np.array(components)"
   ]
  },
  {
   "cell_type": "markdown",
   "metadata": {},
   "source": [
    "How many connected components is your network composed of? What is the size of the largest connected component? Run the ``find_components`` function to determine your answer. "
   ]
  },
  {
   "cell_type": "code",
   "execution_count": 16,
   "metadata": {},
   "outputs": [
    {
     "name": "stdout",
     "output_type": "stream",
     "text": [
      "Number of connected components : 1\n",
      "Size of largest connected component : 3766\n"
     ]
    }
   ],
   "source": [
    "components = find_components(adjacency_sym)\n",
    "print(\"Number of connected components : {}\".format(len(components)))\n",
    "size_compo = [len(compo) for compo in components]\n",
    "print(\"Size of largest connected component : {}\".format(np.max(size_compo)))"
   ]
  },
  {
   "cell_type": "markdown",
   "metadata": {},
   "source": [
    "### Question 9\n",
    "\n",
    "Write a function that takes as input the adjacency matrix and a node (`source`) and returns the length of the shortest path between that node and all nodes in the graph using Dijkstra's algorithm. **For the purposes of this assignment we are interested in the hop distance between nodes, not in the sum of weights. **\n",
    "\n",
    "Hint: You might want to mask the adjacency matrix in the function ``compute_shortest_path_lengths`` in order to make sure you obtain a binary adjacency matrix. "
   ]
  },
  {
   "cell_type": "code",
   "execution_count": 17,
   "metadata": {},
   "outputs": [],
   "source": [
    "#Find all the neighbours of a given node\n",
    "def neighbours(node, adjacency_sym):\n",
    "    n = adjacency_sym[node]\n",
    "    neighbours = np.argwhere(n != 0).flatten()\n",
    "    return neighbours"
   ]
  },
  {
   "cell_type": "code",
   "execution_count": 18,
   "metadata": {},
   "outputs": [],
   "source": [
    "def compute_shortest_path_lengths(adjacency, source):\n",
    "    \"\"\"Compute the shortest path length between a source node and all nodes.\n",
    "    \n",
    "    Parameters\n",
    "    ----------\n",
    "    adjacency: numpy array\n",
    "        The (weighted) adjacency matrix of a graph.\n",
    "    source: int\n",
    "        The source node. A number between 0 and n_nodes-1.\n",
    "    \n",
    "    Returns\n",
    "    -------\n",
    "    list of ints\n",
    "        The length of the shortest path from source to all nodes. Returned list should be of length n_nodes.\n",
    "    \"\"\"   \n",
    "    \n",
    "    adjacency[adjacency != 0] = 1\n",
    "    shortest_path_lengths = np.ones(adjacency.shape[0]) * np.inf\n",
    "    shortest_path_lengths[source] = 0\n",
    "    visited = [source]\n",
    "    queue = [source]\n",
    "    while queue:\n",
    "        node = queue[0]\n",
    "        queue = queue[1:]\n",
    "        neighbors = neighbours(node, adjacency)\n",
    "        neighbors = np.setdiff1d(neighbors,visited).tolist()\n",
    "        neighbors = np.setdiff1d(neighbors,queue).tolist()\n",
    "        queue += neighbors\n",
    "        visited += neighbors\n",
    "        shortest_path_lengths[neighbors] = shortest_path_lengths[node] + 1\n",
    "    return shortest_path_lengths"
   ]
  },
  {
   "cell_type": "markdown",
   "metadata": {},
   "source": [
    "### Question 10\n",
    "\n",
    "The diameter of the graph is the length of the longest shortest path between any pair of nodes. Use the above developed function to compute the diameter of the graph (or the diameter of the largest connected component of the graph if the graph is not connected). If your graph (or largest connected component) is very large, computing the diameter will take very long. In that case downsample your graph so that it has 1.000 nodes. There are many ways to reduce the size of a graph. For the purposes of this milestone you can chose to randomly select 1.000 nodes. "
   ]
  },
  {
   "cell_type": "code",
   "execution_count": 19,
   "metadata": {},
   "outputs": [
    {
     "name": "stdout",
     "output_type": "stream",
     "text": [
      "The diameter of the graph is 3.0\n"
     ]
    }
   ],
   "source": [
    "max_component = components[np.argmax(size_compo)]\n",
    "adjacency_max = adjacency_sym[max_component, :]\n",
    "adjacency_max = adjacency_max[:, max_component]\n",
    "\n",
    "longest = []\n",
    "a = adjacency_max[:1000,:1000]\n",
    "\n",
    "for node in range(len(a)):\n",
    "    short = compute_shortest_path_lengths(a, node)\n",
    "    longest.append(max(short[ short < np.inf ]))\n",
    "    \n",
    "print(\"The diameter of the graph is {}\".format(max(longest)))"
   ]
  },
  {
   "cell_type": "markdown",
   "metadata": {},
   "source": [
    "### Question 11\n",
    "\n",
    "Write a function that takes as input the adjacency matrix, a path length, and two nodes (`source` and `target`), and returns the number of paths of the given length between them."
   ]
  },
  {
   "cell_type": "code",
   "execution_count": 20,
   "metadata": {},
   "outputs": [],
   "source": [
    "def compute_paths(adjacency, source, target, length):\n",
    "    \"\"\"Compute the number of paths of a given length between a source and target node.\n",
    "    \n",
    "    Parameters\n",
    "    ----------\n",
    "    adjacency: numpy array\n",
    "        The (weighted) adjacency matrix of a graph.\n",
    "    source: int\n",
    "        The source node. A number between 0 and n_nodes-1.\n",
    "    target: int\n",
    "        The target node. A number between 0 and n_nodes-1.\n",
    "    length: int\n",
    "        The path length to be considered.\n",
    "    \n",
    "    Returns\n",
    "    -------\n",
    "    int\n",
    "        The number of paths.\n",
    "    \"\"\"\n",
    "    \n",
    "    adjacency[adjacency != 0] = 1\n",
    "    adjacency = np.linalg.matrix_power(adjacency, length)\n",
    "    return adjacency[source, target]"
   ]
  },
  {
   "cell_type": "markdown",
   "metadata": {},
   "source": [
    "Test your function on 5 pairs of nodes, with different lengths."
   ]
  },
  {
   "cell_type": "code",
   "execution_count": 21,
   "metadata": {},
   "outputs": [
    {
     "name": "stdout",
     "output_type": "stream",
     "text": [
      "0.0\n",
      "75.0\n",
      "13007.0\n",
      "54.0\n",
      "722156.0\n"
     ]
    }
   ],
   "source": [
    "print(compute_paths(adjacency_sym, 0, 10, 1))\n",
    "print(compute_paths(adjacency_sym, 0, 10, 2))\n",
    "print(compute_paths(adjacency_sym, 0, 10, 3))\n",
    "print(compute_paths(adjacency_sym, 23, 67, 2))\n",
    "print(compute_paths(adjacency_sym, 15, 93, 4))"
   ]
  },
  {
   "cell_type": "markdown",
   "metadata": {},
   "source": [
    "### Question 12\n",
    "\n",
    "How many paths of length 3 are there in your graph? Hint: calling the `compute_paths` function on every pair of node is not an efficient way to do it."
   ]
  },
  {
   "cell_type": "code",
   "execution_count": 22,
   "metadata": {},
   "outputs": [
    {
     "name": "stdout",
     "output_type": "stream",
     "text": [
      "Number of path of length 3: 7510214490.0\n"
     ]
    }
   ],
   "source": [
    "# We could have used np.linalg.matrix_power(a, 3), but for performance reasons we prefered to make \n",
    "#the multiplication explicitely.\n",
    "a = adjacency_sym.copy()\n",
    "a[a != 0] = 1\n",
    "a = a @ a @ a\n",
    "print(\"Number of path of length 3: {}\".format(a.sum()))"
   ]
  },
  {
   "cell_type": "markdown",
   "metadata": {},
   "source": [
    "### Question 13\n",
    "\n",
    "Write a function that takes as input the adjacency matrix of your graph (or of the largest connected component of your graph) and a node and returns the clustering coefficient of that node. "
   ]
  },
  {
   "cell_type": "code",
   "execution_count": 23,
   "metadata": {},
   "outputs": [],
   "source": [
    "def compute_clustering_coefficient(adjacency, node):\n",
    "    \"\"\"Compute the clustering coefficient of a node.\n",
    "    \n",
    "    Parameters\n",
    "    ----------\n",
    "    adjacency: numpy array\n",
    "        The (weighted) adjacency matrix of a graph.\n",
    "    node: int\n",
    "        The node whose clustering coefficient will be computed. A number between 0 and n_nodes-1.\n",
    "    \n",
    "    Returns\n",
    "    -------\n",
    "    float\n",
    "        The clustering coefficient of the node. A number between 0 and 1.\n",
    "    \"\"\"\n",
    "    \n",
    "    adjacency[adjacency >1]=1\n",
    "    neighbors = adjacency[node]\n",
    "    indices = np.argwhere(neighbors > 0).flatten()\n",
    "    \n",
    "    if len(indices) <2:\n",
    "        return 0\n",
    "    \n",
    "    #Take the neighbors of the neighbors, and find wich one are linked together\n",
    "    neiofnei = adjacency[indices]\n",
    "    test = neiofnei * neighbors\n",
    "    count =  sum(test.flatten())\n",
    "    #Compute the clustering coefficient for the node. Since each link is counted twice, we don't multiply the formula by 2.\n",
    "    clustering_coefficient = count / (len(indices)*(len(indices)-1))    \n",
    "    \n",
    "    return clustering_coefficient"
   ]
  },
  {
   "cell_type": "markdown",
   "metadata": {},
   "source": [
    "### Question 14\n",
    "\n",
    "What is the average clustering coefficient of your graph (or of the largest connected component of your graph if your graph is disconnected)? Use the function ``compute_clustering_coefficient`` to determine your answer."
   ]
  },
  {
   "cell_type": "code",
   "execution_count": 24,
   "metadata": {},
   "outputs": [
    {
     "name": "stdout",
     "output_type": "stream",
     "text": [
      "The average coefficient of our largest connected component is : 0.22305771147081735\n"
     ]
    }
   ],
   "source": [
    "adjacency_component = adjacency_sym[components[0]]\n",
    "adjacency_component = adjacency_component.T[components[0]].T\n",
    "N = len(components[0])\n",
    "count = 0\n",
    "for i in range(N):\n",
    "    count+=compute_clustering_coefficient(adjacency_component,i)\n",
    "\n",
    "avg_coeff = count/N\n",
    "\n",
    "print(\"The average coefficient of our largest connected component is : {}\".format(str(avg_coeff)))"
   ]
  }
 ],
 "metadata": {
  "kernelspec": {
   "display_name": "Python 3",
   "language": "python",
   "name": "python3"
  },
  "language_info": {
   "codemirror_mode": {
    "name": "ipython",
    "version": 3
   },
   "file_extension": ".py",
   "mimetype": "text/x-python",
   "name": "python",
   "nbconvert_exporter": "python",
   "pygments_lexer": "ipython3",
   "version": "3.6.6"
  }
 },
 "nbformat": 4,
 "nbformat_minor": 2
}
