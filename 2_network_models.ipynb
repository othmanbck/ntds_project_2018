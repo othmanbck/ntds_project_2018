{
 "cells": [
  {
   "cell_type": "markdown",
   "metadata": {},
   "source": [
    "# [NTDS'18] milestone 2: network models\n",
    "[ntds'18]: https://github.com/mdeff/ntds_2018\n",
    "\n",
    "[Hermina Petric Maretic](https://people.epfl.ch/hermina.petricmaretic), [EPFL LTS4](https://lts4.epfl.ch)"
   ]
  },
  {
   "cell_type": "markdown",
   "metadata": {},
   "source": [
    "## Students\n",
    "\n",
    "* Team: 31\n",
    "* Students: Dilara Günay, Derin Sinan Bursa, Othman Benchekroun, Sinan Gökçe\n",
    "* Dataset: IMDb Films and Crew"
   ]
  },
  {
   "cell_type": "markdown",
   "metadata": {},
   "source": [
    "## Rules\n",
    "\n",
    "* Milestones have to be completed by teams. No collaboration between teams is allowed.\n",
    "* Textual answers shall be short. Typically one to two sentences.\n",
    "* Code has to be clean.\n",
    "* In the first part, you cannot import any other library than we imported. In the second part, you are allowed to import any library you want.\n",
    "* When submitting, the notebook is executed and the results are stored. I.e., if you open the notebook again it should show numerical results and plots. We won't be able to execute your notebooks.\n",
    "* The notebook is re-executed from a blank state before submission. That is to be sure it is reproducible. You can click \"Kernel\" then \"Restart & Run All\" in Jupyter."
   ]
  },
  {
   "cell_type": "markdown",
   "metadata": {},
   "source": [
    "## Objective\n",
    "\n",
    "The purpose of this milestone is to explore various random network models, analyse their properties and compare them to your network. In the first part of the milestone you will implement two random graph models and try to fit them to your network. In this part you are not allowed to use any additional package. In the second part of the milestone you will choose a third random graph model that you think shares some properties with your network. You will be allowed to use additional packages to construct this network, but you must explain your network choice. Finally, make your code as clean as possible, and keep your textual answers short."
   ]
  },
  {
   "cell_type": "markdown",
   "metadata": {},
   "source": [
    "## Part 0\n",
    "\n",
    "Import the adjacency matrix of your graph that you constructed in milestone 1, as well as the number of nodes and edges of your network."
   ]
  },
  {
   "cell_type": "code",
   "execution_count": 1,
   "metadata": {},
   "outputs": [],
   "source": [
    "import pandas as pd\n",
    "import numpy as np"
   ]
  },
  {
   "cell_type": "code",
   "execution_count": 2,
   "metadata": {},
   "outputs": [],
   "source": [
    "# getting adjacency and edges matrices\n",
    "adjacency = pd.read_csv('data/adjacency.csv')\n",
    "edges =  pd.read_csv('data/edges.csv')"
   ]
  },
  {
   "cell_type": "code",
   "execution_count": 3,
   "metadata": {},
   "outputs": [
    {
     "data": {
      "text/html": [
       "<div>\n",
       "<style scoped>\n",
       "    .dataframe tbody tr th:only-of-type {\n",
       "        vertical-align: middle;\n",
       "    }\n",
       "\n",
       "    .dataframe tbody tr th {\n",
       "        vertical-align: top;\n",
       "    }\n",
       "\n",
       "    .dataframe thead th {\n",
       "        text-align: right;\n",
       "    }\n",
       "</style>\n",
       "<table border=\"1\" class=\"dataframe\">\n",
       "  <thead>\n",
       "    <tr style=\"text-align: right;\">\n",
       "      <th></th>\n",
       "      <th>Unnamed: 0</th>\n",
       "      <th>0</th>\n",
       "      <th>1</th>\n",
       "    </tr>\n",
       "  </thead>\n",
       "  <tbody>\n",
       "    <tr>\n",
       "      <th>0</th>\n",
       "      <td>0</td>\n",
       "      <td>30485</td>\n",
       "      <td>236696</td>\n",
       "    </tr>\n",
       "    <tr>\n",
       "      <th>1</th>\n",
       "      <td>1</td>\n",
       "      <td>30485</td>\n",
       "      <td>98215</td>\n",
       "    </tr>\n",
       "    <tr>\n",
       "      <th>2</th>\n",
       "      <td>2</td>\n",
       "      <td>30485</td>\n",
       "      <td>42286</td>\n",
       "    </tr>\n",
       "    <tr>\n",
       "      <th>3</th>\n",
       "      <td>3</td>\n",
       "      <td>30485</td>\n",
       "      <td>68278</td>\n",
       "    </tr>\n",
       "    <tr>\n",
       "      <th>4</th>\n",
       "      <td>4</td>\n",
       "      <td>30485</td>\n",
       "      <td>65731</td>\n",
       "    </tr>\n",
       "  </tbody>\n",
       "</table>\n",
       "</div>"
      ],
      "text/plain": [
       "   Unnamed: 0      0       1\n",
       "0           0  30485  236696\n",
       "1           1  30485   98215\n",
       "2           2  30485   42286\n",
       "3           3  30485   68278\n",
       "4           4  30485   65731"
      ]
     },
     "execution_count": 3,
     "metadata": {},
     "output_type": "execute_result"
    }
   ],
   "source": [
    "edges.head()"
   ]
  },
  {
   "cell_type": "code",
   "execution_count": 4,
   "metadata": {},
   "outputs": [],
   "source": [
    "#Dropping useless column from adjacency dataframe\n",
    "adjacency.drop('Unnamed: 0', axis = 1, inplace = True)\n",
    "adjacency = adjacency.values\n",
    "np.set_printoptions(suppress = True)\n",
    "# calculating the number of nodes and edges of our graph\n",
    "n_nodes =  len(adjacency)\n",
    "n_edges = len(edges)"
   ]
  },
  {
   "cell_type": "code",
   "execution_count": 5,
   "metadata": {},
   "outputs": [
    {
     "data": {
      "text/plain": [
       "206391"
      ]
     },
     "execution_count": 5,
     "metadata": {},
     "output_type": "execute_result"
    }
   ],
   "source": [
    "n_edges"
   ]
  },
  {
   "cell_type": "markdown",
   "metadata": {},
   "source": [
    "## Part 1\n",
    "\n",
    "**For the computation of this part of the milestone you are only allowed to use the packages that have been imported in the cell below.**"
   ]
  },
  {
   "cell_type": "code",
   "execution_count": 6,
   "metadata": {},
   "outputs": [],
   "source": [
    "%matplotlib inline\n",
    "\n",
    "import random\n",
    "\n",
    "import numpy as np\n",
    "import pandas as pd\n",
    "import matplotlib.pyplot as plt\n",
    "import scipy"
   ]
  },
  {
   "cell_type": "markdown",
   "metadata": {},
   "source": [
    "**Explanation:** The following function creates the Erdös-Renyi graph. The function takes the number of nodes, the edge probability and the optional seed parameter as inputs. It returns the corresponding random Erdos-Renyi graph. The function adds one node at a time to the existing graph and it creates edges between the new and the existing nodes if the probability given (p) is higher than the randomly generated probability. For the sake of minimum computation, the edges are created only for the upper triangle of the adjacency matrix and then it's copied to the lower triangle."
   ]
  },
  {
   "cell_type": "code",
   "execution_count": 7,
   "metadata": {},
   "outputs": [],
   "source": [
    "def erdos_renyi(n, p, seed=None):\n",
    "    \n",
    "    \"\"\"Create an instance from the Erdos-Renyi graph model.\n",
    "    \n",
    "    Parameters\n",
    "    ----------\n",
    "    n: int\n",
    "        Size of the graph.\n",
    "    p: float\n",
    "        Edge probability. A number between 0 and 1.\n",
    "    seed: int (optional)\n",
    "        Seed for the random number generator. To get reproducible results.\n",
    "    \n",
    "    Returns\n",
    "    -------\n",
    "    adjacency\n",
    "        The adjacency matrix of a graph.\n",
    "    \"\"\"\n",
    "    \n",
    "    #Creating an empty n*n adjacency matrix\n",
    "    adjacency = np.zeros(shape=(n,n))\n",
    "    \n",
    "    #Indices of lower triangle adjacency matrix\n",
    "    index_lower = np.tril_indices(n,-1)\n",
    "    \n",
    "    #Indices of upper triangle adjacency matrix\n",
    "    index_upper = np.triu_indices(n,1)\n",
    "    \n",
    "    #Since the adjacency matrix is symmetric, we compute only the upper triangle part of the adjacency matrix \n",
    "    for i in range(n):\n",
    "        for j in range(i+1,n):\n",
    "            random.seed(seed)\n",
    "            r = random.random()               \n",
    "            if r <= p:\n",
    "                adjacency[i,j] = 1\n",
    "            else:\n",
    "                continue\n",
    "    \n",
    "    #Copying the computed upper triangle part of the matrix into the lower triangle \n",
    "    #so that the full adjacency matrix is computed\n",
    "    adjacency[index_lower] = adjacency[index_upper]\n",
    "    \n",
    "    return adjacency"
   ]
  },
  {
   "cell_type": "code",
   "execution_count": 8,
   "metadata": {},
   "outputs": [
    {
     "data": {
      "text/plain": [
       "Text(0.5, 1.05, 'Erdos-Renyi (5, 0.6)')"
      ]
     },
     "execution_count": 8,
     "metadata": {},
     "output_type": "execute_result"
    },
    {
     "data": {
      "image/png": "[encoded data removed]",
      "text/plain": [
       "<Figure size 432x288 with 1 Axes>"
      ]
     },
     "metadata": {
      "needs_background": "light"
     },
     "output_type": "display_data"
    }
   ],
   "source": [
    "er = erdos_renyi(5, 0.6, 9765) #seed = 9765\n",
    "plt.spy(er)\n",
    "plt.title('Erdos-Renyi (5, 0.6)')"
   ]
  },
  {
   "cell_type": "code",
   "execution_count": 9,
   "metadata": {},
   "outputs": [
    {
     "data": {
      "text/plain": [
       "Text(0.5, 1.05, 'Erdos-Renyi (10, 0.4)')"
      ]
     },
     "execution_count": 9,
     "metadata": {},
     "output_type": "execute_result"
    },
    {
     "data": {
      "image/png": "[encoded data removed]",
      "text/plain": [
       "<Figure size 432x288 with 1 Axes>"
      ]
     },
     "metadata": {
      "needs_background": "light"
     },
     "output_type": "display_data"
    }
   ],
   "source": [
    "er = erdos_renyi(10, 0.4, 7468) #seed = 7468\n",
    "plt.spy(er)\n",
    "plt.title('Erdos-Renyi (10, 0.4)')"
   ]
  },
  {
   "cell_type": "markdown",
   "metadata": {},
   "source": [
    "### Question 2\n",
    "\n",
    "Use the function to create a random Erdos-Renyi graph. Choose the parameters such that number of nodes is the same as in your graph, and the number of edges similar. You don't need to set the random seed. Comment on your choice of parameters."
   ]
  },
  {
   "cell_type": "code",
   "execution_count": 10,
   "metadata": {},
   "outputs": [
    {
     "name": "stdout",
     "output_type": "stream",
     "text": [
      "0.029112228727151933\n"
     ]
    }
   ],
   "source": [
    "prob = 2*n_edges/(n_nodes*(n_nodes-1)) #Random Networks slide 9/52\n",
    "print(prob)"
   ]
  },
  {
   "cell_type": "code",
   "execution_count": 11,
   "metadata": {},
   "outputs": [
    {
     "data": {
      "text/plain": [
       "Text(0.5, 1.05, 'Erdos-Renyi (10, 0.0291)')"
      ]
     },
     "execution_count": 11,
     "metadata": {},
     "output_type": "execute_result"
    },
    {
     "data": {
      "image/png": "[encoded data removed]",
      "text/plain": [
       "<Figure size 432x288 with 1 Axes>"
      ]
     },
     "metadata": {
      "needs_background": "light"
     },
     "output_type": "display_data"
    }
   ],
   "source": [
    "random_er = erdos_renyi(n=n_nodes, p=prob)\n",
    "plt.spy(random_er)\n",
    "plt.title('Erdos-Renyi (10, {:.4f})'.format(prob))"
   ]
  },
  {
   "cell_type": "code",
   "execution_count": 13,
   "metadata": {},
   "outputs": [
    {
     "data": {
      "text/plain": [
       "206115"
      ]
     },
     "execution_count": 13,
     "metadata": {},
     "output_type": "execute_result"
    }
   ],
   "source": [
    "edges_erdos = np.count_nonzero(np.triu(random_er))\n",
    "edges_erdos"
   ]
  },
  {
   "cell_type": "markdown",
   "metadata": {},
   "source": [
    "**Answer:** Without calculating the edge probability, we first chose a random probability $0.4$ and the random Erdos-Renyi graph resulted in $2835900$ edges which is much bigger than the actual number of edges of our graph ($206391$).\n",
    "\n",
    "Therefore, the edge probability should be calculated given the number of edges and nodes such that the created random graph gives approximately the same number of edges. The formula used is $prob = 2*\\dfrac{n\\_edges}{n\\_nodes*(n\\_nodes-1)}$ and has been taken from the course slides. After replacing the number of edges and nodes in the formula, probability is $0.029112228727151933$."
   ]
  },
  {
   "cell_type": "markdown",
   "metadata": {},
   "source": [
    "### Question 3\n",
    "\n",
    "Create a function that constructs a Barabási-Albert graph."
   ]
  },
  {
   "cell_type": "markdown",
   "metadata": {},
   "source": [
    "**Explanation:** The following function creates the Barabasi-Albert graph. It takes the number of nodes, the number of edges to attach from a new node to existing nodes and number of nodes for the initial connected network that is equal to 2 by default. Also, optionally a seed for the random number generator can be given as an input to get reproducible results. It returns the corresponding random Barabasi-Albert graph. In the function itself, firstly an initial connected network is formed with m0 nodes. Later, one more new node is connected to m nodes until there are n number of nodes (given as input) in the connected graph. For the sake of minimum computation, the edges are created only for the upper triangle of the adjacency matrix and then it's copied to the lower triangle."
   ]
  },
  {
   "cell_type": "code",
   "execution_count": 14,
   "metadata": {},
   "outputs": [],
   "source": [
    "def barabasi_albert(n, m, m0=2, seed=None):\n",
    "    \"\"\"Create an instance from the Barabasi-Albert graph model.\n",
    "    \n",
    "    Parameters\n",
    "    ----------\n",
    "    n: int\n",
    "        Size of the graph.\n",
    "    m: int\n",
    "        Number of edges to attach from a new node to existing nodes.\n",
    "    m0: int (optional)\n",
    "        Number of nodes for the inital connected network.\n",
    "    seed: int (optional)\n",
    "        Seed for the random number generator. To get reproducible results.\n",
    "    \n",
    "    Returns\n",
    "    -------\n",
    "    adjacency\n",
    "        The adjacency matrix of a graph.\n",
    "    \"\"\"   \n",
    "    m0 = int(m0)\n",
    "    random.seed(seed)\n",
    "    # Add m0 initial nodes\n",
    "    adjacency = np.zeros(shape=(n,n))\n",
    "    for k in range(m0):\n",
    "        for l in range(k+1,m0):\n",
    "            adjacency[k,l] = 1\n",
    "            \n",
    "    # List of existing nodes, with nodes repeated once for each adjacent edge \n",
    "    visited_nodes = list(range(m0))\n",
    "    \n",
    "    # Target nodes for new edges \n",
    "    target = random.sample(range(len(visited_nodes)),m)\n",
    "    \n",
    "    # Start adding the other n-m nodes. The first node is m. \n",
    "    for i in range(m0, n):\n",
    "        for j in range(m):\n",
    "            adjacency[target[j],i] = 1\n",
    "        visited_nodes.extend([i])\n",
    "        target = random.sample(range(len(visited_nodes)),m)\n",
    "    \n",
    "    adjacency = adjacency + np.transpose(adjacency)\n",
    "    \n",
    "    \n",
    "    return adjacency"
   ]
  },
  {
   "cell_type": "code",
   "execution_count": 15,
   "metadata": {},
   "outputs": [
    {
     "data": {
      "text/plain": [
       "Text(0.5, 1.05, 'Barabasi-Albert (5, 1)')"
      ]
     },
     "execution_count": 15,
     "metadata": {},
     "output_type": "execute_result"
    },
    {
     "data": {
      "image/png": "[encoded data removed]",
      "text/plain": [
       "<Figure size 432x288 with 1 Axes>"
      ]
     },
     "metadata": {
      "needs_background": "light"
     },
     "output_type": "display_data"
    }
   ],
   "source": [
    "ba = barabasi_albert(5, 1, 2, 9087)\n",
    "plt.spy(ba)\n",
    "plt.title('Barabasi-Albert (5, 1)')"
   ]
  },
  {
   "cell_type": "code",
   "execution_count": 16,
   "metadata": {},
   "outputs": [
    {
     "data": {
      "text/plain": [
       "Text(0.5, 1.05, 'Barabasi-Albert (10, 2)')"
      ]
     },
     "execution_count": 16,
     "metadata": {},
     "output_type": "execute_result"
    },
    {
     "data": {
      "image/png": "[encoded data removed]",
      "text/plain": [
       "<Figure size 432x288 with 1 Axes>"
      ]
     },
     "metadata": {
      "needs_background": "light"
     },
     "output_type": "display_data"
    }
   ],
   "source": [
    "ba = barabasi_albert(10, 2, 3, 8708)\n",
    "plt.spy(ba)\n",
    "plt.title('Barabasi-Albert (10, 2)')"
   ]
  },
  {
   "cell_type": "markdown",
   "metadata": {},
   "source": [
    "### Question 4\n",
    "\n",
    "Use the function to create a random Barabási-Albert graph. Choose the parameters such that number of nodes is the same as in your graph, and the number of edges similar. You don't need to set the random seed. Comment on your choice of parameters."
   ]
  },
  {
   "cell_type": "code",
   "execution_count": 17,
   "metadata": {},
   "outputs": [],
   "source": [
    "n = n_nodes\n",
    "m = int(n_edges/n_nodes)\n",
    "m0 = int(n_edges/n_nodes)"
   ]
  },
  {
   "cell_type": "code",
   "execution_count": 18,
   "metadata": {},
   "outputs": [
    {
     "data": {
      "text/plain": [
       "Text(0.5, 1.05, 'Barabasi-Albert (10, 54)')"
      ]
     },
     "execution_count": 18,
     "metadata": {},
     "output_type": "execute_result"
    },
    {
     "data": {
      "image/png": "[encoded data removed]",
      "text/plain": [
       "<Figure size 432x288 with 1 Axes>"
      ]
     },
     "metadata": {
      "needs_background": "light"
     },
     "output_type": "display_data"
    }
   ],
   "source": [
    "random_ba = barabasi_albert(n, m, m0)\n",
    "plt.spy(random_ba)\n",
    "plt.title('Barabasi-Albert (10, {})'.format(m))"
   ]
  },
  {
   "cell_type": "code",
   "execution_count": 19,
   "metadata": {},
   "outputs": [
    {
     "data": {
      "text/plain": [
       "201879"
      ]
     },
     "execution_count": 19,
     "metadata": {},
     "output_type": "execute_result"
    }
   ],
   "source": [
    "edges_barabasi = np.count_nonzero(np.triu(random_ba))\n",
    "edges_barabasi"
   ]
  },
  {
   "cell_type": "markdown",
   "metadata": {},
   "source": [
    "**Answer:** Firstly, we chose the $n$ as the original number of nodes of our graph. In a Barabasi-Albert graph, number of edges is equal to $m$ multiplied with number of nodes where $m$ is the number of edges per node. Hence we have chosen the input m as **number of edges/number of nodes**. Additionally, the number of nodes for the initial graph that is $m0$ is also equal to **number of edges/number of nodes**. In the end, we have obtained $201879$ edges where our original number of edges is $206391$. Hence, it could be stated that we have obtained a similar number of edges with these parameters."
   ]
  },
  {
   "cell_type": "markdown",
   "metadata": {},
   "source": [
    "### Question 5\n",
    "\n",
    "Compare the number of edges in all three networks (your real network, the Erdős–Rényi network, and the Barabási-Albert netowk)."
   ]
  },
  {
   "cell_type": "code",
   "execution_count": 20,
   "metadata": {},
   "outputs": [
    {
     "name": "stdout",
     "output_type": "stream",
     "text": [
      "Number of edges in our network :  206391\n",
      "Number of edges in the Erdős–Rényi network :  206115\n",
      "Number of edges in the Barabási-Albert network :  201879\n"
     ]
    }
   ],
   "source": [
    "print(\"Number of edges in our network : \", n_edges)\n",
    "print(\"Number of edges in the Erdős–Rényi network : \", edges_erdos)\n",
    "print(\"Number of edges in the Barabási-Albert network : \", edges_barabasi)"
   ]
  },
  {
   "cell_type": "markdown",
   "metadata": {},
   "source": [
    "### Question 6\n",
    "\n",
    "Implement a function that computes the [Kullback–Leibler (KL) divergence](https://en.wikipedia.org/wiki/Kullback%E2%80%93Leibler_divergence) between two probability distributions.\n",
    "We'll use it to compare the degree distributions of networks."
   ]
  },
  {
   "cell_type": "code",
   "execution_count": 21,
   "metadata": {},
   "outputs": [],
   "source": [
    "def kl_divergence(p, q):\n",
    "    \"\"\"Compute the KL divergence between probability distributions of degrees of two networks.\n",
    "    \n",
    "    Parameters\n",
    "    ----------\n",
    "    p: np.array\n",
    "        Probability distribution of degrees of the 1st graph.\n",
    "    q: np.array\n",
    "        Probability distribution of degrees of the 2nd graph.\n",
    "    \n",
    "    Returns\n",
    "    -------\n",
    "    kl\n",
    "        The KL divergence between tmhe two distributions.\n",
    "    \"\"\"\n",
    "    \n",
    "    assert len(p) == len(q)\n",
    "    \n",
    "    kl = 0\n",
    "    \n",
    "    for i in range(len(p)):\n",
    "        kl = kl + (p[i] * np.log(p[i]/q[i]))\n",
    "    \n",
    "    return kl"
   ]
  },
  {
   "cell_type": "code",
   "execution_count": 22,
   "metadata": {},
   "outputs": [
    {
     "data": {
      "text/plain": [
       "0.09151622184943575"
      ]
     },
     "execution_count": 22,
     "metadata": {},
     "output_type": "execute_result"
    }
   ],
   "source": [
    "p_test = np.array([0.2, 0.2, 0.2, 0.4])\n",
    "q_test = np.array([0.3, 0.3, 0.1, 0.3])\n",
    "kl_divergence(p_test, q_test)"
   ]
  },
  {
   "cell_type": "markdown",
   "metadata": {},
   "source": [
    "### Question 7: \n",
    "\n",
    "Compare the degree distribution of your network to each of the two synthetic ones, in terms of KL divergence.\n",
    "\n",
    "**Hint:** Make sure you normalise your degree distributions to make them valid probability distributions.\n",
    "\n",
    "**Hint:** Make sure none of the graphs have disconnected nodes, as KL divergence will not be defined in that case. If that happens with one of the randomly generated networks, you can regenerate it and keep the seed that gives you no disconnected nodes."
   ]
  },
  {
   "cell_type": "markdown",
   "metadata": {},
   "source": [
    "**Explanation:** We are using the same methodology for each of the 3 graphs in order to determine the best binnings to calculate the KL divergence. First, we determine the range of values of the graph's degrees ($\\texttt{range(i, j)}$). Then, we try to see which values are actually missing in order to bin the degrees together in the best way possible. "
   ]
  },
  {
   "cell_type": "markdown",
   "metadata": {},
   "source": [
    "#### Our network :"
   ]
  },
  {
   "cell_type": "code",
   "execution_count": 23,
   "metadata": {
    "scrolled": true
   },
   "outputs": [
    {
     "data": {
      "text/plain": [
       "numpy.ndarray"
      ]
     },
     "execution_count": 23,
     "metadata": {},
     "output_type": "execute_result"
    }
   ],
   "source": [
    "type(adjacency)"
   ]
  },
  {
   "cell_type": "code",
   "execution_count": 24,
   "metadata": {},
   "outputs": [],
   "source": [
    "degree_adj = np.count_nonzero(adjacency, axis=1)\n",
    "unique_adj, counts_adj = np.unique(degree_adj, return_counts=True)\n",
    "counts_adj = counts_adj / float(n_nodes)\n",
    "weights_adj = dict(zip(unique_adj, counts_adj))"
   ]
  },
  {
   "cell_type": "code",
   "execution_count": 25,
   "metadata": {},
   "outputs": [
    {
     "name": "stdout",
     "output_type": "stream",
     "text": [
      "[2, 3, 5, 7, 219, 244, 245, 251, 263, 276, 279, 299, 302, 304, 307, 311, 316, 322, 326, 328, 329, 331, 332, 334, 336, 337, 339, 341, 344, 347, 349, 350, 351, 353, 355, 356, 357, 359, 360, 363, 364, 366, 367, 368, 369, 370, 371, 372, 373, 375, 376, 378, 379, 381, 382, 383, 384, 385, 386, 387, 388, 389, 390, 391, 392, 395, 396, 398, 399, 400, 401, 403, 404, 405, 406, 408, 409, 410, 411, 412, 413, 414, 415, 416, 417, 418, 419, 420, 421, 423, 425, 426, 427, 428, 429, 430, 431, 432, 433, 434, 435, 436, 437, 438, 440, 441, 442, 443, 444, 445, 446, 447, 448, 449, 450, 451, 452, 453, 455, 456, 458, 459, 460, 461, 462, 463, 464, 465, 466, 467, 468, 469, 470, 471, 472, 473, 474, 475, 476, 477, 478, 479, 480, 481, 482, 483, 484, 485, 486, 487, 488, 489, 490, 491, 492, 493, 494, 495, 496, 497, 498, 499, 500, 501, 502, 503, 504, 505, 506, 507, 508, 509, 510, 511, 512, 513, 514, 515, 517, 518, 519, 520, 521, 522, 523, 524, 525, 526, 527, 528, 529, 530, 531, 532, 533, 534, 535, 536, 537, 538, 539, 540, 541, 542, 543, 544, 545, 546, 547, 548, 549, 550, 551, 552, 553, 554, 555, 556, 557, 558, 559, 560, 561, 562, 563, 564, 565, 566, 567, 568, 569, 570, 571, 572, 573, 574, 575, 576, 577, 578, 579, 580, 581, 582, 583, 584, 585, 586, 587, 588, 589, 590, 591, 592, 593, 594, 595, 596, 597, 598, 599, 600, 601, 602, 603, 604, 605, 606, 607, 608, 609, 610, 611, 612, 613, 614, 615, 616, 617, 618, 619, 620, 621, 622]\n"
     ]
    }
   ],
   "source": [
    "values_adj = set(range(1, 624))\n",
    "degrees_adj = set(degree_adj)\n",
    "print(sorted(values_adj - degrees_adj))"
   ]
  },
  {
   "cell_type": "markdown",
   "metadata": {},
   "source": [
    "#### Erdős–Rényi network : "
   ]
  },
  {
   "cell_type": "code",
   "execution_count": 26,
   "metadata": {
    "scrolled": true
   },
   "outputs": [
    {
     "data": {
      "text/plain": [
       "numpy.ndarray"
      ]
     },
     "execution_count": 26,
     "metadata": {},
     "output_type": "execute_result"
    }
   ],
   "source": [
    "type(random_er)"
   ]
  },
  {
   "cell_type": "code",
   "execution_count": 27,
   "metadata": {},
   "outputs": [],
   "source": [
    "degree_er = np.count_nonzero(random_er, axis=1)\n",
    "unique_er, counts_er = np.unique(degree_er, return_counts=True)\n",
    "counts_er = counts_er / float(n_nodes)\n",
    "weights_er = dict(zip(unique_er, counts_er))"
   ]
  },
  {
   "cell_type": "code",
   "execution_count": 28,
   "metadata": {},
   "outputs": [
    {
     "name": "stdout",
     "output_type": "stream",
     "text": [
      "[74, 76, 78, 79, 142, 143, 145]\n"
     ]
    }
   ],
   "source": [
    "values_er = set(range(74, 146))\n",
    "degrees_er = set(degree_er)\n",
    "print(sorted(values_er - degrees_er))"
   ]
  },
  {
   "cell_type": "markdown",
   "metadata": {},
   "source": [
    "**Explanation:** In this case, we see that the missing values are never consecutive, which means the best binning is through pairs. Moreover, to avoid having $0$ values, we concatenate all the extreme values to the first –_respectively last_– non-null values."
   ]
  },
  {
   "cell_type": "code",
   "execution_count": 29,
   "metadata": {},
   "outputs": [],
   "source": [
    "bins_er = [1]+[75+2*i for i in range(36)]+[623]"
   ]
  },
  {
   "cell_type": "code",
   "execution_count": 30,
   "metadata": {},
   "outputs": [],
   "source": [
    "dist_er = np.histogram(unique_er, weights=counts_er, bins = bins_er)[0]\n",
    "dist_adj_er = np.histogram(unique_adj, weights=counts_adj, bins = bins_er)[0]"
   ]
  },
  {
   "cell_type": "code",
   "execution_count": 31,
   "metadata": {},
   "outputs": [
    {
     "name": "stdout",
     "output_type": "stream",
     "text": [
      "nan\n"
     ]
    },
    {
     "name": "stderr",
     "output_type": "stream",
     "text": [
      "/anaconda3/lib/python3.6/site-packages/ipykernel_launcher.py:22: RuntimeWarning: divide by zero encountered in log\n",
      "/anaconda3/lib/python3.6/site-packages/ipykernel_launcher.py:22: RuntimeWarning: invalid value encountered in double_scalars\n"
     ]
    }
   ],
   "source": [
    "kl_adj_er = kl_divergence(dist_er, dist_adj_er)\n",
    "print(kl_adj_er)"
   ]
  },
  {
   "cell_type": "markdown",
   "metadata": {},
   "source": [
    "**Answer:** In this case, we have that $KL>1$, meaning the 2 distributions are not similar at all."
   ]
  },
  {
   "cell_type": "markdown",
   "metadata": {},
   "source": [
    "#### Barabási-Albert network :"
   ]
  },
  {
   "cell_type": "code",
   "execution_count": 32,
   "metadata": {
    "scrolled": false
   },
   "outputs": [
    {
     "data": {
      "text/plain": [
       "numpy.ndarray"
      ]
     },
     "execution_count": 32,
     "metadata": {},
     "output_type": "execute_result"
    }
   ],
   "source": [
    "type(random_ba)"
   ]
  },
  {
   "cell_type": "code",
   "execution_count": 33,
   "metadata": {},
   "outputs": [],
   "source": [
    "degree_ba = np.count_nonzero(random_ba, axis=1)\n",
    "unique_ba, counts_ba = np.unique(degree_ba, return_counts=True)\n",
    "counts_ba = counts_ba / float(n_nodes)\n",
    "weights_ba = dict(zip(unique_ba, counts_ba))"
   ]
  },
  {
   "cell_type": "code",
   "execution_count": 34,
   "metadata": {},
   "outputs": [
    {
     "name": "stdout",
     "output_type": "stream",
     "text": [
      "[218, 249, 253, 268, 281, 288, 299, 301, 304, 307, 309, 310, 311, 312]\n"
     ]
    }
   ],
   "source": [
    "values_ba = set(range(54, 313))\n",
    "degrees_ba = set(degree_ba)\n",
    "print(sorted(values_ba - degrees_ba))"
   ]
  },
  {
   "cell_type": "markdown",
   "metadata": {},
   "source": [
    "**Explanation:** In this case, we see that there are no missing values in the first range of values. However, we see the resurgence of a high number of consecutive missing values starting from $216$, which is why we choose to concatenate the values in bins of $7$. Once again, we concatenate the extreme values."
   ]
  },
  {
   "cell_type": "code",
   "execution_count": 35,
   "metadata": {},
   "outputs": [],
   "source": [
    "bins_ba = [1]+[55+i for i in range(161)]+[216+7*i for i in range(14)]+[623]"
   ]
  },
  {
   "cell_type": "code",
   "execution_count": 36,
   "metadata": {},
   "outputs": [],
   "source": [
    "dist_ba = np.histogram(unique_ba, weights=counts_ba, bins = bins_ba)[0]\n",
    "dist_adj_ba = np.histogram(unique_adj, weights=counts_adj, bins = bins_ba)[0]"
   ]
  },
  {
   "cell_type": "code",
   "execution_count": 37,
   "metadata": {},
   "outputs": [
    {
     "name": "stdout",
     "output_type": "stream",
     "text": [
      "0.27233374342981137\n"
     ]
    }
   ],
   "source": [
    "kl_adj_ba = kl_divergence(dist_ba, dist_adj_ba)\n",
    "print(kl_adj_ba)"
   ]
  },
  {
   "cell_type": "markdown",
   "metadata": {},
   "source": [
    "**Answer:** Having such a small KL divergence means that both degree distributions of the graphs are very similar."
   ]
  },
  {
   "cell_type": "markdown",
   "metadata": {},
   "source": [
    "### Question 8\n",
    "\n",
    "Plot the degree distribution historgrams for all three networks. Are they consistent with the KL divergence results? Explain."
   ]
  },
  {
   "cell_type": "code",
   "execution_count": 38,
   "metadata": {
    "scrolled": false
   },
   "outputs": [
    {
     "data": {
      "text/plain": [
       "Text(0.5, 1.0, 'Degree distribution of our network')"
      ]
     },
     "execution_count": 38,
     "metadata": {},
     "output_type": "execute_result"
    },
    {
     "data": {
      "image/png": "[encoded data removed]",
      "text/plain": [
       "<Figure size 432x288 with 1 Axes>"
      ]
     },
     "metadata": {
      "needs_background": "light"
     },
     "output_type": "display_data"
    }
   ],
   "source": [
    "plt.hist(unique_adj, weights=counts_adj)\n",
    "plt.title('Degree distribution of our network')"
   ]
  },
  {
   "cell_type": "code",
   "execution_count": 39,
   "metadata": {
    "scrolled": false
   },
   "outputs": [
    {
     "data": {
      "text/plain": [
       "Text(0.5, 1.0, 'Degree distribution of the Erdos network')"
      ]
     },
     "execution_count": 39,
     "metadata": {},
     "output_type": "execute_result"
    },
    {
     "data": {
      "image/png": "[encoded data removed]",
      "text/plain": [
       "<Figure size 432x288 with 1 Axes>"
      ]
     },
     "metadata": {
      "needs_background": "light"
     },
     "output_type": "display_data"
    }
   ],
   "source": [
    "plt.hist(unique_er, weights=counts_er)\n",
    "plt.title('Degree distribution of the Erdos network')"
   ]
  },
  {
   "cell_type": "code",
   "execution_count": 40,
   "metadata": {
    "scrolled": false
   },
   "outputs": [
    {
     "data": {
      "text/plain": [
       "Text(0.5, 1.0, 'Degree distribution of the Barabasi network')"
      ]
     },
     "execution_count": 40,
     "metadata": {},
     "output_type": "execute_result"
    },
    {
     "data": {
      "image/png": "[encoded data removed]",
      "text/plain": [
       "<Figure size 432x288 with 1 Axes>"
      ]
     },
     "metadata": {
      "needs_background": "light"
     },
     "output_type": "display_data"
    }
   ],
   "source": [
    "plt.hist(unique_ba, weights=counts_ba)\n",
    "plt.title('Degree distribution of the Barabasi network')"
   ]
  },
  {
   "cell_type": "markdown",
   "metadata": {},
   "source": [
    "**Asnwer:** These histograms reflect well the results that we have seen previously. Indeed, the Erdos network has no similarity with our network. However, our network and the Barabasi network share the same degree distribution shape. In this case, it looks a lot like a Poisson distribution."
   ]
  },
  {
   "cell_type": "markdown",
   "metadata": {},
   "source": [
    "### Question 9\n",
    "\n",
    "Imagine you got equal degree distributions. Would that guarantee you got the same graph? Explain."
   ]
  },
  {
   "cell_type": "markdown",
   "metadata": {},
   "source": [
    "**Answer:** Even though the degree distribution is identical for both networks, it wouldn't guarantee having the same graph as the same degrees could be associated to different nodes. On top of changing the meaning of the links between the nodes, co-starring actors, this would completely change the topology of the graph."
   ]
  },
  {
   "cell_type": "markdown",
   "metadata": {},
   "source": [
    "## Part 2\n",
    "\n",
    "**You are allowed to use any additional library here (e.g., NetworkX, PyGSP, etc.).** Be careful not to include something here and use it in part 1!"
   ]
  },
  {
   "cell_type": "code",
   "execution_count": 41,
   "metadata": {},
   "outputs": [],
   "source": [
    "import networkx as nx"
   ]
  },
  {
   "cell_type": "markdown",
   "metadata": {},
   "source": [
    "### Question 10\n",
    "\n",
    "Choose a random network model that fits you network well. Explain your choice. \n",
    "\n",
    "**Hint:** Check lecture notes for different network models and their properties. Your choice should be made based on at least one property you'd expect to be similar."
   ]
  },
  {
   "cell_type": "markdown",
   "metadata": {},
   "source": [
    "**Answer**: We have chosen Watts-Strogatz Random Network Model to better fit our network due to the fact that Watts-Strogatz is a small world model and our IMDB dataset is similar to a small world network in this case. After studying the slides and different random graph models, we expect the clustering coefficient of the Watts-Strogatz model to be the property that would be similar to our original network's value.\n",
    "\n",
    "Moreover, during our literature research, we have discovered that Watts-Strogatz model was designed specifically for explaining the \"small world\" phenomena in networks of movie actors.[1]\n",
    "\n",
    "[1] https://en.wikipedia.org/wiki/Watts%E2%80%93Strogatz_model#Rationale_for_the_model"
   ]
  },
  {
   "cell_type": "markdown",
   "metadata": {},
   "source": [
    "### Question 11\n",
    "\n",
    "Explain (in short) how the chosen model works."
   ]
  },
  {
   "cell_type": "markdown",
   "metadata": {},
   "source": [
    "**Answer:** The Watts–Strogatz model generates random graphs that has small-world properties. As inputs, it takes the total number of nodes (n), the average node degree (k) and the probability of rewiring each edge (p) with an optional seed for the random number generator. Firstly, a ring is created with the given number of nodes. Then, every node in the ring is connected to k (average node degree) number of other nodes. Later, an existing edge of two nodes, a and b is exchanged with the probability p to new edge between the node a and another existing node other than b. This exchange is iterated for each existing edges. In the end, this model returns the Watts-Strogatz random graph."
   ]
  },
  {
   "cell_type": "markdown",
   "metadata": {},
   "source": [
    "### Question 12\n",
    "\n",
    "Create a random graph from that model, such that the number of nodes is the same as in your graph."
   ]
  },
  {
   "cell_type": "code",
   "execution_count": 43,
   "metadata": {
    "scrolled": true
   },
   "outputs": [
    {
     "data": {
      "text/plain": [
       "206391"
      ]
     },
     "execution_count": 43,
     "metadata": {},
     "output_type": "execute_result"
    }
   ],
   "source": [
    "k_real = int(2*n_edges/n_nodes)\n",
    "m = int(n_edges/n_nodes)\n",
    "n_edges"
   ]
  },
  {
   "cell_type": "code",
   "execution_count": 44,
   "metadata": {},
   "outputs": [],
   "source": [
    "G_watts = nx.watts_strogatz_graph(n_nodes, k_real, 0.3)"
   ]
  },
  {
   "cell_type": "markdown",
   "metadata": {},
   "source": [
    "### Question 13\n",
    "\n",
    "Check the properties you expected to be similar, and compare to your network."
   ]
  },
  {
   "cell_type": "markdown",
   "metadata": {},
   "source": [
    "**Explanation:** In this part we compare the properties of our graph. We defined 3 properties that allow us to compare different models. First property is the number of edges which tells us how many connections are in the networks. The second  is the average degree representing the average number of connection that an actor has. The third one is the average clustering coefficient measuring the degree to which nodes in a graph tend to cluster together. We expect that these properties must be similar to our network"
   ]
  },
  {
   "cell_type": "markdown",
   "metadata": {},
   "source": [
    "#### Our network :"
   ]
  },
  {
   "cell_type": "code",
   "execution_count": 45,
   "metadata": {},
   "outputs": [
    {
     "name": "stdout",
     "output_type": "stream",
     "text": [
      "Number of edges 206391\n",
      "Average degree 98.5246946362188\n",
      "Clustering coefficient 0.22305771147081796\n"
     ]
    }
   ],
   "source": [
    "G = nx.from_numpy_array(adjacency)\n",
    "print(\"Number of edges\", n_edges)\n",
    "average_degree_G = sum(dict(G.degree()).values())/n_nodes\n",
    "print(\"Average degree\", average_degree_G)\n",
    "average_clustering_G = nx.average_clustering(G)\n",
    "print(\"Clustering coefficient\", average_clustering_G)"
   ]
  },
  {
   "cell_type": "code",
   "execution_count": 46,
   "metadata": {},
   "outputs": [
    {
     "data": {
      "text/plain": [
       "Text(0.5, 1.0, 'Degree distribution of our network')"
      ]
     },
     "execution_count": 46,
     "metadata": {},
     "output_type": "execute_result"
    },
    {
     "data": {
      "image/png": "[encoded data removed]",
      "text/plain": [
       "<Figure size 432x288 with 1 Axes>"
      ]
     },
     "metadata": {
      "needs_background": "light"
     },
     "output_type": "display_data"
    }
   ],
   "source": [
    "plt.hist(unique_adj, weights=counts_adj)\n",
    "plt.title('Degree distribution of our network')"
   ]
  },
  {
   "cell_type": "markdown",
   "metadata": {},
   "source": [
    "#### Watts-Strogatz network :"
   ]
  },
  {
   "cell_type": "code",
   "execution_count": 47,
   "metadata": {},
   "outputs": [
    {
     "name": "stdout",
     "output_type": "stream",
     "text": [
      "Number of edges :  203364\n",
      "Average degree :  108.0\n",
      "Clustering coefficient 0.2648445657598127\n"
     ]
    }
   ],
   "source": [
    "print(\"Number of edges : \",G_watts.number_of_edges())\n",
    "average_degree_watts = sum(dict(G_watts.degree()).values())/n_nodes\n",
    "print(\"Average degree : \", average_degree_watts)\n",
    "average_clustering_G_watts = nx.average_clustering(G_watts)\n",
    "print(\"Clustering coefficient\",average_clustering_G_watts)"
   ]
  },
  {
   "cell_type": "code",
   "execution_count": 48,
   "metadata": {},
   "outputs": [
    {
     "data": {
      "text/plain": [
       "Text(0.5, 1.0, 'Degree distribution of the Watts-Strogatz network')"
      ]
     },
     "execution_count": 48,
     "metadata": {},
     "output_type": "execute_result"
    },
    {
     "data": {
      "image/png": "[encoded data removed]",
      "text/plain": [
       "<Figure size 432x288 with 1 Axes>"
      ]
     },
     "metadata": {
      "needs_background": "light"
     },
     "output_type": "display_data"
    }
   ],
   "source": [
    "unique_watts, counts_watts = np.unique(list(dict(G_watts.degree()).values()), return_counts=True)\n",
    "counts_watts = counts_watts / float(n_nodes)\n",
    "plt.hist(list(unique_watts), weights=counts_watts)\n",
    "plt.title('Degree distribution of the Watts-Strogatz network')"
   ]
  },
  {
   "cell_type": "markdown",
   "metadata": {},
   "source": [
    "**Explanation**: The Watts-Strogatz model shows similar properties to our network."
   ]
  },
  {
   "cell_type": "code",
   "execution_count": 49,
   "metadata": {},
   "outputs": [
    {
     "name": "stdout",
     "output_type": "stream",
     "text": [
      "Error in number of edges :  0.014666337194935826\n",
      "Error in average degree :  0.09617188257996359\n",
      "Error in Clustering coefficient :  0.1873365149021606\n"
     ]
    }
   ],
   "source": [
    "print(\"Error in number of edges : \", abs(float(G_watts.number_of_edges()-n_edges)/n_edges))\n",
    "print(\"Error in average degree : \", abs(float(average_degree_watts-average_degree_G))/float(average_degree_G))\n",
    "print(\"Error in Clustering coefficient : \", abs(average_clustering_G-average_clustering_G_watts)/average_clustering_G)"
   ]
  },
  {
   "cell_type": "markdown",
   "metadata": {},
   "source": [
    "**Explanation**: We can see that the error in the Watts-Strogatz is small for the number of edges and the average degree. However there is a 20% variance in the clustering coefficient values. We can also see from the plot that the degree distribution is more constrained than our network. For example in our movie network we have a distribution that varies from 4 to 623 whereas in the Watts model we obtain a range between 75 and 145."
   ]
  },
  {
   "cell_type": "markdown",
   "metadata": {},
   "source": [
    "#### Barabasi-Albert network :"
   ]
  },
  {
   "cell_type": "code",
   "execution_count": 50,
   "metadata": {},
   "outputs": [
    {
     "name": "stdout",
     "output_type": "stream",
     "text": [
      "Number of edges 201879\n",
      "Average degree 107.2113648433351\n",
      "Clustering coefficient 0.04226331289605147\n"
     ]
    }
   ],
   "source": [
    "G_barabasi = nx.from_numpy_array(random_ba)\n",
    "print(\"Number of edges\", edges_barabasi)\n",
    "average_degree_Barabasi = sum(dict(G_barabasi.degree()).values())/n_nodes\n",
    "print(\"Average degree\", average_degree_Barabasi)\n",
    "average_clustering_barabasi = nx.average_clustering(G_barabasi)\n",
    "print(\"Clustering coefficient\", average_clustering_barabasi)"
   ]
  },
  {
   "cell_type": "code",
   "execution_count": 51,
   "metadata": {},
   "outputs": [
    {
     "data": {
      "text/plain": [
       "Text(0.5, 1.0, 'Degree distribution of our network')"
      ]
     },
     "execution_count": 51,
     "metadata": {},
     "output_type": "execute_result"
    },
    {
     "data": {
      "image/png": "[encoded data removed]",
      "text/plain": [
       "<Figure size 432x288 with 1 Axes>"
      ]
     },
     "metadata": {
      "needs_background": "light"
     },
     "output_type": "display_data"
    }
   ],
   "source": [
    "plt.hist(unique_ba, weights=counts_ba)\n",
    "plt.title('Degree distribution of our network')"
   ]
  },
  {
   "cell_type": "code",
   "execution_count": 52,
   "metadata": {},
   "outputs": [
    {
     "name": "stdout",
     "output_type": "stream",
     "text": [
      "Error in number of edges :  0.02186141837580127\n",
      "Error in average degree :  0.08816744105820339\n",
      "Error in Clustering coefficient :  0.810527452212381\n"
     ]
    }
   ],
   "source": [
    "print(\"Error in number of edges : \", abs(float(edges_barabasi-n_edges)/n_edges))\n",
    "print(\"Error in average degree : \", abs(float(average_degree_Barabasi-average_degree_G))/float(average_degree_G))\n",
    "print(\"Error in Clustering coefficient : \", abs(average_clustering_G-average_clustering_barabasi)/average_clustering_G)"
   ]
  },
  {
   "cell_type": "markdown",
   "metadata": {},
   "source": [
    "**Explanation**: We can see that the error in the the number of edges and the average degree is similar between the Barabasi-Albert model and the Watts-Strogatz model. However there is a big difference in the clustering coefficient values. We can see from the plot that the degree distribution is less constrained than the watts model and closer to our real network."
   ]
  },
  {
   "cell_type": "markdown",
   "metadata": {},
   "source": [
    "Are the results what you expected? Explain."
   ]
  },
  {
   "cell_type": "markdown",
   "metadata": {},
   "source": [
    "**Explanation:** We expected both Barabasi-Albert and Watts-Strogatz to show good fit. On one side our model represent to a certain degree small world properties where most nodes can be reached with a small number of steps. We can see that property from the clustering coefficient. On the otherside our model also shows a powerlaw behavior of scale free networks where there is increasingly less chance of co-starring with other actors. As such we expected that both these models would explain certain characteristics of our network."
   ]
  }
 ],
 "metadata": {
  "kernelspec": {
   "display_name": "Python 3",
   "language": "python",
   "name": "python3"
  },
  "language_info": {
   "codemirror_mode": {
    "name": "ipython",
    "version": 3
   },
   "file_extension": ".py",
   "mimetype": "text/x-python",
   "name": "python",
   "nbconvert_exporter": "python",
   "pygments_lexer": "ipython3",
   "version": "3.7.0"
  }
 },
 "nbformat": 4,
 "nbformat_minor": 2
}
