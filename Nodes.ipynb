{
 "cells": [
  {
   "cell_type": "code",
   "execution_count": null,
   "metadata": {},
   "outputs": [],
   "source": [
    "import numpy as np\n",
    "import pandas as pd\n",
    "import matplotlib.pyplot as plt"
   ]
  },
  {
   "cell_type": "code",
   "execution_count": null,
   "metadata": {},
   "outputs": [],
   "source": [
    "#DATA IMPORTING\n",
    "credits_path = 'data/tmdb_5000_credits.csv'\n",
    "credits_raw_df = pd.read_csv(credits_path)"
   ]
  },
  {
   "cell_type": "code",
   "execution_count": null,
   "metadata": {},
   "outputs": [],
   "source": [
    "#DATA CLEANING\n",
    "credits_cleaned_df = credits_raw_df[(credits_raw_df.cast != '[]') & (credits_raw_df.crew != '[]')]\n",
    "credits_cleaned_df.drop([813, 1891, 2862, 2905], axis=0, inplace=True)\n",
    "credits_cleaned_df = credits_cleaned_df.reset_index()\n",
    "credits_df = credits_cleaned_df.drop(['cast','crew'], axis = 1)"
   ]
  },
  {
   "cell_type": "code",
   "execution_count": null,
   "metadata": {},
   "outputs": [],
   "source": [
    "#ADDING CAST AND CREW FOR THE FIRST MOVIE\n",
    "cast_df = pd.DataFrame(eval(credits_cleaned_df['cast'][0]))\n",
    "cast_df = cast_df.drop(['character','order','cast_id', 'credit_id'],axis = 1)\n",
    "\n",
    "crew_df = pd.DataFrame(eval(credits_cleaned_df['crew'][0]))\n",
    "crew_df = crew_df.drop(['department','job', 'credit_id'], axis = 1)\n",
    "\n",
    "frames = [cast_df, crew_df]\n",
    "new_df = pd.concat(frames, join = 'outer', ignore_index=True)"
   ]
  },
  {
   "cell_type": "code",
   "execution_count": null,
   "metadata": {},
   "outputs": [],
   "source": [
    "#ADDING CAST AND CREW FOR THE REST\n",
    "for film in range(1,credits_df.shape[0]):\n",
    "    cast_df = pd.DataFrame(eval(credits_cleaned_df['cast'][film]))\n",
    "    cast_df = cast_df.drop(['character','order','cast_id', 'credit_id'],axis = 1)   \n",
    "\n",
    "    crew_df = pd.DataFrame(eval(credits_cleaned_df['crew'][film]))\n",
    "    crew_df = crew_df.drop(['department','job', 'credit_id'], axis = 1)\n",
    "\n",
    "    frames = [new_df, cast_df, crew_df]\n",
    "    new_df = pd.concat(frames, join = 'outer', ignore_index=True)\n",
    "\n",
    "nodes_df = new_df.drop_duplicates('id')"
   ]
  },
  {
   "cell_type": "code",
   "execution_count": null,
   "metadata": {},
   "outputs": [],
   "source": [
    "nodes_df = nodes_df.reset_index()\n",
    "nodes_df.shape[0]\n",
    "nodes_df.to_csv(\"data/nodes.csv\")"
   ]
  },
  {
   "cell_type": "code",
   "execution_count": null,
   "metadata": {},
   "outputs": [],
   "source": [
    "nodes_df"
   ]
  },
  {
   "cell_type": "code",
   "execution_count": null,
   "metadata": {},
   "outputs": [],
   "source": []
  }
 ],
 "metadata": {
  "kernelspec": {
   "display_name": "Python 3",
   "language": "python",
   "name": "python3"
  },
  "language_info": {
   "codemirror_mode": {
    "name": "ipython",
    "version": 3
   },
   "file_extension": ".py",
   "mimetype": "text/x-python",
   "name": "python",
   "nbconvert_exporter": "python",
   "pygments_lexer": "ipython3",
   "version": "3.6.6"
  }
 },
 "nbformat": 4,
 "nbformat_minor": 2
}
