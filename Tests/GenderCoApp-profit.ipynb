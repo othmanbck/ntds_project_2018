{
 "cells": [
  {
   "cell_type": "markdown",
   "metadata": {},
   "source": [
    "# Project"
   ]
  },
  {
   "cell_type": "code",
   "execution_count": 1,
   "metadata": {},
   "outputs": [],
   "source": [
    "import math\n",
    "import itertools\n",
    "import numpy as np\n",
    "import pandas as pd\n",
    "import matplotlib.pyplot as plt\n",
    "import networkx as nx\n",
    "from scipy import sparse\n",
    "import scipy.sparse.linalg\n",
    "from pyunlocbox import functions, solvers"
   ]
  },
  {
   "cell_type": "markdown",
   "metadata": {},
   "source": [
    "## Bechdel Test"
   ]
  },
  {
   "cell_type": "markdown",
   "metadata": {},
   "source": [
    "## Question 1  (from solutions)"
   ]
  },
  {
   "cell_type": "code",
   "execution_count": 2,
   "metadata": {},
   "outputs": [],
   "source": [
    "adjacency = pd.read_csv('../Different Adjacency/CoAppearance-gender/CoAppGenderAdjacency.csv')\n",
    "adjacency.drop(columns=['Unnamed: 0'], inplace=True)\n",
    "adjacency = pd.DataFrame(adjacency)"
   ]
  },
  {
   "cell_type": "code",
   "execution_count": 19,
   "metadata": {},
   "outputs": [
    {
     "data": {
      "text/plain": [
       "Index([], dtype='object')"
      ]
     },
     "execution_count": 19,
     "metadata": {},
     "output_type": "execute_result"
    }
   ],
   "source": [
    "adjacency.columns[adjacency.sum() == 0]"
   ]
  },
  {
   "cell_type": "code",
   "execution_count": 4,
   "metadata": {},
   "outputs": [],
   "source": [
    "non_connected = list(adjacency.columns[adjacency.sum() == 0])\n",
    "adjacency = adjacency.drop(columns=non_connected)\n",
    "non_connected_rows = [int(x) for x in non_connected]\n",
    "adjacency = adjacency.drop(non_connected_rows, axis=0)"
   ]
  },
  {
   "cell_type": "code",
   "execution_count": 5,
   "metadata": {},
   "outputs": [
    {
     "data": {
      "text/plain": [
       "3499"
      ]
     },
     "execution_count": 5,
     "metadata": {},
     "output_type": "execute_result"
    }
   ],
   "source": [
    "n_nodes = len(adjacency)\n",
    "n_nodes"
   ]
  },
  {
   "cell_type": "code",
   "execution_count": 6,
   "metadata": {},
   "outputs": [],
   "source": [
    "edges = pd.read_csv('../Different Adjacency/CoAppearance-gender/CoAppGenderEdges.csv')\n",
    "edges.drop(columns=['Unnamed: 0'], inplace=True)"
   ]
  },
  {
   "cell_type": "code",
   "execution_count": 7,
   "metadata": {},
   "outputs": [
    {
     "data": {
      "text/html": [
       "<div>\n",
       "<style scoped>\n",
       "    .dataframe tbody tr th:only-of-type {\n",
       "        vertical-align: middle;\n",
       "    }\n",
       "\n",
       "    .dataframe tbody tr th {\n",
       "        vertical-align: top;\n",
       "    }\n",
       "\n",
       "    .dataframe thead th {\n",
       "        text-align: right;\n",
       "    }\n",
       "</style>\n",
       "<table border=\"1\" class=\"dataframe\">\n",
       "  <thead>\n",
       "    <tr style=\"text-align: right;\">\n",
       "      <th></th>\n",
       "      <th>vote_average</th>\n",
       "      <th>genre_name_disc</th>\n",
       "      <th>profit</th>\n",
       "      <th>gender</th>\n",
       "      <th>id</th>\n",
       "      <th>name</th>\n",
       "    </tr>\n",
       "  </thead>\n",
       "  <tbody>\n",
       "    <tr>\n",
       "      <th>0</th>\n",
       "      <td>6.5</td>\n",
       "      <td>Action</td>\n",
       "      <td>160000000.0</td>\n",
       "      <td>2</td>\n",
       "      <td>2231</td>\n",
       "      <td>Samuel L. Jackson</td>\n",
       "    </tr>\n",
       "    <tr>\n",
       "      <th>1</th>\n",
       "      <td>6.5</td>\n",
       "      <td>Drama</td>\n",
       "      <td>50000000.0</td>\n",
       "      <td>2</td>\n",
       "      <td>380</td>\n",
       "      <td>Robert De Niro</td>\n",
       "    </tr>\n",
       "    <tr>\n",
       "      <th>2</th>\n",
       "      <td>6.0</td>\n",
       "      <td>Action</td>\n",
       "      <td>90000000.0</td>\n",
       "      <td>2</td>\n",
       "      <td>62</td>\n",
       "      <td>Bruce Willis</td>\n",
       "    </tr>\n",
       "    <tr>\n",
       "      <th>3</th>\n",
       "      <td>6.5</td>\n",
       "      <td>Drama</td>\n",
       "      <td>100000000.0</td>\n",
       "      <td>2</td>\n",
       "      <td>1892</td>\n",
       "      <td>Matt Damon</td>\n",
       "    </tr>\n",
       "    <tr>\n",
       "      <th>4</th>\n",
       "      <td>6.5</td>\n",
       "      <td>Drama</td>\n",
       "      <td>140000000.0</td>\n",
       "      <td>2</td>\n",
       "      <td>192</td>\n",
       "      <td>Morgan Freeman</td>\n",
       "    </tr>\n",
       "  </tbody>\n",
       "</table>\n",
       "</div>"
      ],
      "text/plain": [
       "   vote_average genre_name_disc       profit  gender    id               name\n",
       "0           6.5          Action  160000000.0       2  2231  Samuel L. Jackson\n",
       "1           6.5           Drama   50000000.0       2   380     Robert De Niro\n",
       "2           6.0          Action   90000000.0       2    62       Bruce Willis\n",
       "3           6.5           Drama  100000000.0       2  1892         Matt Damon\n",
       "4           6.5           Drama  140000000.0       2   192     Morgan Freeman"
      ]
     },
     "execution_count": 7,
     "metadata": {},
     "output_type": "execute_result"
    }
   ],
   "source": [
    "features = pd.read_csv('../Different Adjacency/CoAppearance-gender/CoAppGenderFeatures.csv')\n",
    "features.drop(columns=['Unnamed: 0'], inplace=True)\n",
    "features.drop(non_connected_rows[0])\n",
    "features.head()"
   ]
  },
  {
   "cell_type": "code",
   "execution_count": 8,
   "metadata": {},
   "outputs": [],
   "source": [
    "labels = features.reset_index()\n",
    "id_to_idx = dict(zip(labels['id'], labels.index))"
   ]
  },
  {
   "cell_type": "code",
   "execution_count": 9,
   "metadata": {},
   "outputs": [
    {
     "data": {
      "text/html": [
       "<div>\n",
       "<style scoped>\n",
       "    .dataframe tbody tr th:only-of-type {\n",
       "        vertical-align: middle;\n",
       "    }\n",
       "\n",
       "    .dataframe tbody tr th {\n",
       "        vertical-align: top;\n",
       "    }\n",
       "\n",
       "    .dataframe thead th {\n",
       "        text-align: right;\n",
       "    }\n",
       "</style>\n",
       "<table border=\"1\" class=\"dataframe\">\n",
       "  <thead>\n",
       "    <tr style=\"text-align: right;\">\n",
       "      <th></th>\n",
       "      <th>0</th>\n",
       "      <th>1</th>\n",
       "    </tr>\n",
       "  </thead>\n",
       "  <tbody>\n",
       "    <tr>\n",
       "      <th>0</th>\n",
       "      <td>1525</td>\n",
       "      <td>2857</td>\n",
       "    </tr>\n",
       "    <tr>\n",
       "      <th>1</th>\n",
       "      <td>1099</td>\n",
       "      <td>2857</td>\n",
       "    </tr>\n",
       "    <tr>\n",
       "      <th>2</th>\n",
       "      <td>229</td>\n",
       "      <td>2857</td>\n",
       "    </tr>\n",
       "    <tr>\n",
       "      <th>3</th>\n",
       "      <td>2470</td>\n",
       "      <td>2857</td>\n",
       "    </tr>\n",
       "    <tr>\n",
       "      <th>4</th>\n",
       "      <td>3162</td>\n",
       "      <td>2857</td>\n",
       "    </tr>\n",
       "  </tbody>\n",
       "</table>\n",
       "</div>"
      ],
      "text/plain": [
       "      0     1\n",
       "0  1525  2857\n",
       "1  1099  2857\n",
       "2   229  2857\n",
       "3  2470  2857\n",
       "4  3162  2857"
      ]
     },
     "execution_count": 9,
     "metadata": {},
     "output_type": "execute_result"
    }
   ],
   "source": [
    "edges = pd.DataFrame(edges)\n",
    "edges.head()\n",
    "edges['0'] = edges['0'].map(id_to_idx)\n",
    "edges['1'] = edges['1'].map(id_to_idx)\n",
    "edges.head()"
   ]
  },
  {
   "cell_type": "code",
   "execution_count": 10,
   "metadata": {},
   "outputs": [],
   "source": [
    "n_edges = len(edges)"
   ]
  },
  {
   "cell_type": "code",
   "execution_count": 11,
   "metadata": {},
   "outputs": [],
   "source": [
    "# Recomputing the Laplacian\n",
    "D = np.diag(np.sum(adjacency, 1)) # Degree matrix\n",
    "D_norm = np.diag(np.sum(adjacency, 1)**(-1/2)) \n",
    "laplacian_combinatorial =  D - adjacency\n",
    "laplacian_normalized =  D_norm @ laplacian_combinatorial @ D_norm\n",
    "\n",
    "laplacian = laplacian_normalized"
   ]
  },
  {
   "cell_type": "markdown",
   "metadata": {},
   "source": [
    "Compute the Fourier basis vectors and the Laplacian eigenvalues"
   ]
  },
  {
   "cell_type": "code",
   "execution_count": 12,
   "metadata": {},
   "outputs": [],
   "source": [
    "e, U = np.linalg.eigh(laplacian)\n",
    "idx = np.argsort(e)[::1]   \n",
    "e = e[idx]\n",
    "U = U[:,idx]"
   ]
  },
  {
   "cell_type": "code",
   "execution_count": 15,
   "metadata": {},
   "outputs": [
    {
     "data": {
      "text/plain": [
       "-3.866154680271562e-16"
      ]
     },
     "execution_count": 15,
     "metadata": {},
     "output_type": "execute_result"
    }
   ],
   "source": [
    "e[1]"
   ]
  },
  {
   "cell_type": "code",
   "execution_count": 13,
   "metadata": {},
   "outputs": [
    {
     "name": "stdout",
     "output_type": "stream",
     "text": [
      "Fiedler value: -0.00000\n"
     ]
    }
   ],
   "source": [
    "print(\"Fiedler value: {:0.5f}\".format(e[1]))"
   ]
  },
  {
   "cell_type": "code",
   "execution_count": 14,
   "metadata": {},
   "outputs": [
    {
     "data": {
      "text/plain": [
       "[<matplotlib.lines.Line2D at 0x10d810cf8>]"
      ]
     },
     "execution_count": 14,
     "metadata": {},
     "output_type": "execute_result"
    },
    {
     "data": {
      "image/png": "[encoded data removed]",
      "text/plain": [
       "<Figure size 432x288 with 1 Axes>"
      ]
     },
     "metadata": {
      "needs_background": "light"
     },
     "output_type": "display_data"
    }
   ],
   "source": [
    "plt.plot(U[1])"
   ]
  },
  {
   "cell_type": "code",
   "execution_count": 24,
   "metadata": {},
   "outputs": [
    {
     "name": "stderr",
     "output_type": "stream",
     "text": [
      "/anaconda3/lib/python3.6/site-packages/ipykernel_launcher.py:1: FutureWarning: Method .as_matrix will be removed in a future version. Use .values instead.\n",
      "  \"\"\"Entry point for launching an IPython kernel.\n"
     ]
    }
   ],
   "source": [
    "graph = nx.from_numpy_matrix(adjacency.as_matrix())\n",
    "comps = sorted(nx.connected_components(graph), key = len, reverse=True)"
   ]
  },
  {
   "cell_type": "code",
   "execution_count": 26,
   "metadata": {},
   "outputs": [],
   "source": [
    "sub1 = graph.subgraph(comps[0])\n",
    "sub2 = graph.subgraph(comps[1])"
   ]
  },
  {
   "cell_type": "code",
   "execution_count": 28,
   "metadata": {},
   "outputs": [
    {
     "data": {
      "text/plain": [
       "0.0810160854657273"
      ]
     },
     "execution_count": 28,
     "metadata": {},
     "output_type": "execute_result"
    }
   ],
   "source": [
    "nx.algebraic_connectivity(sub1)"
   ]
  },
  {
   "cell_type": "code",
   "execution_count": 29,
   "metadata": {},
   "outputs": [
    {
     "data": {
      "text/plain": [
       "0.07884615204150483"
      ]
     },
     "execution_count": 29,
     "metadata": {},
     "output_type": "execute_result"
    }
   ],
   "source": [
    "nx.algebraic_connectivity(sub2)"
   ]
  },
  {
   "cell_type": "markdown",
   "metadata": {},
   "source": [
    "The Eigenvalues are already sorted in ascending order:"
   ]
  },
  {
   "cell_type": "code",
   "execution_count": null,
   "metadata": {},
   "outputs": [],
   "source": [
    "plt.figure(figsize=(20,5))\n",
    "\n",
    "(markerline, stemlines, baseline)=plt.stem(np.arange(len(e)),e);\n",
    "plt.setp(baseline, visible=False)\n",
    "plt.ylim((0,1.2))\n",
    "plt.xlim((-1,98))\n",
    "plt.ylabel('$\\lambda$');\n",
    "plt.xlabel('Eigenvalue index');"
   ]
  },
  {
   "cell_type": "markdown",
   "metadata": {},
   "source": [
    "Plot the first 3 and the last Fourier basis vectors as signals on your graph. Clearly indicate which plot belongs to which basis vector."
   ]
  },
  {
   "cell_type": "code",
   "execution_count": null,
   "metadata": {},
   "outputs": [],
   "source": [
    "D_norm = np.diag(np.sum(adjacency, 1)**(-1/2)) \n",
    "network_emb = D_norm @ U[:,[1,3]]\n",
    "emb_x = network_emb[:,0]\n",
    "emb_y = network_emb[:,1]"
   ]
  },
  {
   "cell_type": "markdown",
   "metadata": {},
   "source": [
    "We plot the first four and two last Fourier basis vectors instead to see some more variation:"
   ]
  },
  {
   "cell_type": "code",
   "execution_count": null,
   "metadata": {},
   "outputs": [],
   "source": [
    "fig, ax = plt.subplots(3, 2, figsize=(15,17))\n",
    "\n",
    "fourier_bases = [0,1,2,3,len(adjacency)-2,len(adjacency)-1]\n",
    "\n",
    "vmax = max(-U[:,fourier_bases].min(), U[:,fourier_bases].max())\n",
    "vmin = -vmax\n",
    "\n",
    "for ax_idx, fourier_basis in enumerate(fourier_bases):\n",
    "    ax_x, ax_y = ax_idx//2, ax_idx%2\n",
    "    im = ax[ax_x, ax_y].scatter(emb_x, emb_y, c=U[:,fourier_basis], cmap='bwr', s=70, \n",
    "                                edgecolors='black', vmin=vmin, vmax=vmax)\n",
    "    ax[ax_x, ax_y].set_title('Signal = Fourier basis {}'.format(fourier_basis))\n",
    "    ax[ax_x, ax_y].set_xlabel('Generalized eigenvector embedding $U_1$')\n",
    "    ax[ax_x, ax_y].set_ylabel('Generalized eigenvector embedding $U_3$')\n",
    "    \n",
    "fig.subplots_adjust(right=0.9)\n",
    "cbar_ax = fig.add_axes([0.925, 0.15, 0.025, 0.7])\n",
    "fig.colorbar(im, cax=cbar_ax)"
   ]
  },
  {
   "cell_type": "markdown",
   "metadata": {},
   "source": [
    "In addition to our own embedding using two chosen Eigenvectors, we would also like to display all graphs using NetworkX's Force-directed layout. This finds the party separation between the two main clusters and arranges them nicely (with one exception).\n",
    "\n",
    "Also, in this representation we can plot all the edges without distracting too much from the nodes."
   ]
  },
  {
   "cell_type": "code",
   "execution_count": null,
   "metadata": {},
   "outputs": [],
   "source": [
    "graph = nx.from_numpy_matrix(adjacency.as_matrix())\n",
    "coords = nx.spring_layout(graph) # Force-directed layout."
   ]
  },
  {
   "cell_type": "code",
   "execution_count": null,
   "metadata": {},
   "outputs": [],
   "source": [
    "fig, ax = plt.subplots(3, 2, figsize=(15,15))\n",
    "\n",
    "fourier_bases = [0,1,2,3,96,97]\n",
    "\n",
    "vmax = max(-U[:,fourier_bases].min(), U[:,fourier_bases].max())\n",
    "vmin = -vmax\n",
    "\n",
    "for ax_idx, fourier_basis in enumerate(fourier_bases):\n",
    "    ax_x, ax_y = ax_idx//2, ax_idx%2\n",
    "    im = nx.draw_networkx_nodes(graph, coords, node_size=60, node_color=U[:,fourier_basis], \n",
    "                                cmap='bwr', edgecolors='black', ax=ax[ax_x, ax_y], vmin=vmin, vmax=vmax)\n",
    "    nx.draw_networkx_edges(graph, coords, alpha=0.2, ax=ax[ax_x, ax_y])\n",
    "    ax[ax_x, ax_y].set_title('Signal = Fourier basis {}'.format(fourier_basis))\n",
    "    \n",
    "fig.subplots_adjust(right=0.9)\n",
    "cbar_ax = fig.add_axes([0.925, 0.15, 0.025, 0.7])\n",
    "fig.colorbar(im, cax=cbar_ax)"
   ]
  },
  {
   "cell_type": "markdown",
   "metadata": {},
   "source": [
    "## Question 2"
   ]
  },
  {
   "cell_type": "markdown",
   "metadata": {},
   "source": [
    "What can you observe in terms of local variations when comparing the basis vectors corresponding to the smallest eigenvalues to those corresponding to the largest eigenvalue? How would this justify the interpretation of the eigenvalues as \"graph frequencies\"?\n",
    "\n",
    "Your answer here:\n",
    "\n",
    "For the signals corresponding to the smallest eigenvalues, we can observe them having very low frequencies over the network while still having very large weights. The basis vectors of larger eigenvalues contain mostly lower amplitudes and slightly higher frequencies. The one outlier node has a large influence over some of the Fourier bases, like basis 2."
   ]
  },
  {
   "cell_type": "markdown",
   "metadata": {},
   "source": [
    "## Question 3"
   ]
  },
  {
   "cell_type": "markdown",
   "metadata": {},
   "source": [
    "Graph Fourier transform (GFT) and Inverse Graph Fourier transform (iGFT)"
   ]
  },
  {
   "cell_type": "code",
   "execution_count": null,
   "metadata": {},
   "outputs": [],
   "source": [
    "def GFT(x):\n",
    "    return U.T @ x #The matmul function implements the semantics of the @ operator introduced in Python 3.5\n",
    "\n",
    "def iGFT(x):\n",
    "    return U @ x"
   ]
  },
  {
   "cell_type": "markdown",
   "metadata": {},
   "source": [
    "## Question 4"
   ]
  },
  {
   "cell_type": "markdown",
   "metadata": {},
   "source": [
    "Plot your feature/label vector as a signal on your graph"
   ]
  },
  {
   "cell_type": "code",
   "execution_count": null,
   "metadata": {},
   "outputs": [],
   "source": [
    "def coplot_network_signal(signal, title='Signal = ...'):\n",
    "    '''\n",
    "    Plots a signal on a graph using both a Laplacian embedding and the NetworkX force-directed layout.\n",
    "    \n",
    "    Args:\n",
    "        signal: The signal of each node to plot on the graph\n",
    "        title: Plot title\n",
    "    '''\n",
    "    fig, ax = plt.subplots(1, 2, figsize=(16,7))\n",
    "        \n",
    "    vmax = max(-np.nanmin(signal), np.nanmax(signal))\n",
    "    vmin = -vmax\n",
    "\n",
    "    im = ax[0].scatter(emb_x, emb_y, c=signal, cmap='bwr', s=70, edgecolors='black', \n",
    "                       vmin=vmin, vmax=vmax)\n",
    "    ax[0].set_title('Laplacian Embedding')\n",
    "    ax[0].set_xlabel('Generalized eigenvector embedding $U_1$')\n",
    "    ax[0].set_ylabel('Generalized eigenvector embedding $U_3$')\n",
    "\n",
    "    nx.draw_networkx_nodes(graph, coords, node_size=60, node_color=signal, cmap='bwr', \n",
    "                           edgecolors='black', ax=ax[1], vmin=vmin, vmax=vmax)\n",
    "    nx.draw_networkx_edges(graph, coords, alpha=0.2, ax=ax[1])\n",
    "    ax[1].set_title('NetworkX Force-directed layout')\n",
    "\n",
    "    fig.suptitle(title, fontsize=16)\n",
    "\n",
    "    fig.subplots_adjust(right=0.9)\n",
    "    cbar_ax = fig.add_axes([0.925, 0.15, 0.025, 0.7])\n",
    "    fig.colorbar(im, cax=cbar_ax)"
   ]
  },
  {
   "cell_type": "code",
   "execution_count": null,
   "metadata": {},
   "outputs": [],
   "source": [
    "features.head()"
   ]
  },
  {
   "cell_type": "code",
   "execution_count": null,
   "metadata": {},
   "outputs": [],
   "source": [
    "labels = features['profit']"
   ]
  },
  {
   "cell_type": "code",
   "execution_count": null,
   "metadata": {},
   "outputs": [],
   "source": [
    "coplot_network_signal(labels, title='Signal = Ground truth labels')"
   ]
  },
  {
   "cell_type": "markdown",
   "metadata": {},
   "source": [
    "Plot the absolute values of the GFT of your feature/label signal as a function of the graph eigenvalues. Make sure to add a marker indicating the position of each graph eigenvalue, and remember to properly name the axes.\n",
    "\n",
    "We plot the signal with respect to the (normalized) Eigenvalue frequency as well as the respective index."
   ]
  },
  {
   "cell_type": "code",
   "execution_count": null,
   "metadata": {},
   "outputs": [],
   "source": [
    "plt.figure(figsize=(20,8))\n",
    "\n",
    "(markerline, stemlines, baseline)=plt.stem(np.arange(len(e)),abs(GFT(labels)));\n",
    "plt.setp(baseline, visible=False)\n",
    "plt.ylim((0,10))\n",
    "plt.xlim((-1,98))\n",
    "plt.title('Graph Fourier Transform of the real label signal')\n",
    "plt.ylabel('$|U^T x|$');\n",
    "plt.xlabel('Eigenvalue index');"
   ]
  },
  {
   "cell_type": "code",
   "execution_count": null,
   "metadata": {},
   "outputs": [],
   "source": [
    "plt.figure(figsize=(20,8))\n",
    "\n",
    "(markerline, stemlines, baseline)=plt.stem(e,abs(GFT(labels)));\n",
    "plt.setp(baseline, visible=False)\n",
    "plt.ylim((0,10))\n",
    "plt.title('Graph Fourier Transform of the real label signal')\n",
    "plt.ylabel('$|U^T x|$');\n",
    "plt.xlabel('Eigenvalue frequency');"
   ]
  },
  {
   "cell_type": "markdown",
   "metadata": {},
   "source": [
    "## Question 6"
   ]
  },
  {
   "cell_type": "code",
   "execution_count": null,
   "metadata": {},
   "outputs": [],
   "source": [
    "def heat_kernel(e, t):\n",
    "    return np.exp(-t * e)\n",
    "\n",
    "def inverse_kernel(e, t):\n",
    "    return 1/(1 + t*e)\n",
    "\n",
    "def rectangle_kernel(e, l_min, l_max):\n",
    "    return ((e >= l_min) & (e <= l_max)).astype(float)\n",
    "\n",
    "def graph_filter(x, kernel, **kwargs):\n",
    "    return iGFT(kernel(e, **kwargs) * GFT(x))"
   ]
  },
  {
   "cell_type": "markdown",
   "metadata": {},
   "source": [
    "## Question 7"
   ]
  },
  {
   "cell_type": "markdown",
   "metadata": {},
   "source": [
    "Plot all three filter kernels in the spectral domain. Remember to properly name the axes and title the plots. Choose filter parameters that best approximate the behavior of the GFT of your feature/label signal (as seen in Question 4).\n",
    "\n",
    "We plot the signal with respect to the (normalized) Eigenvalue frequency as well as the respective index."
   ]
  },
  {
   "cell_type": "code",
   "execution_count": null,
   "metadata": {},
   "outputs": [],
   "source": [
    "fig, ax = plt.subplots(3, 1, figsize=(20,16))\n",
    "\n",
    "kernels = {\n",
    "    'Heat kernel': heat_kernel(e,5),\n",
    "    'Inverse kernel': inverse_kernel(e,10),\n",
    "    'Rectangular kernel': rectangle_kernel(e,0.1,0.8)\n",
    "}\n",
    "\n",
    "for idx, (kernel_name, kernel) in enumerate(kernels.items()):    \n",
    "    (markerline, stemlines, baseline)=ax[idx].stem(np.arange(len(e)), kernel);\n",
    "    plt.setp(baseline, visible=False)\n",
    "    ax[idx].set_ylim((0,1.1))\n",
    "    ax[idx].set_xlim((-1,98))\n",
    "    ax[idx].set_title(kernel_name)\n",
    "    ax[idx].set_ylabel('Kernel strength');\n",
    "    ax[idx].set_xlabel('Eigenvalue index');"
   ]
  },
  {
   "cell_type": "code",
   "execution_count": null,
   "metadata": {},
   "outputs": [],
   "source": [
    "fig, ax = plt.subplots(3, 1, figsize=(20,16))\n",
    "\n",
    "kernels = {\n",
    "    'Heat kernel': heat_kernel(e,3),\n",
    "    'Inverse kernel': inverse_kernel(e,10),\n",
    "    'Rectangular kernel': rectangle_kernel(e,0.6,1.2)\n",
    "}\n",
    "\n",
    "for idx, (kernel_name, kernel) in enumerate(kernels.items()):    \n",
    "    (markerline, stemlines, baseline)=ax[idx].stem(e, kernel);\n",
    "    plt.setp(baseline, visible=False)\n",
    "    ax[idx].set_ylim((0,1.1))\n",
    "    ax[idx].set_title(kernel_name)\n",
    "    ax[idx].set_ylabel('Kernel strength');\n",
    "    ax[idx].set_xlabel('Eigenvalue frequency');"
   ]
  },
  {
   "cell_type": "markdown",
   "metadata": {},
   "source": [
    "We chose the filter parameters such that the second peak gets preserved well, while larger frequencies are attenuated. With the rectangle kernel, we can very easily select the desired frequencies, while with the other two we have to find some equilibrium between the strength of the desired signal and the rest. In case of the heat kernel, we could nicely isolate the second peak while not having to worry about the first one, as it models a constant signal over the network. In the inverse kernel, we still have a tail with a lot of weight.\n",
    "\n",
    "When filtering, we multiply this filter kernel by the Fourier spectrum of a signal, whereby the low frequencies are kept and the larger frequencies are discarded."
   ]
  },
  {
   "cell_type": "markdown",
   "metadata": {},
   "source": [
    "## Question 8"
   ]
  },
  {
   "cell_type": "markdown",
   "metadata": {},
   "source": [
    "Consider two Dirac impulses arbitrarily placed on your graph. Plot their filtered versions by the three filter kernels implemented in Question 6."
   ]
  },
  {
   "cell_type": "code",
   "execution_count": null,
   "metadata": {},
   "outputs": [],
   "source": [
    "def plot_filtered_diracs(dirac_dict, kernel_name, kernel, **kwargs):\n",
    "    ''' \n",
    "    Plots the filtered signal of two randomly chosen dirac spikes on a graph. \n",
    "    Plots using both Laplacian embedding and NetworkX Force-directed layout.\n",
    "    \n",
    "    Args:\n",
    "        dirac_dict: Dictionary specifying index and value of diracs. Eg: {30: 1, 60: -1}\n",
    "        kernel_name: Used in the title to indicate used kernel type\n",
    "        kernel: Kernel function to apply to diracs\n",
    "        kwargs: Additional arguments for specific kernel\n",
    "    '''\n",
    "    diracs = np.zeros(n_nodes)\n",
    "    dirac_idxs = list(dirac_dict.keys())\n",
    "    for idx, dirac_value in dirac_dict.items():\n",
    "        diracs[idx] = dirac_value\n",
    "\n",
    "    filtered = graph_filter(diracs, kernel, **kwargs)\n",
    "\n",
    "    vmax = max(-filtered.min(), filtered.max())\n",
    "    vmin = -vmax\n",
    "\n",
    "    # Plot using Laplacian embedding\n",
    "    fig, ax = plt.subplots(1, 2, figsize=(16,7))\n",
    "    # Plotting all nodes\n",
    "    ax[0].scatter(emb_x, emb_y, c=filtered, cmap='PiYG', s=70, \n",
    "                  edgecolors='black', vmin=vmin, vmax=vmax)\n",
    "    # Plotting the dirac locations\n",
    "    im = ax[0].scatter(emb_x[dirac_idxs], emb_y[dirac_idxs], c=diracs[dirac_idxs], \n",
    "                       cmap='PiYG', s=300, edgecolors='black', vmin=vmin, vmax=vmax, marker='x')\n",
    "    ax[0].set_title('Laplacian Embedding')\n",
    "    ax[0].set_xlabel('Generalized eigenvector embedding $U_1$')\n",
    "    ax[0].set_ylabel('Generalized eigenvector embedding $U_3$')\n",
    "\n",
    "    # Plot using NetworkX\n",
    "    nx.draw_networkx_nodes(graph, coords, node_size=60, node_color=filtered, \n",
    "                           cmap='PiYG', edgecolors='black', ax=ax[1], vmin=vmin, vmax=vmax)\n",
    "    nx.draw_networkx_edges(graph, coords, alpha=0.2, ax=ax[1])\n",
    "    # Plotting the dirac locations\n",
    "    d1_coords = coords[dirac_idxs[0]]\n",
    "    d2_coords = coords[dirac_idxs[1]]\n",
    "    im = ax[1].scatter(d1_coords[0], d1_coords[1], c=diracs[dirac_idxs[0]], \n",
    "                       cmap='PiYG', s=300, edgecolors='black', vmin=vmin, vmax=vmax, marker='x')\n",
    "    im = ax[1].scatter(d2_coords[0], d2_coords[1], c=diracs[dirac_idxs[1]], \n",
    "                       cmap='PiYG', s=300, edgecolors='black', vmin=vmin, vmax=vmax, marker='x')\n",
    "    ax[1].set_title('NetworkX Force-directed layout')\n",
    "\n",
    "    fig.suptitle('Signal = Two diracs filtered using {}'.format(kernel_name), fontsize=16)\n",
    "\n",
    "    fig.subplots_adjust(right=0.9)\n",
    "    cbar_ax = fig.add_axes([0.925, 0.15, 0.025, 0.7])\n",
    "    fig.colorbar(im, cax=cbar_ax)"
   ]
  },
  {
   "cell_type": "markdown",
   "metadata": {},
   "source": [
    "In the following plots, as our graph consists of two main clusters, we will plot the following possible combinations of placing two dirac spikes:\n",
    "\n",
    "8.1: Diracs of opposite signs in opposite clusters\n",
    "8.2: Diracs of opposite signs in same cluster\n",
    "8.3: Diracs of equal signs in opposite clusters\n",
    "8.4: Diracs of equal signs in same cluster\n",
    "For reproducibility reasons we will hereby not initialize the nodes randomly, but choose them arbitrarily ourself. We chose nodes 15, 30 and 60 for that purpose.\n",
    "\n",
    "We plot the bellow graphs using a different color palette, as not to conflict the colours with any party associations in this exercise."
   ]
  },
  {
   "cell_type": "markdown",
   "metadata": {},
   "source": [
    "#### 8.1 Diracs of opposite signs in opposite clusters"
   ]
  },
  {
   "cell_type": "code",
   "execution_count": null,
   "metadata": {},
   "outputs": [],
   "source": [
    "plot_filtered_diracs({30: -1, 60: 1}, 'Heat Kernel', heat_kernel, t=5)"
   ]
  },
  {
   "cell_type": "code",
   "execution_count": null,
   "metadata": {},
   "outputs": [],
   "source": [
    "plot_filtered_diracs({30: -1, 60: 1}, 'Inverse Kernel', inverse_kernel, t=10)"
   ]
  },
  {
   "cell_type": "code",
   "execution_count": null,
   "metadata": {},
   "outputs": [],
   "source": [
    "plot_filtered_diracs({30: -1, 60: 1}, 'Rectangle Kernel', rectangle_kernel, l_min=0.1, l_max=0.8)"
   ]
  },
  {
   "cell_type": "markdown",
   "metadata": {},
   "source": [
    "#### 8.2 Diracs of opposite signs in same clusters"
   ]
  },
  {
   "cell_type": "code",
   "execution_count": null,
   "metadata": {},
   "outputs": [],
   "source": [
    "plot_filtered_diracs({30: -1, 15: 1}, 'Heat Kernel', heat_kernel, t=5)"
   ]
  },
  {
   "cell_type": "code",
   "execution_count": null,
   "metadata": {},
   "outputs": [],
   "source": [
    "plot_filtered_diracs({30: -1, 15: 1}, 'Inverse Kernel', inverse_kernel, t=10)"
   ]
  },
  {
   "cell_type": "code",
   "execution_count": null,
   "metadata": {},
   "outputs": [],
   "source": [
    "plot_filtered_diracs({30: -1, 15: 1}, 'Rectangle Kernel', rectangle_kernel, l_min=0.1, l_max=0.8)"
   ]
  },
  {
   "cell_type": "markdown",
   "metadata": {},
   "source": [
    "#### 8.3 Diracs of equal signs in opposite clusters"
   ]
  },
  {
   "cell_type": "code",
   "execution_count": null,
   "metadata": {},
   "outputs": [],
   "source": [
    "plot_filtered_diracs({30: 1, 60: 1}, 'Heat Kernel', heat_kernel, t=5)"
   ]
  },
  {
   "cell_type": "code",
   "execution_count": null,
   "metadata": {},
   "outputs": [],
   "source": [
    "plot_filtered_diracs({30: 1, 60: 1}, 'Inverse Kernel', inverse_kernel, t=10)"
   ]
  },
  {
   "cell_type": "code",
   "execution_count": null,
   "metadata": {},
   "outputs": [],
   "source": [
    "plot_filtered_diracs({30: 1, 60: 1}, 'Rectangle Kernel', rectangle_kernel, l_min=0.1, l_max=0.8)"
   ]
  },
  {
   "cell_type": "markdown",
   "metadata": {},
   "source": [
    "#### 8.4 Diracs of equal signs in same cluster"
   ]
  },
  {
   "cell_type": "code",
   "execution_count": null,
   "metadata": {},
   "outputs": [],
   "source": [
    "plot_filtered_diracs({30: 1, 15: 1}, 'Heat Kernel', heat_kernel, t=5)"
   ]
  },
  {
   "cell_type": "code",
   "execution_count": null,
   "metadata": {},
   "outputs": [],
   "source": [
    "plot_filtered_diracs({30: 1, 15: 1}, 'Inverse Kernel', inverse_kernel, t=10)"
   ]
  },
  {
   "cell_type": "code",
   "execution_count": null,
   "metadata": {},
   "outputs": [],
   "source": [
    "plot_filtered_diracs({30: 1, 15: 1}, 'Rectangle Kernel', rectangle_kernel, l_min=0.1, l_max=0.8)"
   ]
  },
  {
   "cell_type": "markdown",
   "metadata": {},
   "source": [
    "## Question 9"
   ]
  },
  {
   "cell_type": "markdown",
   "metadata": {},
   "source": [
    "In the cell below, set the noise variance $\\sigma^2$ by making sure that the signal-to-noise ratio $SNR = \\frac{\\operatorname{Var}(\\text{labels})}{\\sigma^2}$ is about  $1.5$.\n",
    "\n",
    "_Note:_ Actually, you might want to play with the noise variance here and set it to different values and see how the denoising filters behave."
   ]
  },
  {
   "cell_type": "code",
   "execution_count": null,
   "metadata": {},
   "outputs": [],
   "source": [
    "noise_variance = labels.std()**2 / 1.5\n",
    "noisy_measurements = labels + noise_variance * np.random.randn(n_nodes)"
   ]
  },
  {
   "cell_type": "markdown",
   "metadata": {},
   "source": [
    "## Question 11"
   ]
  },
  {
   "cell_type": "markdown",
   "metadata": {},
   "source": [
    "Now, denoise the noisy measurements by passing them through the filters that you implemented in Question 6. Choose the filter parameters based on the behavior of the GFT of your original label signal (this is the prior knowledge that you input to the problem)."
   ]
  },
  {
   "cell_type": "markdown",
   "metadata": {},
   "source": [
    "Plot, on your graph, the original label signal, the noisy measurements, and the three denoised version obtained above. Report on each plot the value of the corresponding relative error \n",
    "$$\n",
    "\\text{rel-err} = \\frac{\\|\\text{labels} - z \\|_2}{\\|\\text{labels}\\|_2},\n",
    "$$\n",
    "where $z$ is the plotted signal."
   ]
  },
  {
   "cell_type": "code",
   "execution_count": null,
   "metadata": {},
   "outputs": [],
   "source": [
    "def rel_err(labels, z):\n",
    "    ''' \n",
    "    Calculates the relative error between the true labels and an estimate z\n",
    "    \n",
    "    Args:\n",
    "        labels: Ground truth signal\n",
    "        z: Estimated signal\n",
    "    '''\n",
    "    return np.linalg.norm(labels - z, 2) / np.linalg.norm(labels, 2)"
   ]
  },
  {
   "cell_type": "code",
   "execution_count": null,
   "metadata": {},
   "outputs": [],
   "source": [
    "coplot_network_signal(labels, title='Signal = Ground truth labels')\n",
    "print('Relative Error: {:.2f}'.format(rel_err(labels, labels)))"
   ]
  },
  {
   "cell_type": "code",
   "execution_count": null,
   "metadata": {},
   "outputs": [],
   "source": [
    "coplot_network_signal(noisy_measurements, title='Signal = Noisy measurements')\n",
    "print('Relative Error: {:.2f}'.format(rel_err(labels, noisy_measurements)))"
   ]
  },
  {
   "cell_type": "code",
   "execution_count": null,
   "metadata": {},
   "outputs": [],
   "source": [
    "z_heat_denoised = graph_filter(noisy_measurements, heat_kernel, t=5)\n",
    "coplot_network_signal(z_heat_denoised, title='Signal = Heat denoised measurements')\n",
    "print('Relative Error: {:.2f}'.format(rel_err(labels, z_heat_denoised)))"
   ]
  },
  {
   "cell_type": "code",
   "execution_count": null,
   "metadata": {},
   "outputs": [],
   "source": [
    "z_inv_denoised = graph_filter(noisy_measurements, inverse_kernel, t=5)\n",
    "coplot_network_signal(z_inv_denoised, title='Signal = Inverse denoised measurements')\n",
    "print('Relative Error: {:.2f}'.format(rel_err(labels, z_inv_denoised)))"
   ]
  },
  {
   "cell_type": "code",
   "execution_count": null,
   "metadata": {},
   "outputs": [],
   "source": [
    "z_rect_denoised = graph_filter(noisy_measurements, rectangle_kernel, l_min=0.1, l_max=0.8)\n",
    "coplot_network_signal(z_rect_denoised, title='Signal = Rectangle denoised measurements')\n",
    "print('Relative Error: {:.2f}'.format(rel_err(labels, z_rect_denoised)))"
   ]
  },
  {
   "cell_type": "markdown",
   "metadata": {},
   "source": [
    "Finally, overlay on the same plot the GFT of all five signals above."
   ]
  },
  {
   "cell_type": "code",
   "execution_count": null,
   "metadata": {},
   "outputs": [],
   "source": [
    "signals = {\n",
    "    'Ground truth': labels,\n",
    "    'Noisy measurements': noisy_measurements,\n",
    "    'Heat filtered': z_heat_denoised,\n",
    "    'Inverse filtered': z_inv_denoised,\n",
    "    'Rectangle filtered': z_rect_denoised\n",
    "}\n",
    "\n",
    "plt.figure(figsize=(15,10))\n",
    "\n",
    "for signal_name, signal in signals.items():\n",
    "    plt.plot(signal, label=signal_name)\n",
    "    \n",
    "plt.xlabel('Node index')\n",
    "plt.ylabel('Signal strength')\n",
    "plt.title('Signals on sorted nodes')\n",
    "plt.legend()"
   ]
  },
  {
   "cell_type": "code",
   "execution_count": null,
   "metadata": {},
   "outputs": [],
   "source": []
  }
 ],
 "metadata": {
  "kernelspec": {
   "display_name": "Python 3",
   "language": "python",
   "name": "python3"
  },
  "language_info": {
   "codemirror_mode": {
    "name": "ipython",
    "version": 3
   },
   "file_extension": ".py",
   "mimetype": "text/x-python",
   "name": "python",
   "nbconvert_exporter": "python",
   "pygments_lexer": "ipython3",
   "version": "3.6.6"
  }
 },
 "nbformat": 4,
 "nbformat_minor": 2
}
