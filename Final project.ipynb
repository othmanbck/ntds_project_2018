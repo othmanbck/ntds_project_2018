{
 "cells": [
  {
   "cell_type": "markdown",
   "metadata": {},
   "source": [
    "# Project"
   ]
  },
  {
   "cell_type": "markdown",
   "metadata": {},
   "source": [
    "## Bechdel Test"
   ]
  },
  {
   "cell_type": "markdown",
   "metadata": {},
   "outputs": [],
   "source": [
    "import math\n",
    "import itertools\n",
    "import numpy as np\n",
    "import pandas as pd\n",
    "import matplotlib.pyplot as plt"
   ]
  },
  {
   "cell_type": "code",
   "execution_count": null,
   "metadata": {},
   "outputs": [],
   "source": [
    "# getting adjacency and edges matrices\n",
    "adjacency = pd.read_csv('data/adjacency.csv')\n",
    "#Dropping useless column from adjacency dataframe\n",
    "adjacency.drop('Unnamed: 0', axis = 1, inplace = True)\n",
    "adjacency = adjacency.values\n",
    "np.set_printoptions(suppress = True)\n",
    "#edges\n",
    "edges =  pd.read_csv('data/edges.csv')"
   ]
  },
  {
   "cell_type": "markdown",
   "metadata": {},
   "source": [
    "## Importing from first milestone"
   ]
  },
  {
   "cell_type": "code",
   "execution_count": null,
   "metadata": {},
   "outputs": [],
   "source": [
    "movies = pd.read_csv('data/tmdb_5000_credits.csv')\n",
    "movies = movies[movies.cast != '[]']"
   ]
  },
  {
   "cell_type": "code",
   "execution_count": null,
   "metadata": {},
   "outputs": [],
   "source": [
    "movies.drop(['title', 'crew'], axis=1, inplace=True)\n",
    "movies['cast_id'] = movies['cast'].apply(lambda row: list(set(pd.read_json(row)['id'])))"
   ]
  },
  {
   "cell_type": "code",
   "execution_count": null,
   "metadata": {},
   "outputs": [],
   "source": [
    "discount = movies['cast_id'].apply(pd.Series).stack().value_counts()\n",
    "discount = list(discount[discount > 4].index.astype(int))\n",
    "discount[:10]"
   ]
  },
  {
   "cell_type": "code",
   "execution_count": null,
   "metadata": {},
   "outputs": [],
   "source": [
    "movies['cast_id'] = movies['cast_id'].apply(lambda x: [y for y in x if y in discount])\n",
    "movies['edges'] = movies['cast_id'].apply(lambda x: list(itertools.combinations(x, 2)))\n",
    "edges = list(movies['edges'].apply(pd.Series).stack())\n",
    "edges[0:5]\n",
    "\n",
    "edges_df = pd.DataFrame(edges)"
   ]
  },
  {
   "cell_type": "code",
   "execution_count": null,
   "metadata": {},
   "outputs": [],
   "source": [
    "discarded_movies = set()\n",
    "\n",
    "for idx, movie in movies.iterrows():\n",
    "    if len(movie['edges']) == 0:\n",
    "        discarded_movies.add(movie['movie_id'])\n",
    "\n",
    "print(len(discarded_movies)) "
   ]
  },
  {
   "cell_type": "code",
   "execution_count": null,
   "metadata": {},
   "outputs": [],
   "source": [
    "movies = movies[~movies['movie_id'].isin(discarded_movies)]\n",
    "movies.head()"
   ]
  },
  {
   "cell_type": "code",
   "execution_count": null,
   "metadata": {},
   "outputs": [],
   "source": [
    "frames = pd.DataFrame()\n",
    "new_df = pd.DataFrame()\n",
    "\n",
    "for idx, film in movies.iterrows():\n",
    "    cast_df = pd.DataFrame(eval(movies['cast'][idx]))\n",
    "    cast_df['movies'] = idx\n",
    "    cast_df = cast_df.drop(['character','order','cast_id', 'credit_id'],axis = 1)  \n",
    "    \n",
    "    frames = [new_df, cast_df]\n",
    "    new_df = pd.concat(frames, join = 'outer', ignore_index=True)"
   ]
  },
  {
   "cell_type": "code",
   "execution_count": null,
   "metadata": {},
   "outputs": [],
   "source": [
    "nodes_df = new_df['movies'].groupby([new_df.gender, new_df.id, new_df.name]).apply(list).reset_index()\n",
    "nodes_df = nodes_df[nodes_df.id.isin(discount)]\n",
    "nodes_df"
   ]
  },
  {
   "cell_type": "code",
   "execution_count": null,
   "metadata": {},
   "outputs": [],
   "source": [
    "features = nodes_df.set_index('id').drop('name', axis=1)\n",
    "features.head()"
   ]
  }
 ],
 "metadata": {
  "kernelspec": {
   "display_name": "Python 3",
   "language": "python",
   "name": "python3"
  },
  "language_info": {
   "codemirror_mode": {
    "name": "ipython",
    "version": 3
   },
   "file_extension": ".py",
   "mimetype": "text/x-python",
   "name": "python",
   "nbconvert_exporter": "python",
   "pygments_lexer": "ipython3",
   "version": "3.6.5"
  }
 },
 "nbformat": 4,
 "nbformat_minor": 2
}
