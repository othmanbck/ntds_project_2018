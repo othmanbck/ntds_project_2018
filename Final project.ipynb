{
 "cells": [
  {
   "cell_type": "markdown",
   "metadata": {},
   "source": [
    "# Project"
   ]
  },
  {
   "cell_type": "code",
   "execution_count": null,
   "metadata": {},
   "outputs": [],
   "source": [
    "import math\n",
    "import itertools\n",
    "import numpy as np\n",
    "import pandas as pd\n",
    "import matplotlib.pyplot as plt"
   ]
  },
  {
   "cell_type": "markdown",
   "metadata": {},
   "source": [
    "## Sinan Bursa"
   ]
  },
  {
   "cell_type": "code",
   "execution_count": null,
   "metadata": {},
   "outputs": [],
   "source": [
    "credits = pd.read_csv('data/tmdb_5000_credits.csv')\n",
    "credits = credits[credits.cast != '[]']\n",
    "\n",
    "\n",
    "movies = pd.read_csv('data/tmdb_5000_movies.csv')\n",
    "movies.drop(['homepage', 'keywords','original_language','overview','release_date','spoken_languages', \\\n",
    "             'status','title','tagline','vote_count'\\\n",
    "            ], \\\n",
    "            axis=1, \\\n",
    "            inplace=True \\\n",
    "           )"
   ]
  },
  {
   "cell_type": "code",
   "execution_count": null,
   "metadata": {},
   "outputs": [],
   "source": [
    "credits.drop(['title', 'crew'], axis=1, inplace=True)\n",
    "credits['cast_id'] = credits['cast'].apply(lambda row: list(set(pd.read_json(row)['id'])))\n",
    "#credits['cast_name'] = credits['cast'].apply(lambda row: list(set(pd.read_json(row)['name'])))\n",
    "#credits['gender'] = credits['cast'].apply(lambda row: list(set(pd.read_json(row)['gender'])))"
   ]
  },
  {
   "cell_type": "code",
   "execution_count": null,
   "metadata": {},
   "outputs": [],
   "source": [
    "discount = credits['cast_id'].apply(pd.Series).stack().value_counts()\n",
    "discount = list(discount[discount > 4].index.astype(int))\n",
    "discount[:10]"
   ]
  },
  {
   "cell_type": "code",
   "execution_count": null,
   "metadata": {},
   "outputs": [],
   "source": [
    "credits['cast_id'] = credits['cast_id'].apply(lambda x: [y for y in x if y in discount])\n",
    "credits['edges'] = credits['cast_id'].apply(lambda x: list(itertools.combinations(x, 2)))\n",
    "edges = list(credits['edges'].apply(pd.Series).stack())\n",
    "edges[0:5]\n",
    "\n",
    "edges_df = pd.DataFrame(edges)"
   ]
  },
  {
   "cell_type": "code",
   "execution_count": null,
   "metadata": {},
   "outputs": [],
   "source": [
    "discarded_movies = set()\n",
    "\n",
    "for idx, movie in credits.iterrows():\n",
    "    if len(movie['edges']) == 0:\n",
    "        discarded_movies.add(movie['movie_id'])\n",
    "\n",
    "print(len(discarded_movies)) "
   ]
  },
  {
   "cell_type": "code",
   "execution_count": null,
   "metadata": {
    "scrolled": false
   },
   "outputs": [],
   "source": [
    "credits = credits[~credits['movie_id'].isin(discarded_movies)]\n",
    "credits.head()"
   ]
  },
  {
   "cell_type": "code",
   "execution_count": null,
   "metadata": {},
   "outputs": [],
   "source": [
    "movies['profit'] = movies['revenue']-movies['budget']\n",
    "movies_credits = movies.merge(credits, left_on='id', right_on='movie_id', how='inner').drop(columns=['movie_id'])"
   ]
  },
  {
   "cell_type": "code",
   "execution_count": null,
   "metadata": {},
   "outputs": [],
   "source": [
    "movies_credits = movies_credits[movies_credits.genres != '[]']\n",
    "movies_credits['genre_id'] = movies_credits['genres'].apply(lambda row: list(set(pd.read_json(row)['id'])))"
   ]
  },
  {
   "cell_type": "code",
   "execution_count": null,
   "metadata": {},
   "outputs": [],
   "source": [
    "profit_df = pd.DataFrame(movies_credits.cast_id.tolist(), index=movies_credits.profit).stack().reset_index(name='cast_id')[['cast_id','profit']]\n",
    "profit_df['cast_id'] = profit_df.cast_id.astype(int)\n",
    "profit_df = profit_df.groupby('cast_id', as_index=False).mean()\n",
    "profit_df.set_index('cast_id', inplace=True)\n",
    "profit_df.head()\n"
   ]
  },
  {
   "cell_type": "code",
   "execution_count": null,
   "metadata": {},
   "outputs": [],
   "source": [
    "ranking_df = pd.DataFrame(movies_credits.cast_id.tolist(), index=movies_credits.vote_average).stack().reset_index(name='cast_id')[['cast_id','vote_average']]\n",
    "ranking_df['cast_id'] = ranking_df.cast_id.astype(int)\n",
    "ranking_df = ranking_df.groupby('cast_id', as_index=False).mean()\n",
    "ranking_df.set_index('cast_id', inplace=True)\n",
    "ranking_df.head()\n",
    "     "
   ]
  },
  {
   "cell_type": "code",
   "execution_count": null,
   "metadata": {
    "scrolled": true
   },
   "outputs": [],
   "source": [
    "genre = movies_credits[['cast_id', 'genre_id']]\n",
    "genre.loc[:, 'genre_id_disc'] = genre['genre_id'].apply(lambda x: x[0])"
   ]
  },
  {
   "cell_type": "code",
   "execution_count": null,
   "metadata": {},
   "outputs": [],
   "source": [
    "genre_df = pd.DataFrame(genre.cast_id.tolist(), index=genre.genre_id_disc).stack().reset_index(name='cast_id')[['cast_id','genre_id_disc']]\n",
    "most_freq_genre = genre_df.groupby(['cast_id']).agg(lambda x:x.value_counts().index[0])\n"
   ]
  },
  {
   "cell_type": "code",
   "execution_count": null,
   "metadata": {},
   "outputs": [],
   "source": [
    "actors = ranking_df.merge(most_freq_genre, on='cast_id', how='inner')\n",
    "actors = actors.merge(profit_df, on='cast_id', how='inner')"
   ]
  },
  {
   "cell_type": "code",
   "execution_count": null,
   "metadata": {},
   "outputs": [],
   "source": [
    "actors = actors.reset_index()\n",
    "actors.head()"
   ]
  },
  {
   "cell_type": "code",
   "execution_count": null,
   "metadata": {},
   "outputs": [],
   "source": [
    "frames = pd.DataFrame()\n",
    "new_df = pd.DataFrame()\n",
    "\n",
    "for idx, film in credits.iterrows():\n",
    "    cast_df = pd.DataFrame(eval(credits['cast'][idx]))\n",
    "    cast_df['credits'] = idx\n",
    "    cast_df = cast_df.drop(['character','order', 'credit_id', 'cast_id'],axis = 1)  \n",
    "    \n",
    "    frames = [new_df, cast_df]\n",
    "    new_df = pd.concat(frames, join = 'outer', ignore_index=True)"
   ]
  },
  {
   "cell_type": "code",
   "execution_count": null,
   "metadata": {},
   "outputs": [],
   "source": [
    "nodes_df = new_df['credits'].groupby([new_df.gender, new_df.id, new_df.name]).apply(list).reset_index()\n",
    "nodes_df = nodes_df[nodes_df.id.isin(discount)]\n",
    "nodes_df.drop(columns=['credits'], inplace=True)\n",
    "nodes_df = nodes_df[nodes_df['gender'].isin(['1','2'])]"
   ]
  },
  {
   "cell_type": "code",
   "execution_count": null,
   "metadata": {},
   "outputs": [],
   "source": [
    "actors = actors.merge(nodes_df, left_on = 'cast_id', right_on='id', how='inner').drop(columns=['cast_id'])"
   ]
  },
  {
   "cell_type": "code",
   "execution_count": null,
   "metadata": {},
   "outputs": [],
   "source": [
    "actors = actors[['name', 'id', 'gender', 'genre_id_disc', 'vote_average', 'profit']]"
   ]
  },
  {
   "cell_type": "code",
   "execution_count": null,
   "metadata": {},
   "outputs": [],
   "source": [
    "actors[actors['name']=='Leonardo DiCaprio']"
   ]
  },
  {
   "cell_type": "code",
   "execution_count": null,
   "metadata": {},
   "outputs": [],
   "source": [
    "actors.sort_values(by='profit', ascending=False)"
   ]
  },
  {
   "cell_type": "code",
   "execution_count": null,
   "metadata": {
    "scrolled": true
   },
   "outputs": [],
   "source": [
    "features = nodes_df.set_index('id').drop('name', axis=1)\n",
    "features.head()"
   ]
  },
  {
   "cell_type": "markdown",
   "metadata": {},
   "source": [
    "## Bechdel Test"
   ]
  },
  {
   "cell_type": "code",
   "execution_count": null,
   "metadata": {},
   "outputs": [],
   "source": [
    "with open('data/bechdel.pkl', 'rb') as pkl_file: \n",
    "    movies_bechdel = pickle.load(pkl_file)\n",
    "    \n",
    "movies_bechdel.head()"
   ]
  }
 ],
 "metadata": {
  "kernelspec": {
   "display_name": "Python 3",
   "language": "python",
   "name": "python3"
  },
  "language_info": {
   "codemirror_mode": {
    "name": "ipython",
    "version": 3
   },
   "file_extension": ".py",
   "mimetype": "text/x-python",
   "name": "python",
   "nbconvert_exporter": "python",
   "pygments_lexer": "ipython3",
   "version": "3.6.6"
  }
 },
 "nbformat": 4,
 "nbformat_minor": 2
}
